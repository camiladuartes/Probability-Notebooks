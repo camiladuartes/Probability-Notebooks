{
  "nbformat": 4,
  "nbformat_minor": 0,
  "metadata": {
    "colab": {
      "name": "Lesson_19_Measures_of_Variability.ipynb",
      "version": "0.3.2",
      "provenance": [],
      "collapsed_sections": []
    },
    "kernelspec": {
      "name": "python3",
      "display_name": "Python 3"
    }
  },
  "cells": [
    {
      "cell_type": "code",
      "metadata": {
        "id": "LBs2nRbCylKA",
        "colab_type": "code",
        "outputId": "da7b3da6-dfd8-49c9-c0cf-fd620fa85e87",
        "colab": {
          "base_uri": "https://localhost:8080/",
          "height": 54
        }
      },
      "source": [
        "'''\n",
        "  Variabilidade: diferencia as destribuições que tem mesma média, mediana, ...\n",
        "  \n",
        "  Diferenciar:\n",
        "    Medir variabilidade: faixa(Range) ---> valor max - valor min\n",
        "    \n",
        "    Calcular distância média: somatório da distância de cada elem em relação à média\n",
        "      dividido pela quantidade. Número maior: maior variabilidade.\n",
        "  \n",
        "    Distância média absoluta: Mesma equação com o módulo\n",
        "    \n",
        "    Distância média quadrática/Variância: somatório da distância de cada elem em relação à média elevando ao quadrado\n",
        "      dividido pela quantidade. (diz se o desvio padrao eh bom ou nao. Se variancia for alta, dp tb eh. Eh ao quadrado)\n",
        "    \n",
        "    Desvio padrão: somatório da distância de cada elem em relação à média elevando ao quadrado\n",
        "      dividido pela quantidade. No fim faz raíz quadrada (da informacao de como os dados estao variando em torno da media)\n",
        "      \n",
        "      \n",
        "  Intervalo de confiança: 0,95 de confiança. 95% dos dados estão em torno da média.\n",
        "  \n",
        "  Em geral, desvio padrão da amostra é menor do q o da população. Aproxima com a\n",
        "    Correção de Bessel(desvio padrão que divide por n-1 ao invés de n)(com amostra.)\n",
        "\n",
        "'''"
      ],
      "execution_count": 0,
      "outputs": [
        {
          "output_type": "execute_result",
          "data": {
            "text/plain": [
              "'\\n  Variabilidade: diferencia as destribuições que tem mesma média, mediana, ...\\n  \\n  Diferenciar:\\n    Medir variabilidade: faixa(Range) ---> valor max - valor min\\n    \\n    Calcular distância média: somatório da distância de cada elem em relação à média\\n      dividido pela quantidade. Número maior: maior variabilidade.\\n  \\n    Distância média absoluta: Mesma equação com o módulo\\n    \\n    Distância média quadrática/Variância: somatório da distância de cada elem em relação à média elevando ao quadrado\\n      dividido pela quantidade. (diz se o desvio padrao eh bom ou nao. Se variancia for alta, dp tb eh. Eh ao quadrado)\\n    \\n    Desvio padrão: somatório da distância de cada elem em relação à média elevando ao quadrado\\n      dividido pela quantidade. No fim faz raíz quadrada (da informacao de como os dados estao variando em torno da media)\\n      \\n      \\n  Intervalo de confiança: 0,95 de confiança. 95% dos dados estão em torno da média.\\n  \\n  Em geral, desvio padrão da amostra é menor do q o da população. Aproxima com a\\n    Correção de Bessel(desvio padrão que divide por n-1 ao invés de n)(com amostra.)\\n\\n'"
            ]
          },
          "metadata": {
            "tags": []
          },
          "execution_count": 2
        }
      ]
    },
    {
      "cell_type": "markdown",
      "metadata": {
        "id": "t8yuPXSAmTIW",
        "colab_type": "text"
      },
      "source": [
        "# 1 - The Range"
      ]
    },
    {
      "cell_type": "markdown",
      "metadata": {
        "id": "ipN1N-DFm3W3",
        "colab_type": "text"
      },
      "source": [
        "So far we've focused entirely on summarizing distributions using the **mean**, the **weighted mean**, the **median**, and the **mode**. An interesting distribution property we haven't yet discussed is **variability**. Consider, for instance, these two distributions of numerical values:\n",
        "\n",
        "\n",
        "<img width=\"150\" src=\"https://drive.google.com/uc?export=view&id=1oLZvk-JGfbK9vrxSW3vOgyRKKGhWHHVN\">\n",
        "\n",
        "\n",
        "The values of the distribution A don't vary — each value is 4. The values in distribution B  show some variability — they are not all identical, and the values can be either 8 or 0. **If we were to quantify variability**, we could assign a value of 0 to A to indicate that it has no variability. But **what variability value should we assign to distribution B?**\n",
        "\n",
        "We need a measure to summarize the **variability** of these two distributions. The summary metrics we've learned so far don't tell us anything about variability. The **mean**, the **median**, and the **mode** of distribution A are all 4, and distribution B has a **mean** and a **median** of 4, and **no mode**. If we were to judge variability based on these values, we'd probably have to conclude that the variabilities of the two distributions are equal, which is wrong.\n",
        "\n",
        "One intuitive way to measure the variability of a distribution is to find the **difference between the maximum and the minimum value**. Both the maximum and the minimum of distribution  A is 4, so the variability of distribution  is 0:\n",
        "\n",
        "$$\n",
        "max(A) - min(A) = 4 - 4 = 0\n",
        "$$\n",
        "\n",
        "We call this measure of variability the **range**. So the range of distribution A is 0. The range of distribution B  is 8:\n",
        "\n",
        "$$\n",
        "max(B) - min(B) = 8 - 0 = 8\n",
        "$$\n",
        "\n",
        "In more general terms, the range of distribution X, where  X can be any distribution of real numbers, is:\n",
        "\n",
        "$$\n",
        "range(X) = max(X) - min(X)\n",
        "$$\n",
        "\n",
        "\n",
        "We'll continue working in this mission with the data set on house prices we used for the last three lessons. Here's a short extract from the data set to help you recollect its structure:\n",
        "\n",
        "\n",
        "| | Order | PID | MS SubClass | MS Zoning | Lot Frontage | Lot Area | Street | Alley | Lot Shape | Sale Condition | SalePrice |        \n",
        "|-------|-----|-------------|-----------|--------------|----------|--------|-------|-----------|----------------|-----------|--------|\n",
        "| 0     | 1   | 526301100   | 20        | RL           | 141.0    | 131770 | Pave  | NaN       | WD             | Normal    | 215000 |\n",
        "| 1     | 2   | 526350040   | 20        | RH           | 80.0     | 11622  | Pave  | NaN       | WD             | Normal    | 105000 |\n",
        "| 2     | 3   | 526351010   | 20        | RL           | 81.0     | 14267  | Pave  | NaN       | WD             | Normal    | 172000 |\n",
        "| 3     | 4   | 526353030   | 20        | RL           | 93.0     | 11160  | Pave  | NaN       | WD             | Normal    | 244000 |\n",
        "| 4     | 5   | 527105010   | 60        | RL           | 74.0     | 13830  | Pave  | NaN       | WD             | Normal    | 189900 |\n",
        "\n",
        "\n",
        "**Exercise**\n",
        "\n",
        "<img width=\"100\" src=\"https://drive.google.com/uc?export=view&id=1E8tR7B9YYUXsU_rddJAyq0FrM0MSelxZ\">\n",
        "\n",
        "\n",
        "- Write a function that takes in an array of numerical values and returns the range of that array.\n",
        "\n",
        "- Using the function you wrote, measure the range of the **SalePrice** variable for each year of sales. You can find the year of sale in the **Yr Sold** column.\n",
        "  - Store the measures in a dictionary named **range_by_year**. The keys should be the individual years, and the dictionary values should be the ranges. This is how the dictionary should look like: **{2010: 598868, 2009: 575100, 2008: 601900,...}**.\n",
        "- Using the measures of **variability** you got, asses the truth value of the following sentences:\n",
        "  - Prices had the greatest variability in 2008.\n",
        "    - If you consider this sentence true, assign the boolean **True** to a variable named **one**, otherwise assign **False**.\n",
        "  - Prices variability had a peak in 2007, then the variability started to decrease until 2010 when there was a short increase in variability compared to the previous year (2009).\n",
        "    - If you consider this sentence true, assign the boolean **True** to a variable named **two**, otherwise assign **False**.\n",
        "\n"
      ]
    },
    {
      "cell_type": "code",
      "metadata": {
        "id": "_kprMFtsnb03",
        "colab_type": "code",
        "outputId": "b83dae45-d1d5-4f41-e818-1ab84f64221b",
        "colab": {
          "base_uri": "https://localhost:8080/",
          "height": 34
        }
      },
      "source": [
        "import pandas as pd\n",
        "houses = pd.read_csv('AmesHousing_1.txt',sep=\"\\t\")\n",
        "\n",
        "# put your code here\n",
        "def get_range(array):\n",
        "  maior_valor = max(array)\n",
        "  menor_valor = min(array)\n",
        "  return maior_valor - menor_valor\n",
        "  \n",
        "range_by_year = {}\n",
        "\n",
        "for i in houses[\"Yr Sold\"].unique():\n",
        "  range_by_year[i] = get_range(houses[houses[\"Yr Sold\"] == i][\"SalePrice\"])\n",
        "\n",
        "\n",
        "print(range_by_year)\n",
        "one = False\n",
        "two = True"
      ],
      "execution_count": 0,
      "outputs": [
        {
          "output_type": "stream",
          "text": [
            "{2010: 598868, 2009: 575100, 2008: 601900, 2007: 715700, 2006: 590000}\n"
          ],
          "name": "stdout"
        }
      ]
    },
    {
      "cell_type": "markdown",
      "metadata": {
        "id": "TIAsUks1rtzG",
        "colab_type": "text"
      },
      "source": [
        "# 2 - The Average Distance"
      ]
    },
    {
      "cell_type": "markdown",
      "metadata": {
        "id": "fAglUfY3r5vZ",
        "colab_type": "text"
      },
      "source": [
        "The problem with the **range** is that it considers only two values in the distribution — the **minimum** and the **maximum** value. Consider this distribution C:\n",
        "\n",
        "$$\n",
        "C = [1,1,1,1,1,1,1,1,1,21]\n",
        "$$\n",
        "\n",
        "We can see there's not much **variability** in distribution C - we have nine values of 1, and a single value of 21. Intuitively, we'd expect the variability of distribution C to be greater than 0 because there is some variability after all, but not much greater than 0 (remember from the last screen that a distribution whose values don't vary should ideally have a variability of 0).\n",
        "\n",
        "Despite our expectations, the range indicates that the variability of distribution  C is 20.\n",
        "\n",
        "$$\n",
        "max(C) - min(C) = 21 - 1 = 20\n",
        "$$\n",
        "\n",
        "This is signficantly greater than 0 and doesn't seem like a reasonable measure of variability for distribution C. The root of the problem is that the range considers only the two extreme values, and this makes it extremely sensitive to outliers. To get a more balanced measure of variability for distribution C, we need to take into account each value in the distribution.\n",
        "\n",
        "\n",
        "To take into account each value when measuring variability we could:\n",
        "\n",
        "1. Take a reference value, and measure the distance of each value in the distribution from that reference value.\n",
        "  - We can take the mean of the distribution as a reference value.\n",
        "  - Then, we measure the distance between each value in the distribution and the mean.\n",
        "2. Find the mean of the distances.\n",
        "  - We first need to sum up all the distances.\n",
        "  - Then we need to divide the total by the number of distances.\n",
        "  \n",
        "<img width=\"300\" src=\"https://drive.google.com/uc?export=view&id=1F6z138WEkF049XXla0fYXXAqV4OMjKug\">\n",
        "\n",
        "\n",
        "By measuring the distance of each value relative to a reference point and then taking the mean of the distances, we practically measure how much the values of a distribution vary on average with respect to that reference point.\n",
        "\n",
        "It's also very easy to define algebraically this method for any population of values  $[x_1,x_2,\\ldots,x_N]$ with mean $\\mu$:\n",
        "\n",
        "\n",
        "<img width=\"500\" src=\"https://drive.google.com/uc?export=view&id=1pPKfQKYjX_6eLDjJxgAQwNoS681AG0wj\">\n",
        "\n",
        "We'll continue discussing about this method in the next screen, but now let's use the formula above to measure the variability of distribution C.\n",
        "\n",
        "\n",
        "\n",
        "**Exercise**\n",
        "\n",
        "<img width=\"100\" src=\"https://drive.google.com/uc?export=view&id=1E8tR7B9YYUXsU_rddJAyq0FrM0MSelxZ\">\n",
        "\n",
        "\n",
        "- Write a function that takes in a numerical array and returns the average distance (as explained above). Inside the function's defition:\n",
        "  - Compute the mean of the array.\n",
        "  - Initialize an empty list.\n",
        "  - Loop through the values of the array. For each iteration:\n",
        "    - Compute the distance between the current value and the mean. Use **value - mean** every time, as indicated by the formula.\n",
        "    - Append the distance to the list we initialized before the loop.\n",
        "  - At the end of the loop, the list should contain all the distances.\n",
        "  - Return the mean of the list.\n",
        "- Compute the average distance for distribution C  using the function you wrote, and assign the result to a variable named **avg_distance.**\n",
        "- Print the result. Why do you think we got that value? (Hint: The mean is the balance point of a distribution.)\n"
      ]
    },
    {
      "cell_type": "code",
      "metadata": {
        "id": "oB50nqxXtOrc",
        "colab_type": "code",
        "outputId": "c2a040f3-e2cc-45d5-e71a-e8907c8e9c66",
        "colab": {
          "base_uri": "https://localhost:8080/",
          "height": 34
        }
      },
      "source": [
        "C = [1,1,1,1,1,1,1,1,1,21]\n",
        "\n",
        "# put your code here\n",
        "def average_distance(C):\n",
        "  array_mean = sum(C)/len(C)\n",
        "  list = []\n",
        "  for i in C:\n",
        "    list.append(i - array_mean)\n",
        "  return sum(list)/len(list)\n",
        "\n",
        "avg_distance = average_distance(C)\n",
        "print(\"Average distance: \", avg_distance)"
      ],
      "execution_count": 0,
      "outputs": [
        {
          "output_type": "stream",
          "text": [
            "Average distance:  0.0\n"
          ],
          "name": "stdout"
        }
      ]
    },
    {
      "cell_type": "markdown",
      "metadata": {
        "id": "eXp35jn1xRMv",
        "colab_type": "text"
      },
      "source": [
        "# 3 -Mean Absolute Deviation\n"
      ]
    },
    {
      "cell_type": "markdown",
      "metadata": {
        "id": "_gwKm7rcMEqL",
        "colab_type": "text"
      },
      "source": [
        "In the last exercise the average distance was 0. This is because the **mean** is the **balance point** of the distribution and, as we've learned, the total distance of the values that are above the mean is the same as the total distance of the values below the mean. The mean $\\mu$ of the distribution  C is 3, so we have:\n",
        "\n",
        "<img width=\"400\" src=\"https://drive.google.com/uc?export=view&id=1nZHuW_kHSzl9h8lUWx6P7rflshCkjcQm\">\n",
        "\n",
        "\n",
        "Plugging the distances into the formula we used in the previous screen will make the numerator amount to 0, which in turn will make the average distance 0:\n",
        "\n",
        "$$\n",
        "\\text{average distance} = \\frac{-18 + 18}{10} = \\frac{0}{10}\n",
        "$$\n",
        "\n",
        "To solve this problem, we can take the absolute value of each distance, and then sum up the absolute values. The **absolute value** (also called **modulus**) of a number is the positive version of that number, regardless of its sign. For instance, the absolute value of -7 is +7, and the absolute value of +7 is +7. In mathematical notation we write:\n",
        "\n",
        "$$\n",
        "|-7| = +7\\\\\n",
        "|+7| = +7\n",
        "$$\n",
        "\n",
        "We'll update the formula used previously to reflect the fact the we're summing up the absolute distances instead:\n",
        "\n",
        "$$\n",
        "\\text{mean absolute distance} = \\frac{|x_1 - \\mu| + |x_2 - \\mu| + \\ldots + |x_N - \\mu|}{N} = \\frac{\\displaystyle \\sum_{i=1}^{N} |x_i - \\mu|}{N}\n",
        "$$\n",
        "\n",
        "We call this measure of variability **mean absolute distance**. In statistical jargon, however, the distance of a value from the mean is called **deviation**. So the mean absolute distance is more commonly known as **mean absolute deviation** or **average absolute deviation.**\n",
        "\n",
        "Let's take the mean absolute deviation of distribution C  and see whether this metric does better than the range. Remember that the range is 20, but we expect a smaller value (which is greater than 0 at the same time).\n",
        "\n",
        "\n",
        "**Exercise**\n",
        "\n",
        "<img width=\"100\" src=\"https://drive.google.com/uc?export=view&id=1E8tR7B9YYUXsU_rddJAyq0FrM0MSelxZ\">\n",
        "\n",
        "\n",
        "- Write a function that takes in a numerical array and returns the **mean absolute deviation**. Inside the function:\n",
        "  - Compute the **mean** of the array.\n",
        "  - Loop through the values of the array. For each iteration:\n",
        "    - Compute the absolute distance (deviation). You can use the **abs()** function.\n",
        "    - Append the absolute distance to a list.\n",
        "  - Return the mean of the list containing all the absolute distances.\n",
        "- Compute the mean absolute deviation of distribution C, and assign the result to a variable named **mad**.\n",
        "  - Is the result considerably less than 20 but greater than 0, as we expected?"
      ]
    },
    {
      "cell_type": "code",
      "metadata": {
        "id": "eG5MuRU9MlVw",
        "colab_type": "code",
        "outputId": "5b1786e6-c1a9-49d4-b0ba-a5977b689c29",
        "colab": {
          "base_uri": "https://localhost:8080/",
          "height": 34
        }
      },
      "source": [
        "C = [1,1,1,1,1,1,1,1,1,21]\n",
        "\n",
        "# put your code here\n",
        "def mean_absolute_deviation(C):\n",
        "  array_mean = sum(C)/len(C)\n",
        "  list = []\n",
        "  for i in C:\n",
        "    if i - array_mean < 0:\n",
        "      list.append((i - array_mean)*-1)\n",
        "    else:\n",
        "      list.append(i - array_mean)\n",
        "  return sum(list)/len(list)\n",
        "\n",
        "mad = mean_absolute_deviation(C)\n",
        "print(\"Mean absolute deviation: \", mad)"
      ],
      "execution_count": 0,
      "outputs": [
        {
          "output_type": "stream",
          "text": [
            "Mean absolute deviation:  3.6\n"
          ],
          "name": "stdout"
        }
      ]
    },
    {
      "cell_type": "markdown",
      "metadata": {
        "id": "wHRb5fJyQQdX",
        "colab_type": "text"
      },
      "source": [
        "# 4- Variance"
      ]
    },
    {
      "cell_type": "markdown",
      "metadata": {
        "id": "lKRrfyuwb-MN",
        "colab_type": "text"
      },
      "source": [
        "In the previous screen we transformed the distances to absolute values to avoid having the sum of distances amount to 0 in the numerator. Another way to solve this problem is to square each distance and then find the mean of all the squared distances:\n",
        "\n",
        "$$\n",
        "\\text{mean squared distance} = \\frac{(x_1 - \\mu)^2 + (x_2 - \\mu)^2 + \\ldots + (x_N - \\mu)^2}{N} = \\frac{\\displaystyle \\sum_{i=1}^{N} (x_i - \\mu)^2}{N}\n",
        "$$\n",
        "\n",
        "This measure of variability is sometimes called **mean squared distance** or **mean squared deviation** (remember that \"distance\" and \"deviation\" are synonymous in this context). However, it's more commonly known as **variance.**\n",
        "\n",
        "Squaring the distances or taking their absolute values ensure that we get a variability value that is greater than 0 for all distributions that show some variability. Notice, however, that variance and mean absolute deviation will still be 0 for distributions that show no variability.\n",
        "\n",
        "Consider distribution $D = [2,2,2]$ , which has a variance and a mean absolute deviation of 0:\n",
        "\n",
        "<img width=\"500\" src=\"https://drive.google.com/uc?export=view&id=1eWnhIv6R4izaRdpppfF2oIqw-F-fUpI3\">\n",
        "\n",
        "\n",
        "In the previous exercise, we got a mean absolute deviation of 3.6 for our distribution $C = [1,1,1,1,1,1,1,1,1,21]$. A value of 3.6 fitted well our expectations because we had expected a variability value greater than 0, but significantly less than 20. Let's see how well variance does with measuring the variability of distribution C.\n",
        "\n",
        "**Exercise**\n",
        "\n",
        "<img width=\"100\" src=\"https://drive.google.com/uc?export=view&id=1E8tR7B9YYUXsU_rddJAyq0FrM0MSelxZ\">\n",
        "\n",
        "- Write a function that takes in a numerical array and returns the variance of that array. Inside the function:\n",
        "  - Compute the mean of the array.\n",
        "  - Loop through the values of the array. For each iteration:\n",
        "    - Compute the squared distance (squared deviation).\n",
        "    - Append the squared distance to a list.\n",
        "  - Return the mean of the list of squared distances.\n",
        "- Compute the variance of distribution C, and assign the result to a variable named **variance_C.**\n",
        "  - Is the result considerably less than 20 but greater than 0, as we expected?\n"
      ]
    },
    {
      "cell_type": "code",
      "metadata": {
        "id": "UiWRIVaJfT6V",
        "colab_type": "code",
        "outputId": "03535fd6-9e3e-45d2-8040-b6eda6fe6086",
        "colab": {
          "base_uri": "https://localhost:8080/",
          "height": 34
        }
      },
      "source": [
        "C = [1,1,1,1,1,1,1,1,1,21]\n",
        "\n",
        "# put your code here\n",
        "def get_variance(C):\n",
        "  array_mean = sum(C)/len(C)\n",
        "  list = []\n",
        "  for i in C:\n",
        "    list.append((i - array_mean)**2)\n",
        "  return sum(list)/len(list)\n",
        "\n",
        "variance_C = get_variance(C)\n",
        "print(\"Variance: \", variance_C)"
      ],
      "execution_count": 0,
      "outputs": [
        {
          "output_type": "stream",
          "text": [
            "Variance:  36.0\n"
          ],
          "name": "stdout"
        }
      ]
    },
    {
      "cell_type": "markdown",
      "metadata": {
        "id": "rrlrqHTVmqxk",
        "colab_type": "text"
      },
      "source": [
        "# 5 - Standard Deviation"
      ]
    },
    {
      "cell_type": "markdown",
      "metadata": {
        "id": "hfvR4lPMm40I",
        "colab_type": "text"
      },
      "source": [
        "In the previous exercise, we got a variance of 36 for distribution $C = [1,1,1,1,1,1,1,1,1,21]$ , which was much more than we had expected. This high variability value is the direct result of the squaring process, which makes most distances much bigger than they actually are.\n",
        "\n",
        "Squaring the distances also has the drawback of squaring the units of measurement. Let's consider this small sample from the **Bedroom AbvGr** variable (which describes the number of bedrooms in a house):\n",
        "\n",
        "$$\n",
        "[0,7,8]\n",
        "$$\n",
        "\n",
        "For computational purposes, and sometimes for simplicity, we tend to leave out the units of measurement in practice, but theoretically we should write out the units of measurement:\n",
        "\n",
        "$$\n",
        "[\\text{0 bedroom}, \\text{1 bedrooms}, \\text{2 bedrooms}]\n",
        "$$\n",
        "\n",
        "The units of measurement are subject to algebraic operations, so the variance of the sample above will be (for formatting purposes, we'll abbreviate \"bedrooms\" with \"b\"):\n",
        "\n",
        "\n",
        "<img width=\"400\" src=\"https://drive.google.com/uc?export=view&id=1wyImzSVrOO4ydqCuE4nRwtwvTY5rcxOj\">\n",
        "\n",
        "\n",
        "The variance of this distribution is $12.\\overline{6}$, which is very counterintuitive ($12.\\overline{6}$ is the abbrevation for  $12.6666\\ldots 666\\ldots$). To solve this problem and also reduce the variability value, we can take the square root of variance.\n",
        "\n",
        "$$\n",
        "\\sqrt{variance} = \\sqrt{12.\\overline{6} \\ \\ bedrooms^2} = 3.6 \\ \\ bedrooms\n",
        "$$\n",
        "\n",
        "The square root of variance is called **standard deviation** (remember that \"deviation\" is synonymous with \"distance\"), and it can be expressed like this in an algebraic definition:\n",
        "\n",
        "$$\n",
        "\\text{standard deviation} = \\sqrt{\\frac{(x_1 - \\mu)^2 + (x_2 - \\mu)^2 + \\ldots + (x_N - \\mu)^2}{N}} = \\sqrt{\\frac{\\displaystyle \\sum_{i=1}^{N} (x_i - \\mu)^2}{N}}\n",
        "$$\n",
        "\n",
        "Notice that the standard deviation is simply the square root of variance:\n",
        "\n",
        "$$\n",
        "\\sqrt{variance} = standard \\ \\ deviation\n",
        "$$\n",
        "\n",
        "Let's return to our distribution $C=[1,1,1,1,1,1,1,1,1,21]$, and see how well standard deviation does on measuring its variability.\n",
        "\n",
        "\n",
        "**Exercise**\n",
        "\n",
        "<img width=\"100\" src=\"https://drive.google.com/uc?export=view&id=1E8tR7B9YYUXsU_rddJAyq0FrM0MSelxZ\">\n",
        "\n",
        "- Write a function that takes in a numerical array and returns the standard deviation of that array. Inside the function:\n",
        "  - Compute the mean of the array.\n",
        "  - Loop through the values of the array. For each iteration:\n",
        "    - Compute the squared distance (squared deviation).\n",
        "    - Append the squared distance to a list.\n",
        "  - Compute the mean of the list of squared distances — this is the variance.\n",
        "  - Return the square root of the variance.\n",
        "- Compute the standard deviation of distribution C, and assign the result to a variable named **standard_deviation_C.**\n",
        "- Is the result considerably less than 20 but greater than 0, as we expected?"
      ]
    },
    {
      "cell_type": "code",
      "metadata": {
        "id": "v4i9nZUxnK46",
        "colab_type": "code",
        "outputId": "a2b6d371-3112-45aa-fba3-8062b3e6aa05",
        "colab": {
          "base_uri": "https://localhost:8080/",
          "height": 34
        }
      },
      "source": [
        "from math import sqrt\n",
        "C = [1,1,1,1,1,1,1,1,1,21]\n",
        "\n",
        "# put your code here\n",
        "def get_standard_deviation(C):\n",
        "  array_mean = sum(C)/len(C)\n",
        "  list = []\n",
        "  for i in C:\n",
        "    list.append((i - array_mean)**2)\n",
        "  variance = sum(list)/len(list)\n",
        "  return sqrt(variance)\n",
        "\n",
        "standard_deviation_C = get_standard_deviation(C)\n",
        "print(\"Standard Deviation: \", standard_deviation_C)"
      ],
      "execution_count": 0,
      "outputs": [
        {
          "output_type": "stream",
          "text": [
            "Standard Deviation:  6.0\n"
          ],
          "name": "stdout"
        }
      ]
    },
    {
      "cell_type": "markdown",
      "metadata": {
        "id": "wXB5Dse6qE7i",
        "colab_type": "text"
      },
      "source": [
        "# 6 - Average Variability Around the Mean"
      ]
    },
    {
      "cell_type": "markdown",
      "metadata": {
        "id": "9_Lu0oEQqoJ0",
        "colab_type": "text"
      },
      "source": [
        "In practice, **standard deviation** is perhaps the most used measure of variability. Let's try to get a better understanding of it by measuring the variability of the **SalePrice** variable in our data set. We'll use the **standard_deviation()** function we wrote for the previous exercise:"
      ]
    },
    {
      "cell_type": "code",
      "metadata": {
        "id": "Vi0SY6mUr0af",
        "colab_type": "code",
        "colab": {}
      },
      "source": [
        "def standard_deviation(array):\n",
        "    reference_point = sum(array) / len(array)\n",
        "    \n",
        "    distances = []\n",
        "    for value in array:\n",
        "        squared_distance = (value - reference_point)**2\n",
        "        distances.append(squared_distance)\n",
        "        \n",
        "    variance = sum(distances) / len(distances)\n",
        "    \n",
        "    return sqrt(variance)"
      ],
      "execution_count": 0,
      "outputs": []
    },
    {
      "cell_type": "code",
      "metadata": {
        "colab_type": "code",
        "id": "_ZvFLm_o5sff",
        "outputId": "b564e370-ff23-48a3-f9f2-3fc26bfedfe2",
        "colab": {
          "base_uri": "https://localhost:8080/",
          "height": 34
        }
      },
      "source": [
        "standard_deviation(houses['SalePrice'])"
      ],
      "execution_count": 0,
      "outputs": [
        {
          "output_type": "execute_result",
          "data": {
            "text/plain": [
              "79873.05865192247"
            ]
          },
          "metadata": {
            "tags": []
          },
          "execution_count": 9
        }
      ]
    },
    {
      "cell_type": "markdown",
      "metadata": {
        "id": "rNIYzs6kr1Jv",
        "colab_type": "text"
      },
      "source": [
        "**Standard deviation** tells us how much the values in a distribution vary (on average) around the mean of that distribution. The mean of the SalePrice variable is approximately 180,796:"
      ]
    },
    {
      "cell_type": "code",
      "metadata": {
        "id": "xU-66X6nr9j7",
        "colab_type": "code",
        "outputId": "da9e6be5-9cf0-4e70-a0b1-49f75fbae916",
        "colab": {
          "base_uri": "https://localhost:8080/",
          "height": 34
        }
      },
      "source": [
        "houses['SalePrice'].mean()"
      ],
      "execution_count": 0,
      "outputs": [
        {
          "output_type": "execute_result",
          "data": {
            "text/plain": [
              "180796.0600682594"
            ]
          },
          "metadata": {
            "tags": []
          },
          "execution_count": 10
        }
      ]
    },
    {
      "cell_type": "markdown",
      "metadata": {
        "id": "lUXJpZbEr_Ko",
        "colab_type": "text"
      },
      "source": [
        "The **mean** tells us that the **average price** of a house is roughly 180,796, but this doesn't mean that each house (or most of them) costs exactly 180,796. One house could cost 120,000, another 240,000, and it could be that no house actually costs exactly 180,796. The **standard deviation** gives us a picture about this variability around the mean sale price. So, on average, sale prices vary by roughly 79,873 above and below a mean of 180,796.\n",
        "\n",
        "Below, we'll try to visualize this variability around the mean by:\n",
        "\n",
        "- Generating a histogram for the distribution of the **SalePrice** variable.\n",
        "- Using vertical lines to mark the mean and the average deviations above and below the mean."
      ]
    },
    {
      "cell_type": "code",
      "metadata": {
        "id": "VU_dO8V3scl7",
        "colab_type": "code",
        "outputId": "01695047-65f9-42aa-f63f-0bf7f5474f5a",
        "colab": {
          "base_uri": "https://localhost:8080/",
          "height": 286
        }
      },
      "source": [
        "import matplotlib.pyplot as plt\n",
        "\n",
        "mean = houses['SalePrice'].mean()\n",
        "st_dev = standard_deviation(houses['SalePrice'])\n",
        "houses['SalePrice'].plot.hist()\n",
        "plt.axvline(mean, color = 'Black', label = 'Mean')\n",
        "plt.axvline(mean - st_dev, color = 'Red', label = 'Below')\n",
        "plt.axvline(mean + st_dev, color = 'Violet', label = 'Above')\n",
        "plt.legend()"
      ],
      "execution_count": 0,
      "outputs": [
        {
          "output_type": "execute_result",
          "data": {
            "text/plain": [
              "<matplotlib.legend.Legend at 0x7f0bbadaf828>"
            ]
          },
          "metadata": {
            "tags": []
          },
          "execution_count": 11
        },
        {
          "output_type": "display_data",
          "data": {
            "image/png": "[encoded data removed]",
            "text/plain": [
              "<Figure size 432x288 with 1 Axes>"
            ]
          },
          "metadata": {
            "tags": []
          }
        }
      ]
    },
    {
      "cell_type": "markdown",
      "metadata": {
        "id": "aPcE5Ow6sq2N",
        "colab_type": "text"
      },
      "source": [
        "Notice in the histogram that prices can vary around the mean much more or much less than 79,873. Some outliers around 700,000 are more than 500,000 above the mean and a couple of houses around 30,000 are more than 150,000 below the mean. The standard deviation doesn't set boundaries for the values in a distribution: the prices can go above and below the mean more than 79,873.\n",
        "\n",
        "\n",
        "**Exercise**\n",
        "\n",
        "<img width=\"100\" src=\"https://drive.google.com/uc?export=view&id=1E8tR7B9YYUXsU_rddJAyq0FrM0MSelxZ\">\n",
        "\n",
        "\n",
        "- The standard deviation of the **SalePrice** variable should give us a picture about the diversity of prices on the real estate market.\n",
        "  - Find the year with the greatest variability of prices and assign the answer as an integer to the variable **greatest_variability.**\n",
        "  - Find the year with the lowest variability of prices and assign the answer as an integer to the variable **lowest_variability.**\n",
        "  - Use the function you wrote in the previous screen to measure the standard deviation of each year.\n",
        "  - You can find information about the years of sale in the **Yr Sold** column.\n",
        "  - There are many ways you can solve this exercise. If you get stuck, you can check the hint or the solution code.\n",
        "- tip: max(years, key = years.get), where years is a dictionary.\n"
      ]
    },
    {
      "cell_type": "code",
      "metadata": {
        "id": "MSgbilkps79W",
        "colab_type": "code",
        "outputId": "bb9baa1a-42f4-4229-b436-499e12c44abd",
        "colab": {
          "base_uri": "https://localhost:8080/",
          "height": 51
        }
      },
      "source": [
        "# put your code here\n",
        "variabilities = {}\n",
        "variabilities[\"yr_2010\"] = standard_deviation(houses[houses[\"Yr Sold\"] == 2010][\"SalePrice\"])\n",
        "variabilities[\"yr_2009\"] = standard_deviation(houses[houses[\"Yr Sold\"] == 2009][\"SalePrice\"])\n",
        "variabilities[\"yr_2008\"] = standard_deviation(houses[houses[\"Yr Sold\"] == 2008][\"SalePrice\"])\n",
        "variabilities[\"yr_2007\"] = standard_deviation(houses[houses[\"Yr Sold\"] == 2007][\"SalePrice\"])\n",
        "variabilities[\"yr_2006\"] = standard_deviation(houses[houses[\"Yr Sold\"] == 2006][\"SalePrice\"])\n",
        "greatest_variability = max(variabilities)\n",
        "print(\"Greatest variability: \", greatest_variability)\n",
        "lowest_variability = min(variabilities)\n",
        "print(\"Lowest variability: \", lowest_variability)"
      ],
      "execution_count": 0,
      "outputs": [
        {
          "output_type": "stream",
          "text": [
            "Greatest variability:  yr_2010\n",
            "Lowest variability:  yr_2006\n"
          ],
          "name": "stdout"
        }
      ]
    },
    {
      "cell_type": "markdown",
      "metadata": {
        "id": "TV7rD7Gbts9g",
        "colab_type": "text"
      },
      "source": [
        "# 7 -  A Measure of Spread"
      ]
    },
    {
      "cell_type": "markdown",
      "metadata": {
        "id": "1n7AvL5VTYHr",
        "colab_type": "text"
      },
      "source": [
        "Another way to understand **standard deviation** is as a measure of spread in a distribution — values in a distribution can be more or less spread. We took four random samples of 50 sample points each from the **SalePrice** distribution, and plotted their histograms to visualize the spread for each sample:\n",
        "\n",
        "<img width=\"500\" src=\"https://drive.google.com/uc?export=view&id=1JRlXfYk9guthhb9IztYdWztEPD-Omw6s\">\n",
        "\n",
        "\n",
        "According to our visual estimates, sample 2 has the biggest spread, while the other three samples have a similar spread, with sample 3 seemingly having the lowest spread. The **standard deviations** of these four distributions fit our visual estimates fairly well:\n"
      ]
    },
    {
      "cell_type": "code",
      "metadata": {
        "id": "qF5AeC_OTgee",
        "colab_type": "code",
        "outputId": "550b01dc-fa04-42a2-e831-1a5bd7c11227",
        "colab": {
          "base_uri": "https://localhost:8080/",
          "height": 85
        }
      },
      "source": [
        "for i in range(1,5):\n",
        "      sample = houses['SalePrice'].sample(50, random_state = i)\n",
        "      # we used the same random states for the samples in the graph above\n",
        "      st_dev = standard_deviation(sample)\n",
        "      print('Sample ' + str(i) + ': ' + str(st_dev))"
      ],
      "execution_count": 0,
      "outputs": [
        {
          "output_type": "stream",
          "text": [
            "Sample 1: 81785.0811515768\n",
            "Sample 2: 100370.62998094413\n",
            "Sample 3: 60676.038515710636\n",
            "Sample 4: 64436.40016450328\n"
          ],
          "name": "stdout"
        }
      ]
    },
    {
      "cell_type": "markdown",
      "metadata": {
        "id": "1lpVtDKLWJZp",
        "colab_type": "text"
      },
      "source": [
        "\n",
        "**Exercise**\n",
        "\n",
        "<img width=\"100\" src=\"https://drive.google.com/uc?export=view&id=1E8tR7B9YYUXsU_rddJAyq0FrM0MSelxZ\">\n",
        "\n",
        "- We took two samples of 50 sample points each from the distribution of the **Year Built** variable. Examine the graph below, and estimate visually which sample has a bigger spread.\n",
        "  - Assign your answer to a variable named **bigger_spread**. If you think sample 1 has a bigger spread, assign the string **'sample 1'** to **bigger_spread**, otherwise assign **'sample 2'**.\n",
        "  - Sanity check your visual estimate by computing and comparing the **standard deviations** of the two samples.\n",
        "    - You can see the two samples already saved in the code editor.\n",
        "    - Assign the standard deviation of sample 1 to a variable named **st_dev1**. Compute the standard deviation using the **standard_deviation()** function.\n",
        "    - Assign the standard deviation of sample 2 to a variable named **st_dev2**. Compute the standard deviation using the **standard_deviation()** function.\n",
        "\n",
        "\n",
        "<img width=\"400\" src=\"https://drive.google.com/uc?export=view&id=1LGf0paBBpbTq9rmwjOLxm-W1VzcncTxf\">\n",
        "\n"
      ]
    },
    {
      "cell_type": "code",
      "metadata": {
        "id": "kf8psVobW8nO",
        "colab_type": "code",
        "outputId": "e3b32217-355d-4742-b961-7b262c1b29af",
        "colab": {
          "base_uri": "https://localhost:8080/",
          "height": 68
        }
      },
      "source": [
        "sample1 = houses['Year Built'].sample(50, random_state = 1)\n",
        "sample2 = houses['Year Built'].sample(50, random_state = 2)\n",
        "\n",
        "def standard_deviation(array):\n",
        "    reference_point = sum(array) / len(array)\n",
        "    \n",
        "    distances = []\n",
        "    for value in array:\n",
        "        squared_distance = (value - reference_point)**2\n",
        "        distances.append(squared_distance)\n",
        "    \n",
        "    variance = sum(distances) / len(distances)\n",
        "    \n",
        "    return sqrt(variance)\n",
        "  \n",
        "# put your code here\n",
        "bigger_spread = \"sample 1\"\n",
        "st_dev1 = standard_deviation(sample1)\n",
        "st_dev2 = standard_deviation(sample2)\n",
        "print(\"Stardard deviation for sample 1:\", st_dev1)\n",
        "print(\"Stardard deviation for sample 2:\", st_dev2)\n",
        "print(\"The difference: \", st_dev2 - st_dev1)"
      ],
      "execution_count": 0,
      "outputs": [
        {
          "output_type": "stream",
          "text": [
            "Stardard deviation for sample 1: 29.239589600403075\n",
            "Stardard deviation for sample 2: 32.466234767832255\n",
            "The difference:  3.2266451674291794\n"
          ],
          "name": "stdout"
        }
      ]
    },
    {
      "cell_type": "markdown",
      "metadata": {
        "id": "Kw8K3rI_YBDC",
        "colab_type": "text"
      },
      "source": [
        "# 8 - The Sample Standard Deviation"
      ]
    },
    {
      "cell_type": "markdown",
      "metadata": {
        "id": "xXMwwGOvmuIG",
        "colab_type": "text"
      },
      "source": [
        "In practice, **we generally work with samples**, but most of the time we're not actually interested in describing the samples. Rather, we want to use the samples to make inferences about their corresponding populations. **Let's find out whether the standard deviation of a sample is a good estimate for the standard deviation in the corresponding population**.\n",
        "\n",
        "Remember that we defined the standard deviation (SD) as:\n",
        "\n",
        "\n",
        "$$\n",
        "SD = \\sqrt{\\frac{(x_1 - \\mu)^2 + (x_2 - \\mu)^2 + \\ldots + (x_N - \\mu)^2}{N}} = \\sqrt{\\frac{\\displaystyle \\sum_{i=1}^{N} (x_i - \\mu)^2}{N}}\n",
        "$$\n",
        "\n",
        "Notice in the formula that we used the population mean $\\mu$, which means that if we wanted to compute the standard deviation of a sample, we'd have to know $\\mu$. In practice,  $\\mu$ is almost never known, and we can't find it from our sample either, but we can estimate $\\mu$ using the sample mean $\\overline{x}$.\n",
        "\n",
        "We update slightly the formula for the sample standard deviation by changing  to  and  to  (remember that  describes the number of data points in a population, while  describes the number of data points in a sample):\n",
        "\n",
        "\n",
        "$$\n",
        "SD_{sample} = \\sqrt{\\frac{(x_1 - \\overline{x})^2 + (x_2 - \\overline{x})^2 + \\ldots + (x_n - \\overline{x})^2}{n}} = \\sqrt{\\frac{\\displaystyle \\sum_{i=1}^{n} (x_i - \\overline{x})^2}{n}}\n",
        "$$\n",
        "\n",
        "Now that we have a working formula, can use it to reliably estimate the population standard deviation? One way we can check this is by sampling repeatedly a known population and see how the sample standard deviations compare on average to the population standard deviation.\n",
        "\n",
        "\n",
        "**Exercise**\n",
        "\n",
        "<img width=\"100\" src=\"https://drive.google.com/uc?export=view&id=1E8tR7B9YYUXsU_rddJAyq0FrM0MSelxZ\">\n",
        "\n",
        "- Let's consider the data we have for **SalePrice** a population and sample it 5000 times. For each of the 5000 iterations of a for loop:\n",
        "  - Sample 10 data points from the **SalePrice** variable using the **Series.sample()** method.\n",
        "    - The **random_state** of **Series.sample()** should be 0 for the first iteration, 1 for the second iteration, 2 for the third, and so on.\n",
        "  - Compute the standard deviation of the sample using the **standard_deviation()** function.\n",
        "  - Append the standard deviation to a list that will eventually store all the 5000 sample standard deviations.\n",
        "- Generate a histogram using **plt.hist()** to visualize the distribution of the 5000 sample standard deviations.\n",
        "- Draw a vertical line using **plt.axvline()** to mark the population standard deviation.\n",
        "- Examine the histogram and try to figure out whether most sample standard deviations cluster above or below the population standard deviation, or right at the center of it."
      ]
    },
    {
      "cell_type": "code",
      "metadata": {
        "id": "GeGK63u_pdkS",
        "colab_type": "code",
        "outputId": "cc216574-b9c6-486d-9723-263bd4e8fe1f",
        "colab": {
          "base_uri": "https://localhost:8080/",
          "height": 269
        }
      },
      "source": [
        "def standard_deviation(array):\n",
        "    reference_point = sum(array) / len(array)\n",
        "    \n",
        "    distances = []\n",
        "    for value in array:\n",
        "        squared_distance = (value - reference_point)**2\n",
        "        distances.append(squared_distance)\n",
        "    \n",
        "    variance = sum(distances) / len(distances)\n",
        "    \n",
        "    return sqrt(variance)\n",
        "\n",
        "import matplotlib.pyplot as plt\n",
        "\n",
        "# put your code here\n",
        "st_devs = []\n",
        "for i in range(5000):\n",
        "  sample = houses[\"SalePrice\"].sample(10, random_state = i)\n",
        "  st_dev = standard_deviation(sample)\n",
        "  st_devs.append(st_dev)\n",
        "plt.hist(st_devs)\n",
        "plt.axvline(standard_deviation(houses[\"SalePrice\"]))\n",
        "plt.show()"
      ],
      "execution_count": 0,
      "outputs": [
        {
          "output_type": "display_data",
          "data": {
            "image/png": "[encoded data removed]",
            "text/plain": [
              "<Figure size 432x288 with 1 Axes>"
            ]
          },
          "metadata": {
            "tags": []
          }
        }
      ]
    },
    {
      "cell_type": "markdown",
      "metadata": {
        "id": "ywD2uVJAxGe-",
        "colab_type": "text"
      },
      "source": [
        "# 9 -Bessel's Correction"
      ]
    },
    {
      "cell_type": "markdown",
      "metadata": {
        "id": "i21Q-Nx-TObb",
        "colab_type": "text"
      },
      "source": [
        "In the last exercise, we plotted the histogram of 5000 sample standard deviations and compared them against the population standard deviation. Notice that most sample standard deviations are clustered below the population standard deviation:\n",
        "\n",
        "<img width=\"400\" src=\"https://drive.google.com/uc?export=view&id=1j5P6v31Q-FtsIxE8SATNBIv2iG4gmpAt\">\n",
        "\n",
        "This suggests that the sample standard deviation usually underestimates the population standard deviation. We can also see that the mean of the 5000 sample standard deviations is below the population standard deviation:"
      ]
    },
    {
      "cell_type": "code",
      "metadata": {
        "id": "bCnu-Vs-W7S8",
        "colab_type": "code",
        "outputId": "b8078fec-7018-4ba5-b5f3-7f8a480eb01a",
        "colab": {
          "base_uri": "https://localhost:8080/",
          "height": 34
        }
      },
      "source": [
        "#st_devs - a list with all the 5000 st. deviations\n",
        "sum(st_devs) / 5000 "
      ],
      "execution_count": 0,
      "outputs": [
        {
          "output_type": "execute_result",
          "data": {
            "text/plain": [
              "71303.64762671624"
            ]
          },
          "metadata": {
            "tags": []
          },
          "execution_count": 15
        }
      ]
    },
    {
      "cell_type": "code",
      "metadata": {
        "id": "K6VOk-1vXGiE",
        "colab_type": "code",
        "outputId": "963d3153-1ff9-4333-a833-09e2d484532b",
        "colab": {
          "base_uri": "https://localhost:8080/",
          "height": 34
        }
      },
      "source": [
        "standard_deviation(houses['SalePrice'])"
      ],
      "execution_count": 0,
      "outputs": [
        {
          "output_type": "execute_result",
          "data": {
            "text/plain": [
              "79873.05865192247"
            ]
          },
          "metadata": {
            "tags": []
          },
          "execution_count": 16
        }
      ]
    },
    {
      "cell_type": "markdown",
      "metadata": {
        "id": "TDb9qVj5X6as",
        "colab_type": "text"
      },
      "source": [
        "So we can say that the sample standard deviation underestimates on average the population standard deviation. Some sample standard deviations are lower than the population standard deviation, some are greater, some may even be equal to the population standard deviation, but on average the sample standard deviation is lower than the population standard deviation.\n",
        "\n",
        "We can get a good intuition for why the sample standard deviation underestimates if we think in terms of distribution spread. When we sample a population, it's generally more likely to get a sample with a spread that's lower than the population's spread. This generally translates to a lower standard standard deviation than in the population.\n",
        "\n",
        "<img width=\"600\" src=\"https://drive.google.com/uc?export=view&id=1DcLZ_g1qhY5CHg7IGj30U8y0beDDvMIW\">\n",
        "\n",
        "Getting a sample with a higher standard deviation than in the population is possible, but this is less likely. This is mostly specific to samples with a high spread and no clusters.\n",
        "\n",
        "<img width=\"300\" src=\"https://drive.google.com/uc?export=view&id=1_KZdDxi3M2tsQDbYJbJep1qAuoSe7Mrl\">\n",
        "\n",
        "To correct the underestimation problem, we can try to slightly modify the sample standard deviation formula to return higher values. One way to do that is to decrease the value of the denominator. For instance, in $\\frac{12}{6} = 2$, the denominator is 6. If we decrease the value of the denominator, we get a greater result: $\\frac{12}{4}=3$.\n",
        "\n",
        "We'll decrease by 1 the denominator in the sample standard deviation formula, which now becomes:\n",
        "\n",
        "\n",
        "$$\n",
        "SD_{sample} = \\sqrt{\\frac{(x_1 - \\overline{x})^2 + (x_2 - \\overline{x})^2 + \\ldots + (x_n - \\overline{x})^2}{n-1}} = \\sqrt{\\frac{\\displaystyle \\sum_{i=1}^{n} (x_i - \\overline{x})^2}{n-1}}\n",
        "$$\n",
        "\n",
        "\n",
        "This small correction we added to the sample standard deviation (dividing by $n-1$ instead of $n$) is called **Bessel's correction**. Let's implement Bessel's correction to our **standard_deviation()** function and repeat the steps in the last exercise to see if Bessel's correction adds any improvements.\n",
        "\n",
        "\n",
        "**Exercise**\n",
        "\n",
        "<img width=\"100\" src=\"https://drive.google.com/uc?export=view&id=1E8tR7B9YYUXsU_rddJAyq0FrM0MSelxZ\">\n",
        "\n",
        "\n",
        "- Modify the code we wrote in the previous exercise by implementing Bessel's correction, and generate the histogram again.\n",
        "- If you want to challenge yourself, delete the display code and recode everything from scratch.\n",
        "- Does it look like Bessel's correction added any improvement?\n"
      ]
    },
    {
      "cell_type": "code",
      "metadata": {
        "id": "6tVY4B9cX-yM",
        "colab_type": "code",
        "outputId": "075f2b73-35ee-4635-f9d6-b6821e371e9e",
        "colab": {
          "base_uri": "https://localhost:8080/",
          "height": 269
        }
      },
      "source": [
        "def standard_deviation(array):\n",
        "    reference_point = sum(array) / len(array)\n",
        "    \n",
        "    distances = []\n",
        "    for value in array:\n",
        "        squared_distance = (value - reference_point)**2\n",
        "        distances.append(squared_distance)\n",
        "    \n",
        "    variance = sum(distances) / (len(distances)-1)\n",
        "    \n",
        "    return sqrt(variance)\n",
        "\n",
        "import matplotlib.pyplot as plt\n",
        "st_devs = []\n",
        "\n",
        "for i in range(5000):\n",
        "    sample = houses['SalePrice'].sample(10, random_state = i)\n",
        "    st_dev = standard_deviation(sample)\n",
        "    st_devs.append(st_dev)\n",
        "\n",
        "plt.hist(st_devs)\n",
        "plt.axvline(standard_deviation(houses['SalePrice']))\n",
        "plt.show()"
      ],
      "execution_count": 0,
      "outputs": [
        {
          "output_type": "display_data",
          "data": {
            "image/png": "[encoded data removed]",
            "text/plain": [
              "<Figure size 432x288 with 1 Axes>"
            ]
          },
          "metadata": {
            "tags": []
          }
        }
      ]
    },
    {
      "cell_type": "markdown",
      "metadata": {
        "id": "Ks-AhFZ3Z-My",
        "colab_type": "text"
      },
      "source": [
        "# 10 - Standard Notation"
      ]
    },
    {
      "cell_type": "markdown",
      "metadata": {
        "id": "7FmakBp1aJwn",
        "colab_type": "text"
      },
      "source": [
        "It looks like Bessel's correction added some visible improvements and partially corrected the underestimation problem:\n",
        "\n",
        "<img width=\"500\" src=\"https://drive.google.com/uc?export=view&id=1Bxxtf1bIfOnZ1zgLghoGs4QiNzfXX3iq\">\n",
        "\n",
        "\n",
        "The improvement brought by Bessel's correction is more obvious when we compare the average values of the two distributions above. The mean of the 5000 sample standard deviations without Bessel's correction is roughly 71304, while the mean standard deviation of the sample standard deviations having the correction is roughly 75161. This is significantly closer to the population standard deviation, which is approximately 79887.\n",
        "\n",
        "\n",
        "We could decrease the denominator more (dividing by $n-2$ maybe) to try improving the correction. However, we need a single mathematical definition for the sample standard deviation, and we have to choose between $n$, $n-1$, $n-2$, etc. Remember that in practice we don't know the population standard deviation, so we can't tell which correction would work best for each sample standard deviation.\n",
        "\n",
        "Statisticians agree that $n-1$ is the best choice for the sample standard deviation formula, and we'll explore a strong argument in support of this in the next screen.\n",
        "\n",
        "Now that we have know what formulae to use for samples and populations, we introduce some standard notation that will help you understand other statistics resources. The population standard deviation is denoted with the Greek letter  $\\sigma$ (read \"sigma\", or \"lowercase sigma\"):\n",
        "\n",
        "$$\n",
        "\\sigma = \\sqrt{\\frac{(x_1 - \\mu)^2 + (x_2 - \\mu)^2 + \\ldots + (x_N - \\mu)^2}{N}} = \\sqrt{\\frac{\\displaystyle \\sum_{i=1}^{N} (x_i - \\mu)^2}{N}}\n",
        "$$\n",
        "\n",
        "\n",
        "Remember that the population standard deviation $\\sigma$  is just the square root of the population variance. For this reason, the population variance is written as $\\sigma^2$ (such that taking the square root of the variance $\\sigma^2$ results in the standard deviation $\\sigma$: $\\sqrt{\\sigma^2}=\\sigma$):\n",
        "\n",
        "$$\n",
        "\\sigma^2 = \\frac{(x_1 - \\mu)^2 + (x_2 - \\mu)^2 + \\ldots + (x_N - \\mu)^2}{N} = \\frac{\\displaystyle \\sum_{i=1}^{N} (x_i - \\mu)^2}{N}\n",
        "$$\n",
        "\n",
        "\n",
        "The sample standard deviation is simply denoted with $s$, while the sample variance is denoted with $s^2$ (also notice Bessel's correction in the denominator):\n",
        "\n",
        "\n",
        "<img width=\"500\" src=\"https://drive.google.com/uc?export=view&id=1RJkvnRbRHyP2KIKmfRzbGtrxNmNN0dMp\">\n",
        "\n",
        "The main takeaway is that we need to use the $s$ and $s^2$ formulae (with Bessel's correction) for samples. For populations, we can use the $\\sigma$ or  $\\sigma^2$ formulae (without Bessel's correction).\n",
        "\n",
        "**Exercise**\n",
        "\n",
        "<img width=\"100\" src=\"https://drive.google.com/uc?export=view&id=1E8tR7B9YYUXsU_rddJAyq0FrM0MSelxZ\">\n",
        "\n",
        "\n",
        "- We already sampled our data set and saved the sample in a variable named **sample.**\n",
        "  - Use the [Series.std()](https://pandas.pydata.org/pandas-docs/stable/generated/pandas.Series.std.html) method to compute the sample standard deviation for the **SalePrice** column. You can use the **ddof** parameter to choose between $n$ and $n-1$. Save the result to a variable named **pandas_stdev.**\n",
        "  - Use the [numpy.std()](https://docs.scipy.org/doc/numpy/reference/generated/numpy.std.html) function to compute the sample standard deviation for the **SalePrice** column. You can use the **ddof** parameter to choose between $n$ and $n-1$. Save the result to a variable named **numpy_stdev.**\n",
        "  - Compare **pandas_stdev** with **numpy_stdev** using the == operator. Assign the result of the comparison to a variable named **equal_stdevs.**\n",
        "  - Use the **Series.var()** method to compute the sample variance for the **SalePrice** column. Assign the result to **pandas_var.**\n",
        "  - Use the **numpy.var()** function to compute the sample variance for the **SalePrice** column. Assign the result to **numpy_var.**\n",
        "  - Compare **pandas_var** with **numpy_var** using the == operator. Assign the result of the comparison to a variable named **equal_vars.**"
      ]
    },
    {
      "cell_type": "code",
      "metadata": {
        "id": "Gd6YQYS-cCVL",
        "colab_type": "code",
        "outputId": "fd34c0c4-7314-4abc-cb3f-b084f4d7b2bf",
        "colab": {
          "base_uri": "https://localhost:8080/",
          "height": 51
        }
      },
      "source": [
        "sample = houses.sample(100, random_state = 1)\n",
        "from numpy import std, var\n",
        "\n",
        "# put your code here\n",
        "pandas_stdev = sample.std()\n",
        "numpy_stdev = std(sample, ddof=1)\n",
        "equal_stdevs = pandas_stdev == numpy_stdev\n",
        "print(\"Equal sample standard deviation? \", equal_stdevs[0])\n",
        "\n",
        "pandas_var = sample.var()\n",
        "numpy_var = var(sample, ddof=1)\n",
        "equal_vars = pandas_var == numpy_var\n",
        "print(\"Equal sample variance? \", equal_vars[0])"
      ],
      "execution_count": 0,
      "outputs": [
        {
          "output_type": "stream",
          "text": [
            "Equal sample standard deviation?  True\n",
            "Equal sample variance?  True\n"
          ],
          "name": "stdout"
        }
      ]
    },
    {
      "cell_type": "markdown",
      "metadata": {
        "id": "MWZKATC_nDUg",
        "colab_type": "text"
      },
      "source": [
        "# 11 - Sample Variance — Unbiased Estimator"
      ]
    },
    {
      "cell_type": "markdown",
      "metadata": {
        "id": "tc5865gvnPcZ",
        "colab_type": "text"
      },
      "source": [
        "In the previous screen, we stated that statisticians agree that $n-1$  is better than $n$  or $n-2$ for computing the sample standard deviation $s$. An argument supporting this comes from the fact that the sample variance $s^2$  (which uses $n-1$) is an **unbiased estimator** for the population variance $\\sigma^2$. Since standard deviation is just the square root of variance, it makes sense to use $n-1$ as well (although standard deviation is not an unbiased estimator, as we'll see).\n",
        "\n",
        "As we learned previously when we discussed the mean, we call a statistic an unbiased estimator when that statistic is equal on average to the parameter it estimates. Remember that the sample mean $\\overline{x}$  is an unbiased estimator for the population mean $\\mu$  no matter whether we sample with or without replacement. The sample variance $s^2$  is an unbiased estimator fo'r the population variance $\\sigma^2$ only when we sample with replacement. In the diagram below, we will:\n",
        "\n",
        "- Take all possible samples of size $n=2$  from the population $[0,3,6]$ with $\\sigma^2=6$ .\n",
        "- Compute the sample variance $s^2$ for each sample.\n",
        "- Take the mean of all the sample variances $s^2$ . You can see that the mean is 6, which is the same as the population variance $\\sigma^2$, which shows that the sample variance  $s^2$ is an unbiased estimator for the population variance $\\sigma^2$.\n",
        "\n",
        "<img width=\"300\" src=\"https://drive.google.com/uc?export=view&id=1edozHcIsz32Da_2yNLH-lExQ1BKtkk7t\">\n",
        "\n",
        "Although the sample variance $s^2$  is an unbiased estimator, and the sample standard deviation $s$ is basically $\\sqrt{s^2}$, the unbiasedness doesn't carry over ($\\sigma$ is roughly 2.45 for the population $[0,3,6]$).\n",
        "\n",
        "\n",
        "<img width=\"300\" src=\"https://drive.google.com/uc?export=view&id=1mROVmvyTedV1awalmFhfNnIJbY6pS3_M\">\n",
        "\n",
        "\n",
        "In the exercise below, we'll see that the sample variance $s^2$  and the sample standard deviation $s$ are biased when we sample without replacement.\n",
        "\n",
        "**Exercise**\n",
        "\n",
        "<img width=\"100\" src=\"https://drive.google.com/uc?export=view&id=1E8tR7B9YYUXsU_rddJAyq0FrM0MSelxZ\">\n",
        "\n",
        "\n",
        "- In the cell below, you can see all the possible samples of size $n=2$ for the population $[0,3,6]$ when we sample without replacement.\n",
        "  - Compute the sample variance and sample standard deviation for each sample.\n",
        "  - Take the mean of all the sample variances. Compare the mean variance with the population variance (which you'll have to compute) using the == operator, and assign the result to a variable **equal_var.**\n",
        "    - If the sample variance is biased in this case, the result should be **False**.\n",
        "  - Take the mean of all the sample standard deviations. Compare the mean standard deviation with the population standard deviation using the == operator, and assign the result to **equal_stdev.**\n",
        "    - If the sample variance is biased in this case, the result should be **False.**"
      ]
    },
    {
      "cell_type": "code",
      "metadata": {
        "id": "3cxbzjeJ95sC",
        "colab_type": "code",
        "outputId": "1dbc804c-b3a7-4d2a-8287-e1e3251db31b",
        "colab": {
          "base_uri": "https://localhost:8080/",
          "height": 51
        }
      },
      "source": [
        "population = [0, 3, 6]\n",
        "\n",
        "samples = [[0,3], [0,6],\n",
        "           [3,0], [3,6],\n",
        "           [6,0], [6,3]\n",
        "          ]\n",
        "\n",
        "# put your code here\n",
        "sample_variances = []\n",
        "sample_standard_deviation = []\n",
        "for i in samples:\n",
        "  sample_variances.append(get_variance(i))\n",
        "  sample_standard_deviation.append(get_standard_deviation(i))\n",
        "  \n",
        "import statistics as s\n",
        "\n",
        "sample_variances_mean = s.mean(sample_variances)\n",
        "population_variances = get_variance(population)\n",
        "equal_var = sample_variances_mean == population_variances\n",
        "print(\"Equal variance: \", equal_var)\n",
        "\n",
        "sample_standard_deviations_mean = s.mean(sample_standard_deviation)\n",
        "population_standard_deviations = get_standard_deviation(population)\n",
        "equal_stdev = sample_standard_deviations_mean == population_standard_deviations\n",
        "print(\"Equal standard deviations: \", equal_stdev)"
      ],
      "execution_count": 0,
      "outputs": [
        {
          "output_type": "stream",
          "text": [
            "Equal variance:  False\n",
            "Equal standard deviations:  False\n"
          ],
          "name": "stdout"
        }
      ]
    },
    {
      "cell_type": "markdown",
      "metadata": {
        "id": "R7fINkiwByTp",
        "colab_type": "text"
      },
      "source": [
        "# 12 - Next Steps"
      ]
    },
    {
      "cell_type": "markdown",
      "metadata": {
        "id": "Dwm7uaq2B8o2",
        "colab_type": "text"
      },
      "source": [
        "In this lesson, we learned how to measure the **variability** of a distribution using the **range**, the **mean absolute deviation**, the **variance**, and the **standard deviation**. These metrics are ideal for measuring the variability of distributions whose values are measured on an interval or ratio scale.\n",
        "\n",
        "Measuring variability for ordinal and nominal data is much harder because we can't quantify the differences between values. For this reason, little is written in the literature about measuring variability for ordinal and nominal data. If you want to dig more into this, you can start by reading [this paper](https://www.tandfonline.com/doi/full/10.1080/10691898.2007.11889465).\n",
        "\n",
        "Next in this course, we'll build on what we know about the mean and the standard deviation and learn about **z-scores.**"
      ]
    }
  ]
}