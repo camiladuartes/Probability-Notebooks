{
  "nbformat": 4,
  "nbformat_minor": 0,
  "metadata": {
    "colab": {
      "name": "Lesson_07_Advanced_Pandas.ipynb",
      "version": "0.3.2",
      "provenance": [],
      "collapsed_sections": [
        "IYr1QHy3z8Zv"
      ]
    },
    "kernelspec": {
      "display_name": "Python 3",
      "language": "python",
      "name": "python3"
    }
  },
  "cells": [
    {
      "cell_type": "code",
      "metadata": {
        "id": "aP0kTqbf_Zor",
        "colab_type": "code",
        "outputId": "008258a1-70d2-4fe5-e150-8ddb271d5b21",
        "colab": {
          "base_uri": "https://localhost:8080/",
          "height": 34
        }
      },
      "source": [
        "'''Titanic: Usar algoritmo pra saber se pessoa iria sobreviver ou não'''\n",
        "'''histograma: Linhas em branco: que estão faltando dados'''\n",
        "#Imputação de dados(lidar com dados que estão faltando):"
      ],
      "execution_count": 0,
      "outputs": [
        {
          "output_type": "execute_result",
          "data": {
            "text/plain": [
              "'histograma: Linhas em branco: que estão faltando dados'"
            ]
          },
          "metadata": {
            "tags": []
          },
          "execution_count": 4
        }
      ]
    },
    {
      "cell_type": "markdown",
      "metadata": {
        "id": "v6TNqlQwwYJj",
        "colab_type": "text"
      },
      "source": [
        "titanic_survival[titanic_survival[\"age\"].isnull()]: retorna as linhas que são null(verdadeiro)\n",
        "\n",
        "titanic_survival[titanic_survival[\"age\"].isnull()].shape: nº de linhas e colunas"
      ]
    },
    {
      "cell_type": "code",
      "metadata": {
        "id": "-axeWRv8S7Op",
        "colab_type": "code",
        "outputId": "f8c0f715-ae81-4215-d002-f7796ca74cb4",
        "colab": {
          "base_uri": "https://localhost:8080/",
          "height": 128
        }
      },
      "source": [
        "#20/03/2019\n",
        "#PIVOT_TABLE\n",
        "import pandas as pd\n",
        "\n",
        "data = pd.read_csv(\"titanic_survival.csv\")\n",
        "data.head(2)\n",
        "#idade media das pessoas na 1, 2 e 3 classe"
      ],
      "execution_count": 0,
      "outputs": [
        {
          "output_type": "execute_result",
          "data": {
            "text/html": [
              "<div>\n",
              "<style scoped>\n",
              "    .dataframe tbody tr th:only-of-type {\n",
              "        vertical-align: middle;\n",
              "    }\n",
              "\n",
              "    .dataframe tbody tr th {\n",
              "        vertical-align: top;\n",
              "    }\n",
              "\n",
              "    .dataframe thead th {\n",
              "        text-align: right;\n",
              "    }\n",
              "</style>\n",
              "<table border=\"1\" class=\"dataframe\">\n",
              "  <thead>\n",
              "    <tr style=\"text-align: right;\">\n",
              "      <th></th>\n",
              "      <th>pclass</th>\n",
              "      <th>survived</th>\n",
              "      <th>name</th>\n",
              "      <th>sex</th>\n",
              "      <th>age</th>\n",
              "      <th>sibsp</th>\n",
              "      <th>parch</th>\n",
              "      <th>ticket</th>\n",
              "      <th>fare</th>\n",
              "      <th>cabin</th>\n",
              "      <th>embarked</th>\n",
              "      <th>boat</th>\n",
              "      <th>body</th>\n",
              "      <th>home.dest</th>\n",
              "    </tr>\n",
              "  </thead>\n",
              "  <tbody>\n",
              "    <tr>\n",
              "      <th>0</th>\n",
              "      <td>1.0</td>\n",
              "      <td>1.0</td>\n",
              "      <td>Allen, Miss. Elisabeth Walton</td>\n",
              "      <td>female</td>\n",
              "      <td>29.0000</td>\n",
              "      <td>0.0</td>\n",
              "      <td>0.0</td>\n",
              "      <td>24160</td>\n",
              "      <td>211.3375</td>\n",
              "      <td>B5</td>\n",
              "      <td>S</td>\n",
              "      <td>2</td>\n",
              "      <td>NaN</td>\n",
              "      <td>St Louis, MO</td>\n",
              "    </tr>\n",
              "    <tr>\n",
              "      <th>1</th>\n",
              "      <td>1.0</td>\n",
              "      <td>1.0</td>\n",
              "      <td>Allison, Master. Hudson Trevor</td>\n",
              "      <td>male</td>\n",
              "      <td>0.9167</td>\n",
              "      <td>1.0</td>\n",
              "      <td>2.0</td>\n",
              "      <td>113781</td>\n",
              "      <td>151.5500</td>\n",
              "      <td>C22 C26</td>\n",
              "      <td>S</td>\n",
              "      <td>11</td>\n",
              "      <td>NaN</td>\n",
              "      <td>Montreal, PQ / Chesterville, ON</td>\n",
              "    </tr>\n",
              "  </tbody>\n",
              "</table>\n",
              "</div>"
            ],
            "text/plain": [
              "   pclass  survived                            name     sex      age  sibsp  \\\n",
              "0     1.0       1.0   Allen, Miss. Elisabeth Walton  female  29.0000    0.0   \n",
              "1     1.0       1.0  Allison, Master. Hudson Trevor    male   0.9167    1.0   \n",
              "\n",
              "   parch  ticket      fare    cabin embarked boat  body  \\\n",
              "0    0.0   24160  211.3375       B5        S    2   NaN   \n",
              "1    2.0  113781  151.5500  C22 C26        S   11   NaN   \n",
              "\n",
              "                         home.dest  \n",
              "0                     St Louis, MO  \n",
              "1  Montreal, PQ / Chesterville, ON  "
            ]
          },
          "metadata": {
            "tags": []
          },
          "execution_count": 6
        }
      ]
    },
    {
      "cell_type": "code",
      "metadata": {
        "id": "CQ1jJATcTMwY",
        "colab_type": "code",
        "outputId": "e7ddc1e9-0724-4c95-a3ae-f0ff2f4cf48e",
        "colab": {
          "base_uri": "https://localhost:8080/",
          "height": 204
        }
      },
      "source": [
        "import numpy as np\n",
        "\n",
        "#index: valor que quer agrupar pela classe\n",
        "#quer agrupar o valor das idades por classe\n",
        "#quer calcular a média\n",
        "#aggfunc: agregation function\n",
        "data.pivot_table(index=\"pclass\", values=\"age\", aggfunc=\"mean\")\n",
        "\n",
        "#Só a da classe 2:\n",
        "# data.pivot_table(index=\"pclass\", values=\"age\", aggfunc=\"mean\").age.loc[2.0]\n",
        "\n",
        "#idade média e preço médio\n",
        "data2 = data.pivot_table(index=\"pclass\", values=[\"age\",\"fare\"], aggfunc=[np.mean, np.max])\n",
        "data2"
      ],
      "execution_count": 0,
      "outputs": [
        {
          "output_type": "execute_result",
          "data": {
            "text/html": [
              "<div>\n",
              "<style scoped>\n",
              "    .dataframe tbody tr th:only-of-type {\n",
              "        vertical-align: middle;\n",
              "    }\n",
              "\n",
              "    .dataframe tbody tr th {\n",
              "        vertical-align: top;\n",
              "    }\n",
              "\n",
              "    .dataframe thead tr th {\n",
              "        text-align: left;\n",
              "    }\n",
              "\n",
              "    .dataframe thead tr:last-of-type th {\n",
              "        text-align: right;\n",
              "    }\n",
              "</style>\n",
              "<table border=\"1\" class=\"dataframe\">\n",
              "  <thead>\n",
              "    <tr>\n",
              "      <th></th>\n",
              "      <th colspan=\"2\" halign=\"left\">mean</th>\n",
              "      <th colspan=\"2\" halign=\"left\">amax</th>\n",
              "    </tr>\n",
              "    <tr>\n",
              "      <th></th>\n",
              "      <th>age</th>\n",
              "      <th>fare</th>\n",
              "      <th>age</th>\n",
              "      <th>fare</th>\n",
              "    </tr>\n",
              "    <tr>\n",
              "      <th>pclass</th>\n",
              "      <th></th>\n",
              "      <th></th>\n",
              "      <th></th>\n",
              "      <th></th>\n",
              "    </tr>\n",
              "  </thead>\n",
              "  <tbody>\n",
              "    <tr>\n",
              "      <th>1.0</th>\n",
              "      <td>39.159918</td>\n",
              "      <td>87.508992</td>\n",
              "      <td>80.0</td>\n",
              "      <td>512.3292</td>\n",
              "    </tr>\n",
              "    <tr>\n",
              "      <th>2.0</th>\n",
              "      <td>29.506705</td>\n",
              "      <td>21.179196</td>\n",
              "      <td>70.0</td>\n",
              "      <td>73.5000</td>\n",
              "    </tr>\n",
              "    <tr>\n",
              "      <th>3.0</th>\n",
              "      <td>24.816367</td>\n",
              "      <td>13.302889</td>\n",
              "      <td>74.0</td>\n",
              "      <td>69.5500</td>\n",
              "    </tr>\n",
              "  </tbody>\n",
              "</table>\n",
              "</div>"
            ],
            "text/plain": [
              "             mean             amax          \n",
              "              age       fare   age      fare\n",
              "pclass                                      \n",
              "1.0     39.159918  87.508992  80.0  512.3292\n",
              "2.0     29.506705  21.179196  70.0   73.5000\n",
              "3.0     24.816367  13.302889  74.0   69.5500"
            ]
          },
          "metadata": {
            "tags": []
          },
          "execution_count": 7
        }
      ]
    },
    {
      "cell_type": "code",
      "metadata": {
        "id": "3uXXYtemVjEh",
        "colab_type": "code",
        "outputId": "fea58194-f1ff-4e38-dbb0-43b9e9ac0bb7",
        "colab": {
          "base_uri": "https://localhost:8080/",
          "height": 34
        }
      },
      "source": [
        "#Pegar o valor máximo do \"fare\" da classe 3:\n",
        "data2.amax.fare.loc[3.0]"
      ],
      "execution_count": 0,
      "outputs": [
        {
          "output_type": "execute_result",
          "data": {
            "text/plain": [
              "69.55"
            ]
          },
          "metadata": {
            "tags": []
          },
          "execution_count": 8
        }
      ]
    },
    {
      "cell_type": "code",
      "metadata": {
        "id": "a7C9Liu3Vv-J",
        "colab_type": "code",
        "outputId": "e1e86072-4852-4aff-9e26-e02971afc810",
        "colab": {
          "base_uri": "https://localhost:8080/",
          "height": 266
        }
      },
      "source": [
        "#Calcular a idade media por classe das pessoas que sobreviveram e das que não\n",
        "data3 = data.pivot_table(index=[\"pclass\", \"survived\"], values=\"age\", aggfunc=np.mean)\n",
        "data3"
      ],
      "execution_count": 0,
      "outputs": [
        {
          "output_type": "execute_result",
          "data": {
            "text/html": [
              "<div>\n",
              "<style scoped>\n",
              "    .dataframe tbody tr th:only-of-type {\n",
              "        vertical-align: middle;\n",
              "    }\n",
              "\n",
              "    .dataframe tbody tr th {\n",
              "        vertical-align: top;\n",
              "    }\n",
              "\n",
              "    .dataframe thead th {\n",
              "        text-align: right;\n",
              "    }\n",
              "</style>\n",
              "<table border=\"1\" class=\"dataframe\">\n",
              "  <thead>\n",
              "    <tr style=\"text-align: right;\">\n",
              "      <th></th>\n",
              "      <th></th>\n",
              "      <th>age</th>\n",
              "    </tr>\n",
              "    <tr>\n",
              "      <th>pclass</th>\n",
              "      <th>survived</th>\n",
              "      <th></th>\n",
              "    </tr>\n",
              "  </thead>\n",
              "  <tbody>\n",
              "    <tr>\n",
              "      <th rowspan=\"2\" valign=\"top\">1.0</th>\n",
              "      <th>0.0</th>\n",
              "      <td>43.247573</td>\n",
              "    </tr>\n",
              "    <tr>\n",
              "      <th>1.0</th>\n",
              "      <td>36.833794</td>\n",
              "    </tr>\n",
              "    <tr>\n",
              "      <th rowspan=\"2\" valign=\"top\">2.0</th>\n",
              "      <th>0.0</th>\n",
              "      <td>33.167808</td>\n",
              "    </tr>\n",
              "    <tr>\n",
              "      <th>1.0</th>\n",
              "      <td>24.858696</td>\n",
              "    </tr>\n",
              "    <tr>\n",
              "      <th rowspan=\"2\" valign=\"top\">3.0</th>\n",
              "      <th>0.0</th>\n",
              "      <td>25.974549</td>\n",
              "    </tr>\n",
              "    <tr>\n",
              "      <th>1.0</th>\n",
              "      <td>21.545166</td>\n",
              "    </tr>\n",
              "  </tbody>\n",
              "</table>\n",
              "</div>"
            ],
            "text/plain": [
              "                       age\n",
              "pclass survived           \n",
              "1.0    0.0       43.247573\n",
              "       1.0       36.833794\n",
              "2.0    0.0       33.167808\n",
              "       1.0       24.858696\n",
              "3.0    0.0       25.974549\n",
              "       1.0       21.545166"
            ]
          },
          "metadata": {
            "tags": []
          },
          "execution_count": 9
        }
      ]
    },
    {
      "cell_type": "code",
      "metadata": {
        "id": "VBExt1BqWSZg",
        "colab_type": "code",
        "outputId": "20b22b41-14ad-4f86-c295-38304c337f10",
        "colab": {
          "base_uri": "https://localhost:8080/",
          "height": 34
        }
      },
      "source": [
        "#Idade média das pessoas que morreram na segunda classe:\n",
        "#PEGA DO EXTERNO PARA O INTERNO\n",
        "data3.age.loc[2.0].loc[0.0]"
      ],
      "execution_count": 0,
      "outputs": [
        {
          "output_type": "execute_result",
          "data": {
            "text/plain": [
              "33.167808219178085"
            ]
          },
          "metadata": {
            "tags": []
          },
          "execution_count": 10
        }
      ]
    },
    {
      "cell_type": "code",
      "metadata": {
        "id": "0mfPzc_0XHR0",
        "colab_type": "code",
        "outputId": "c85debeb-adfb-468a-8f1e-47d1ea2abc20",
        "colab": {
          "base_uri": "https://localhost:8080/",
          "height": 266
        }
      },
      "source": [
        "#Quantas pessoas da 1,2 e 3 classe sobreviveram e quantos morreram\n",
        "data4 = data.pivot_table(index=[\"pclass\",\"survived\"], values=\"age\", aggfunc=\"count\") #nesse caso não importa quem botar no values\n",
        "data4"
      ],
      "execution_count": 0,
      "outputs": [
        {
          "output_type": "execute_result",
          "data": {
            "text/html": [
              "<div>\n",
              "<style scoped>\n",
              "    .dataframe tbody tr th:only-of-type {\n",
              "        vertical-align: middle;\n",
              "    }\n",
              "\n",
              "    .dataframe tbody tr th {\n",
              "        vertical-align: top;\n",
              "    }\n",
              "\n",
              "    .dataframe thead th {\n",
              "        text-align: right;\n",
              "    }\n",
              "</style>\n",
              "<table border=\"1\" class=\"dataframe\">\n",
              "  <thead>\n",
              "    <tr style=\"text-align: right;\">\n",
              "      <th></th>\n",
              "      <th></th>\n",
              "      <th>age</th>\n",
              "    </tr>\n",
              "    <tr>\n",
              "      <th>pclass</th>\n",
              "      <th>survived</th>\n",
              "      <th></th>\n",
              "    </tr>\n",
              "  </thead>\n",
              "  <tbody>\n",
              "    <tr>\n",
              "      <th rowspan=\"2\" valign=\"top\">1.0</th>\n",
              "      <th>0.0</th>\n",
              "      <td>103</td>\n",
              "    </tr>\n",
              "    <tr>\n",
              "      <th>1.0</th>\n",
              "      <td>181</td>\n",
              "    </tr>\n",
              "    <tr>\n",
              "      <th rowspan=\"2\" valign=\"top\">2.0</th>\n",
              "      <th>0.0</th>\n",
              "      <td>146</td>\n",
              "    </tr>\n",
              "    <tr>\n",
              "      <th>1.0</th>\n",
              "      <td>115</td>\n",
              "    </tr>\n",
              "    <tr>\n",
              "      <th rowspan=\"2\" valign=\"top\">3.0</th>\n",
              "      <th>0.0</th>\n",
              "      <td>370</td>\n",
              "    </tr>\n",
              "    <tr>\n",
              "      <th>1.0</th>\n",
              "      <td>131</td>\n",
              "    </tr>\n",
              "  </tbody>\n",
              "</table>\n",
              "</div>"
            ],
            "text/plain": [
              "                 age\n",
              "pclass survived     \n",
              "1.0    0.0       103\n",
              "       1.0       181\n",
              "2.0    0.0       146\n",
              "       1.0       115\n",
              "3.0    0.0       370\n",
              "       1.0       131"
            ]
          },
          "metadata": {
            "tags": []
          },
          "execution_count": 11
        }
      ]
    },
    {
      "cell_type": "code",
      "metadata": {
        "id": "GUMRxfv4Ybt0",
        "colab_type": "code",
        "outputId": "53e46686-126b-463e-fb0b-424e5a205cf7",
        "colab": {
          "base_uri": "https://localhost:8080/",
          "height": 153
        }
      },
      "source": [
        "data4.age.sum() #número de pessoas\n",
        "data4.age/data4.age.sum() #calcula a porcentagem"
      ],
      "execution_count": 0,
      "outputs": [
        {
          "output_type": "execute_result",
          "data": {
            "text/plain": [
              "pclass  survived\n",
              "1.0     0.0         0.098470\n",
              "        1.0         0.173040\n",
              "2.0     0.0         0.139579\n",
              "        1.0         0.109943\n",
              "3.0     0.0         0.353728\n",
              "        1.0         0.125239\n",
              "Name: age, dtype: float64"
            ]
          },
          "metadata": {
            "tags": []
          },
          "execution_count": 12
        }
      ]
    },
    {
      "cell_type": "code",
      "metadata": {
        "id": "Zq-lgMbZZqJP",
        "colab_type": "code",
        "colab": {}
      },
      "source": [
        "# df.dropna() --> apague a linha se not a number\n",
        "# df.dropna(axis=1) --> apaga a coluna se tiver um dado faltando nela"
      ],
      "execution_count": 0,
      "outputs": []
    },
    {
      "cell_type": "code",
      "metadata": {
        "id": "fKiL6bS3cMiW",
        "colab_type": "code",
        "outputId": "c5fc62fb-b717-4ea3-b0ed-f02bd4840fc6",
        "colab": {
          "base_uri": "https://localhost:8080/",
          "height": 1969
        }
      },
      "source": [
        "#pd.cut\n",
        "#Separar idade por crian,a adolescente, ...\n",
        "data[\"agecat\"] = pd.cut(data.age, bins=[0,5,10,18,30,50,65,100], labels=[\"Infant\",\"Child\",\"Teenager\",\n",
        "                                \"Young adult\",\"Adult\",\"Senior adult\",\"Senior\"])\n",
        "data[[\"age\",\"agecat\"]]"
      ],
      "execution_count": 0,
      "outputs": [
        {
          "output_type": "execute_result",
          "data": {
            "text/html": [
              "<div>\n",
              "<style scoped>\n",
              "    .dataframe tbody tr th:only-of-type {\n",
              "        vertical-align: middle;\n",
              "    }\n",
              "\n",
              "    .dataframe tbody tr th {\n",
              "        vertical-align: top;\n",
              "    }\n",
              "\n",
              "    .dataframe thead th {\n",
              "        text-align: right;\n",
              "    }\n",
              "</style>\n",
              "<table border=\"1\" class=\"dataframe\">\n",
              "  <thead>\n",
              "    <tr style=\"text-align: right;\">\n",
              "      <th></th>\n",
              "      <th>age</th>\n",
              "      <th>agecat</th>\n",
              "    </tr>\n",
              "  </thead>\n",
              "  <tbody>\n",
              "    <tr>\n",
              "      <th>0</th>\n",
              "      <td>29.0000</td>\n",
              "      <td>Young adult</td>\n",
              "    </tr>\n",
              "    <tr>\n",
              "      <th>1</th>\n",
              "      <td>0.9167</td>\n",
              "      <td>Infant</td>\n",
              "    </tr>\n",
              "    <tr>\n",
              "      <th>2</th>\n",
              "      <td>2.0000</td>\n",
              "      <td>Infant</td>\n",
              "    </tr>\n",
              "    <tr>\n",
              "      <th>3</th>\n",
              "      <td>30.0000</td>\n",
              "      <td>Young adult</td>\n",
              "    </tr>\n",
              "    <tr>\n",
              "      <th>4</th>\n",
              "      <td>25.0000</td>\n",
              "      <td>Young adult</td>\n",
              "    </tr>\n",
              "    <tr>\n",
              "      <th>5</th>\n",
              "      <td>48.0000</td>\n",
              "      <td>Adult</td>\n",
              "    </tr>\n",
              "    <tr>\n",
              "      <th>6</th>\n",
              "      <td>63.0000</td>\n",
              "      <td>Senior adult</td>\n",
              "    </tr>\n",
              "    <tr>\n",
              "      <th>7</th>\n",
              "      <td>39.0000</td>\n",
              "      <td>Adult</td>\n",
              "    </tr>\n",
              "    <tr>\n",
              "      <th>8</th>\n",
              "      <td>53.0000</td>\n",
              "      <td>Senior adult</td>\n",
              "    </tr>\n",
              "    <tr>\n",
              "      <th>9</th>\n",
              "      <td>71.0000</td>\n",
              "      <td>Senior</td>\n",
              "    </tr>\n",
              "    <tr>\n",
              "      <th>10</th>\n",
              "      <td>47.0000</td>\n",
              "      <td>Adult</td>\n",
              "    </tr>\n",
              "    <tr>\n",
              "      <th>11</th>\n",
              "      <td>18.0000</td>\n",
              "      <td>Teenager</td>\n",
              "    </tr>\n",
              "    <tr>\n",
              "      <th>12</th>\n",
              "      <td>24.0000</td>\n",
              "      <td>Young adult</td>\n",
              "    </tr>\n",
              "    <tr>\n",
              "      <th>13</th>\n",
              "      <td>26.0000</td>\n",
              "      <td>Young adult</td>\n",
              "    </tr>\n",
              "    <tr>\n",
              "      <th>14</th>\n",
              "      <td>80.0000</td>\n",
              "      <td>Senior</td>\n",
              "    </tr>\n",
              "    <tr>\n",
              "      <th>15</th>\n",
              "      <td>NaN</td>\n",
              "      <td>NaN</td>\n",
              "    </tr>\n",
              "    <tr>\n",
              "      <th>16</th>\n",
              "      <td>24.0000</td>\n",
              "      <td>Young adult</td>\n",
              "    </tr>\n",
              "    <tr>\n",
              "      <th>17</th>\n",
              "      <td>50.0000</td>\n",
              "      <td>Adult</td>\n",
              "    </tr>\n",
              "    <tr>\n",
              "      <th>18</th>\n",
              "      <td>32.0000</td>\n",
              "      <td>Adult</td>\n",
              "    </tr>\n",
              "    <tr>\n",
              "      <th>19</th>\n",
              "      <td>36.0000</td>\n",
              "      <td>Adult</td>\n",
              "    </tr>\n",
              "    <tr>\n",
              "      <th>20</th>\n",
              "      <td>37.0000</td>\n",
              "      <td>Adult</td>\n",
              "    </tr>\n",
              "    <tr>\n",
              "      <th>21</th>\n",
              "      <td>47.0000</td>\n",
              "      <td>Adult</td>\n",
              "    </tr>\n",
              "    <tr>\n",
              "      <th>22</th>\n",
              "      <td>26.0000</td>\n",
              "      <td>Young adult</td>\n",
              "    </tr>\n",
              "    <tr>\n",
              "      <th>23</th>\n",
              "      <td>42.0000</td>\n",
              "      <td>Adult</td>\n",
              "    </tr>\n",
              "    <tr>\n",
              "      <th>24</th>\n",
              "      <td>29.0000</td>\n",
              "      <td>Young adult</td>\n",
              "    </tr>\n",
              "    <tr>\n",
              "      <th>25</th>\n",
              "      <td>25.0000</td>\n",
              "      <td>Young adult</td>\n",
              "    </tr>\n",
              "    <tr>\n",
              "      <th>26</th>\n",
              "      <td>25.0000</td>\n",
              "      <td>Young adult</td>\n",
              "    </tr>\n",
              "    <tr>\n",
              "      <th>27</th>\n",
              "      <td>19.0000</td>\n",
              "      <td>Young adult</td>\n",
              "    </tr>\n",
              "    <tr>\n",
              "      <th>28</th>\n",
              "      <td>35.0000</td>\n",
              "      <td>Adult</td>\n",
              "    </tr>\n",
              "    <tr>\n",
              "      <th>29</th>\n",
              "      <td>28.0000</td>\n",
              "      <td>Young adult</td>\n",
              "    </tr>\n",
              "    <tr>\n",
              "      <th>...</th>\n",
              "      <td>...</td>\n",
              "      <td>...</td>\n",
              "    </tr>\n",
              "    <tr>\n",
              "      <th>1280</th>\n",
              "      <td>22.0000</td>\n",
              "      <td>Young adult</td>\n",
              "    </tr>\n",
              "    <tr>\n",
              "      <th>1281</th>\n",
              "      <td>22.0000</td>\n",
              "      <td>Young adult</td>\n",
              "    </tr>\n",
              "    <tr>\n",
              "      <th>1282</th>\n",
              "      <td>NaN</td>\n",
              "      <td>NaN</td>\n",
              "    </tr>\n",
              "    <tr>\n",
              "      <th>1283</th>\n",
              "      <td>NaN</td>\n",
              "      <td>NaN</td>\n",
              "    </tr>\n",
              "    <tr>\n",
              "      <th>1284</th>\n",
              "      <td>NaN</td>\n",
              "      <td>NaN</td>\n",
              "    </tr>\n",
              "    <tr>\n",
              "      <th>1285</th>\n",
              "      <td>32.5000</td>\n",
              "      <td>Adult</td>\n",
              "    </tr>\n",
              "    <tr>\n",
              "      <th>1286</th>\n",
              "      <td>38.0000</td>\n",
              "      <td>Adult</td>\n",
              "    </tr>\n",
              "    <tr>\n",
              "      <th>1287</th>\n",
              "      <td>51.0000</td>\n",
              "      <td>Senior adult</td>\n",
              "    </tr>\n",
              "    <tr>\n",
              "      <th>1288</th>\n",
              "      <td>18.0000</td>\n",
              "      <td>Teenager</td>\n",
              "    </tr>\n",
              "    <tr>\n",
              "      <th>1289</th>\n",
              "      <td>21.0000</td>\n",
              "      <td>Young adult</td>\n",
              "    </tr>\n",
              "    <tr>\n",
              "      <th>1290</th>\n",
              "      <td>47.0000</td>\n",
              "      <td>Adult</td>\n",
              "    </tr>\n",
              "    <tr>\n",
              "      <th>1291</th>\n",
              "      <td>NaN</td>\n",
              "      <td>NaN</td>\n",
              "    </tr>\n",
              "    <tr>\n",
              "      <th>1292</th>\n",
              "      <td>NaN</td>\n",
              "      <td>NaN</td>\n",
              "    </tr>\n",
              "    <tr>\n",
              "      <th>1293</th>\n",
              "      <td>NaN</td>\n",
              "      <td>NaN</td>\n",
              "    </tr>\n",
              "    <tr>\n",
              "      <th>1294</th>\n",
              "      <td>28.5000</td>\n",
              "      <td>Young adult</td>\n",
              "    </tr>\n",
              "    <tr>\n",
              "      <th>1295</th>\n",
              "      <td>21.0000</td>\n",
              "      <td>Young adult</td>\n",
              "    </tr>\n",
              "    <tr>\n",
              "      <th>1296</th>\n",
              "      <td>27.0000</td>\n",
              "      <td>Young adult</td>\n",
              "    </tr>\n",
              "    <tr>\n",
              "      <th>1297</th>\n",
              "      <td>NaN</td>\n",
              "      <td>NaN</td>\n",
              "    </tr>\n",
              "    <tr>\n",
              "      <th>1298</th>\n",
              "      <td>36.0000</td>\n",
              "      <td>Adult</td>\n",
              "    </tr>\n",
              "    <tr>\n",
              "      <th>1299</th>\n",
              "      <td>27.0000</td>\n",
              "      <td>Young adult</td>\n",
              "    </tr>\n",
              "    <tr>\n",
              "      <th>1300</th>\n",
              "      <td>15.0000</td>\n",
              "      <td>Teenager</td>\n",
              "    </tr>\n",
              "    <tr>\n",
              "      <th>1301</th>\n",
              "      <td>45.5000</td>\n",
              "      <td>Adult</td>\n",
              "    </tr>\n",
              "    <tr>\n",
              "      <th>1302</th>\n",
              "      <td>NaN</td>\n",
              "      <td>NaN</td>\n",
              "    </tr>\n",
              "    <tr>\n",
              "      <th>1303</th>\n",
              "      <td>NaN</td>\n",
              "      <td>NaN</td>\n",
              "    </tr>\n",
              "    <tr>\n",
              "      <th>1304</th>\n",
              "      <td>14.5000</td>\n",
              "      <td>Teenager</td>\n",
              "    </tr>\n",
              "    <tr>\n",
              "      <th>1305</th>\n",
              "      <td>NaN</td>\n",
              "      <td>NaN</td>\n",
              "    </tr>\n",
              "    <tr>\n",
              "      <th>1306</th>\n",
              "      <td>26.5000</td>\n",
              "      <td>Young adult</td>\n",
              "    </tr>\n",
              "    <tr>\n",
              "      <th>1307</th>\n",
              "      <td>27.0000</td>\n",
              "      <td>Young adult</td>\n",
              "    </tr>\n",
              "    <tr>\n",
              "      <th>1308</th>\n",
              "      <td>29.0000</td>\n",
              "      <td>Young adult</td>\n",
              "    </tr>\n",
              "    <tr>\n",
              "      <th>1309</th>\n",
              "      <td>NaN</td>\n",
              "      <td>NaN</td>\n",
              "    </tr>\n",
              "  </tbody>\n",
              "</table>\n",
              "<p>1310 rows × 2 columns</p>\n",
              "</div>"
            ],
            "text/plain": [
              "          age        agecat\n",
              "0     29.0000   Young adult\n",
              "1      0.9167        Infant\n",
              "2      2.0000        Infant\n",
              "3     30.0000   Young adult\n",
              "4     25.0000   Young adult\n",
              "5     48.0000         Adult\n",
              "6     63.0000  Senior adult\n",
              "7     39.0000         Adult\n",
              "8     53.0000  Senior adult\n",
              "9     71.0000        Senior\n",
              "10    47.0000         Adult\n",
              "11    18.0000      Teenager\n",
              "12    24.0000   Young adult\n",
              "13    26.0000   Young adult\n",
              "14    80.0000        Senior\n",
              "15        NaN           NaN\n",
              "16    24.0000   Young adult\n",
              "17    50.0000         Adult\n",
              "18    32.0000         Adult\n",
              "19    36.0000         Adult\n",
              "20    37.0000         Adult\n",
              "21    47.0000         Adult\n",
              "22    26.0000   Young adult\n",
              "23    42.0000         Adult\n",
              "24    29.0000   Young adult\n",
              "25    25.0000   Young adult\n",
              "26    25.0000   Young adult\n",
              "27    19.0000   Young adult\n",
              "28    35.0000         Adult\n",
              "29    28.0000   Young adult\n",
              "...       ...           ...\n",
              "1280  22.0000   Young adult\n",
              "1281  22.0000   Young adult\n",
              "1282      NaN           NaN\n",
              "1283      NaN           NaN\n",
              "1284      NaN           NaN\n",
              "1285  32.5000         Adult\n",
              "1286  38.0000         Adult\n",
              "1287  51.0000  Senior adult\n",
              "1288  18.0000      Teenager\n",
              "1289  21.0000   Young adult\n",
              "1290  47.0000         Adult\n",
              "1291      NaN           NaN\n",
              "1292      NaN           NaN\n",
              "1293      NaN           NaN\n",
              "1294  28.5000   Young adult\n",
              "1295  21.0000   Young adult\n",
              "1296  27.0000   Young adult\n",
              "1297      NaN           NaN\n",
              "1298  36.0000         Adult\n",
              "1299  27.0000   Young adult\n",
              "1300  15.0000      Teenager\n",
              "1301  45.5000         Adult\n",
              "1302      NaN           NaN\n",
              "1303      NaN           NaN\n",
              "1304  14.5000      Teenager\n",
              "1305      NaN           NaN\n",
              "1306  26.5000   Young adult\n",
              "1307  27.0000   Young adult\n",
              "1308  29.0000   Young adult\n",
              "1309      NaN           NaN\n",
              "\n",
              "[1310 rows x 2 columns]"
            ]
          },
          "metadata": {
            "tags": []
          },
          "execution_count": 14
        }
      ]
    },
    {
      "cell_type": "markdown",
      "metadata": {
        "id": "grm4aAVezRR-",
        "colab_type": "text"
      },
      "source": [
        "## 1 Introduction"
      ]
    },
    {
      "cell_type": "markdown",
      "metadata": {
        "colab_type": "text",
        "id": "LUv-dd_E3XLA"
      },
      "source": [
        "\n",
        "In this lesson, we'll clean and analyze data on passenger survival from the [Titanic](https://en.wikipedia.org/wiki/RMS_Titanic). Each row contains information for a specific Titanic passenger.\n",
        "\n",
        "Here are the first few rows of the dataset:\n",
        "\n",
        "|  | pclass | survived | name                                            | sex    | age     | sibsp | parch | ticket | fare     | cabin   | embarked | boat | body | home.dest                       |\n",
        "|---|--------|----------|-------------------------------------------------|--------|---------|-------|-------|--------|----------|---------|----------|------|------|---------------------------------|\n",
        "| 0 | 1      | 1        | Allen, Miss. Elisabeth Walton                   | female | 29.0000 | 0     | 0     | 24160  | 211.3375 | B5      | S        | 2    |      | St Louis, MO                    |\n",
        "| 1 | 1      | 1        | Allison, Master. Hudson Trevor                  | male   | 0.9167  | 1     | 2     | 113781 | 151.5500 | C22 C26 | S        | 11   |      | Montreal, PQ / Chesterville, ON |\n",
        "| 2 | 1      | 0        | Allison, Miss. Helen Loraine                    | female | 2       | 1     | 2     | 113781 | 151.5500 | C22 C26 | S        |      |      | Montreal, PQ / Chesterville, ON |\n",
        "| 3 | 1      | 0        | Allison, Mr. Hudson Joshua Creighton            | male   | 30.0000 | 1     | 2     | 113781 | 151.5500 | C22 C26 | S        |      | 135  | Montreal, PQ / Chesterville, ON |\n",
        "| 4 | 1      | 0        | Allison, Mrs. Hudson J C (Bessie Waldo Daniels) | female | 25      | 1     | 2     | 113781 | 151.5500 | C22 C26 | S        |      |      | Montreal, PQ / Chesterville,    |\n",
        "\n",
        "\n",
        "Lets take a closer look at a few of the key columns:\n",
        "\n",
        "- **pclass** -- The passenger's cabin class from **1** to **3** where **1** was the highest class\n",
        "- **survived** -- **1** if the passenger survived, and **0** if they did not.\n",
        "- **sex** -- The passenger's gender\n",
        "- **age** -- The passenger's age\n",
        "- **fare** -- The amount the passenger paid for their ticket\n",
        "- **embarked** -- Either **C**, **Q**, or **S**, to indicate which port the passenger boarded the ship from.\n",
        "\n",
        "\n",
        "Many of the columns, such as **sex** and **age**, have missing values.\n",
        "\n",
        "Because missing values can cause errors in numerical functions, we'll need to deal with them before we can analyze the data. For instance, finding the mean of a column with a missing value will fail because it's impossible to average a missing value. Addressing missing values will let us perform calculations on the entire data set.\n"
      ]
    },
    {
      "cell_type": "markdown",
      "metadata": {
        "id": "Y3C_Cfgl1jKS",
        "colab_type": "text"
      },
      "source": [
        "\n",
        "### 1.1 Importing the data\n"
      ]
    },
    {
      "cell_type": "markdown",
      "metadata": {
        "id": "yyUVbFUA1kjD",
        "colab_type": "text"
      },
      "source": [
        "\n",
        "Let's import the data set into pandas.\n",
        "```python\n",
        "import pandas as pd\n",
        "```\n",
        "\n",
        "This gives the pandas library the alias **pd**, so that instead of typing pandas every time we want to use a function, we can instead type **pd**, for example **pd.read_csv()**.\n",
        "\n",
        "**Exercise**\n",
        "\n",
        "<img width=\"100\" src=\"https://drive.google.com/uc?export=view&id=1E8tR7B9YYUXsU_rddJAyq0FrM0MSelxZ\">\n",
        "\n",
        "\n",
        "**Description**:\n",
        "\n",
        "1. Read the file **titanic_survival.csv** into a dataframe called **titanic_survival**."
      ]
    },
    {
      "cell_type": "code",
      "metadata": {
        "colab_type": "code",
        "id": "ODGluhsw0I1m",
        "colab": {}
      },
      "source": [
        "# put your code here\n",
        "import pandas as pd\n",
        "titanic_survival = pd.read_csv(\"titanic_survival.csv\") #lê arquivo e forma tabela.\n"
      ],
      "execution_count": 0,
      "outputs": []
    },
    {
      "cell_type": "markdown",
      "metadata": {
        "colab_type": "text",
        "id": "i_oNC80Yz8Zs"
      },
      "source": [
        "### 1.2 Finding the missing data\n"
      ]
    },
    {
      "cell_type": "markdown",
      "metadata": {
        "colab_type": "text",
        "id": "WaABdi1S48I5"
      },
      "source": [
        "\n",
        "Missing data can take a few different forms:\n",
        "\n",
        "- In Python, the None keyword and type indicates no value.\n",
        "- The Pandas library uses **NaN**, which stands for **\"not a number\"**, to indicate a missing value.\n",
        "- In general terms, both **NaN** and **None** can be called null values.\n",
        "\n",
        "If we want to see which values are **NaN**, we can use the [pd.isnull()](http://pandas.pydata.org/pandas-docs/stable/generated/pandas.isnull.html) function which takes a pandas series and returns a series of **True** and **False** values, the same way that NumPy did when we compared arrays.\n",
        "\n",
        "\n",
        "```python\n",
        "sex = titanic_survival[\"sex\"]\n",
        "sex_is_null = pd.isnull(sex)\n",
        "```\n",
        "\n",
        "We can use this resultant series to select only the rows that have null values.\n",
        "\n",
        "```python\n",
        "sex_null_true = sex[sex_is_null]\n",
        "```\n",
        "\n",
        "We'll use this structure to look at the null values for the **\"age\"** column.\n",
        "\n",
        "**Exercise**\n",
        "\n",
        "<img width=\"100\" src=\"https://drive.google.com/uc?export=view&id=1E8tR7B9YYUXsU_rddJAyq0FrM0MSelxZ\">\n",
        "\n",
        "\n",
        "\n",
        "**Description**:\n",
        "\n",
        "1. Count how many values in the **\"age\"** column have null values:\n",
        "    - Use **pandas.isnull()** on **age** variable to create a Series of **True** and **False** values. \n",
        "    - Use the resulting series to select only the elements in age that are null, and assign the result to **age_null_true**\n",
        "    - Assign the length of **age_null_true** to **age_null_count**.\n",
        "2. Print **age_null_count** to see how many null values are in the **\"age\"** column."
      ]
    },
    {
      "cell_type": "code",
      "metadata": {
        "colab_type": "code",
        "id": "WqocZ5nG5m1s",
        "outputId": "59528ca7-4af6-49d5-9fc2-c98fe8652929",
        "colab": {
          "base_uri": "https://localhost:8080/",
          "height": 34
        }
      },
      "source": [
        "# put your code here\n",
        "# age = titanic_survival[\"age\"]\n",
        "# age_is_null = pd.isnull(titanic_survival[\"age\"])\n",
        "# age_null_true = age[age_is_null]\n",
        "'''vector that only contains values from the \"age\" column that are NaN:'''\n",
        "age_null_true = titanic_survival[\"age\"][pd.isnull(titanic_survival[\"age\"])]\n",
        "age_null_count = len(age_null_true)\n",
        "print(age_null_count)"
      ],
      "execution_count": 0,
      "outputs": [
        {
          "output_type": "stream",
          "text": [
            "264\n"
          ],
          "name": "stdout"
        }
      ]
    },
    {
      "cell_type": "markdown",
      "metadata": {
        "toc-hr-collapsed": true,
        "id": "0jnVtZYf0-VS",
        "colab_type": "text"
      },
      "source": [
        "## 2 missingno \n"
      ]
    },
    {
      "cell_type": "markdown",
      "metadata": {
        "id": "lirbKTKw2qJg",
        "colab_type": "text"
      },
      "source": [
        "\n",
        "Messy datasets? Missing values? [missingno](https://github.com/ResidentMario/missingno) provides a small toolset of flexible and easy-to-use missing data visualizations and utilities that allows you to get a quick visual summary of the completeness (or lack thereof) of your dataset. "
      ]
    },
    {
      "cell_type": "code",
      "metadata": {
        "id": "CrEz1Ftg0-VS",
        "colab_type": "code",
        "outputId": "841753bf-deed-42ca-e17d-ae96481a137b",
        "colab": {
          "base_uri": "https://localhost:8080/",
          "height": 224
        }
      },
      "source": [
        "!pip install missingno"
      ],
      "execution_count": 0,
      "outputs": [
        {
          "output_type": "stream",
          "text": [
            "Requirement already satisfied: missingno in /usr/local/lib/python3.6/dist-packages (0.4.1)\n",
            "Requirement already satisfied: numpy in /usr/local/lib/python3.6/dist-packages (from missingno) (1.14.6)\n",
            "Requirement already satisfied: matplotlib in /usr/local/lib/python3.6/dist-packages (from missingno) (3.0.3)\n",
            "Requirement already satisfied: scipy in /usr/local/lib/python3.6/dist-packages (from missingno) (1.1.0)\n",
            "Requirement already satisfied: seaborn in /usr/local/lib/python3.6/dist-packages (from missingno) (0.7.1)\n",
            "Requirement already satisfied: pyparsing!=2.0.4,!=2.1.2,!=2.1.6,>=2.0.1 in /usr/local/lib/python3.6/dist-packages (from matplotlib->missingno) (2.3.1)\n",
            "Requirement already satisfied: kiwisolver>=1.0.1 in /usr/local/lib/python3.6/dist-packages (from matplotlib->missingno) (1.0.1)\n",
            "Requirement already satisfied: cycler>=0.10 in /usr/local/lib/python3.6/dist-packages (from matplotlib->missingno) (0.10.0)\n",
            "Requirement already satisfied: python-dateutil>=2.1 in /usr/local/lib/python3.6/dist-packages (from matplotlib->missingno) (2.5.3)\n",
            "Requirement already satisfied: setuptools in /usr/local/lib/python3.6/dist-packages (from kiwisolver>=1.0.1->matplotlib->missingno) (40.8.0)\n",
            "Requirement already satisfied: six in /usr/local/lib/python3.6/dist-packages (from cycler>=0.10->matplotlib->missingno) (1.11.0)\n"
          ],
          "name": "stdout"
        }
      ]
    },
    {
      "cell_type": "markdown",
      "metadata": {
        "id": "KSBRn7vR0-VX",
        "colab_type": "text"
      },
      "source": [
        "### 2.1 Matrix"
      ]
    },
    {
      "cell_type": "markdown",
      "metadata": {
        "id": "i3bBQ6MJ0-VY",
        "colab_type": "text"
      },
      "source": [
        "The **msno.matrix** nullity matrix is a data-dense display which lets you quickly visually pick out patterns in data completion."
      ]
    },
    {
      "cell_type": "code",
      "metadata": {
        "id": "nqqZBgOf0-VZ",
        "colab_type": "code",
        "outputId": "d68a4c8b-8189-4a81-ffb1-3db5caf7b1ea",
        "colab": {
          "base_uri": "https://localhost:8080/",
          "height": 693
        }
      },
      "source": [
        "import missingno as msno\n",
        "import matplotlib.pyplot as plt\n",
        "\n",
        "# the sparkline at right summarizes the general shape of the data completeness \n",
        "# and points out the maximum and minimum rows. Note that last row is all NaN\n",
        "msno.matrix(titanic_survival)"
      ],
      "execution_count": 0,
      "outputs": [
        {
          "output_type": "execute_result",
          "data": {
            "text/plain": [
              "<matplotlib.axes._subplots.AxesSubplot at 0x7f3879099860>"
            ]
          },
          "metadata": {
            "tags": []
          },
          "execution_count": 18
        },
        {
          "output_type": "display_data",
          "data": {
            "image/png": "[encoded data removed]",
            "text/plain": [
              "<Figure size 1800x720 with 2 Axes>"
            ]
          },
          "metadata": {
            "tags": []
          }
        }
      ]
    },
    {
      "cell_type": "markdown",
      "metadata": {
        "id": "Y1QOKTCQ0-Vc",
        "colab_type": "text"
      },
      "source": [
        "### 2.2 Heatmap"
      ]
    },
    {
      "cell_type": "markdown",
      "metadata": {
        "id": "uP6opE5I0-Vd",
        "colab_type": "text"
      },
      "source": [
        "The missingno correlation heatmap measures nullity correlation: how strongly the presence or absence of one variable affects the presence of another.\n",
        "\n",
        "Nullity correlation ranges from -1 (if one variable appears the other definitely does not) to 0 (variables appearing or not appearing have no effect on one another) to 1 (if one variable appears the other definitely also does).\n",
        "\n",
        "Variables that are always full or always empty have no meaningful correlation, and so are silently removed from the visualization."
      ]
    },
    {
      "cell_type": "code",
      "metadata": {
        "id": "iVm-G27N0-Vd",
        "colab_type": "code",
        "outputId": "a0d99164-f180-4033-de6c-cbf52286bdc6",
        "colab": {
          "base_uri": "https://localhost:8080/",
          "height": 791
        }
      },
      "source": [
        "msno.heatmap(titanic_survival)"
      ],
      "execution_count": 0,
      "outputs": [
        {
          "output_type": "execute_result",
          "data": {
            "text/plain": [
              "<matplotlib.axes._subplots.AxesSubplot at 0x7f38790317f0>"
            ]
          },
          "metadata": {
            "tags": []
          },
          "execution_count": 19
        },
        {
          "output_type": "display_data",
          "data": {
            "image/png": "[encoded data removed]",
            "text/plain": [
              "<Figure size 1440x864 with 1 Axes>"
            ]
          },
          "metadata": {
            "tags": []
          }
        }
      ]
    },
    {
      "cell_type": "markdown",
      "metadata": {
        "colab_type": "text",
        "id": "3aSmRBD8z8Zt"
      },
      "source": [
        "## 3 What is The Big Deal With Missing Data?\n",
        "\n"
      ]
    },
    {
      "cell_type": "markdown",
      "metadata": {
        "colab_type": "text",
        "id": "ECVoudsQ7Onj"
      },
      "source": [
        "\n",
        "So, we know that quite a few values are missing from the **\"age\"** column, and other columns are missing data too. But why is this a problem?\n",
        "\n",
        "Lets look at a typical approach to calculate the average for the **\"age\"** column:\n",
        "\n",
        "```python\n",
        "mean_age = sum(titanic_survival[\"age\"]) / len(titanic_survival[\"age\"])\n",
        "```\n",
        "\n",
        "The result of this is that **mean_age** would be **nan**. This is because any calculations we do with a null value also result in a null value. This makes sense when you think about it -- how can you add a null value to a known value?\n",
        "\n",
        "Instead, we have to filter out the missing values before we calculate the mean.\n",
        "\n",
        "**Exercise**\n",
        "\n",
        "<img width=\"100\" src=\"https://drive.google.com/uc?export=view&id=1E8tR7B9YYUXsU_rddJAyq0FrM0MSelxZ\">\n",
        "\n",
        "\n",
        "**Description**:\n",
        "\n",
        "1. Use **age_is_null** to create a vector that only contains values from the **\"age\"** column that aren't **NaN**.\n",
        "\n",
        "```python\n",
        "age_is_null = pd.isnull(titanic_survival[\"age\"])\n",
        "```\n",
        "\n",
        "2. Calculate the mean of the new vector, and assign the result to **correct_mean_age**.\n"
      ]
    },
    {
      "cell_type": "code",
      "metadata": {
        "colab_type": "code",
        "id": "FasxsZHKAGnd",
        "outputId": "b581f474-ce93-4e5b-c1e3-4414ab7d279a",
        "colab": {
          "base_uri": "https://localhost:8080/",
          "height": 34
        }
      },
      "source": [
        "# put your code here\n",
        "''' vector that only contains values from the \"age\" column that aren't NaN:'''\n",
        "# age_is_null = pd.isnull(titanic_survival[\"age\"])\n",
        "# vector_ages_not_null = titanic_survival[\"age\"][~age_is_null]\n",
        "# print(vector_ages_not_null)\n",
        "age_is_null = titanic_survival[titanic_survival[\"age\"].notnull()]\n",
        "age_is_null[\"age\"]\n",
        "correct_mean_age = age_is_null.age.mean()\n",
        "correct_mean_age"
      ],
      "execution_count": 0,
      "outputs": [
        {
          "output_type": "execute_result",
          "data": {
            "text/plain": [
              "29.8811345124283"
            ]
          },
          "metadata": {
            "tags": []
          },
          "execution_count": 26
        }
      ]
    },
    {
      "cell_type": "markdown",
      "metadata": {
        "colab_type": "text",
        "id": "RwJzTTBiz8Zu"
      },
      "source": [
        "## 4 Easier Ways To Do Math\n"
      ]
    },
    {
      "cell_type": "markdown",
      "metadata": {
        "colab_type": "text",
        "id": "HwriBV0mAzNL"
      },
      "source": [
        "\n",
        "Luckily, missing data is so common that many pandas methods automatically filter for it. For example, if we use use the [Series.mean()](http://pandas.pydata.org/pandas-docs/stable/generated/pandas.Series.mean.html) method to calculate the mean of a column, missing values will not be included in the calculation.\n",
        "\n",
        "To calculate the mean age that we did earlier, we can replace all of our code with one line\n",
        "\n",
        "```python\n",
        "correct_mean_age = titanic_survival[\"age\"].mean()\n",
        "```\n",
        "\n",
        "Using the built in method is much easier, but it's import to understand what is happening behind the scenes.\n",
        "\n",
        "**Exercise**\n",
        "\n",
        "<img width=\"100\" src=\"https://drive.google.com/uc?export=view&id=1E8tR7B9YYUXsU_rddJAyq0FrM0MSelxZ\">\n",
        "\n",
        "\n",
        "\n",
        "**Description**:\n",
        "\n",
        "1. Assign the mean of the **\"fare\"** column to **correct_mean_fare**."
      ]
    },
    {
      "cell_type": "code",
      "metadata": {
        "colab_type": "code",
        "id": "ZhfqlbUoA6XH",
        "outputId": "c330e6fb-c1c0-46ca-fa59-4ecf84b9f1a1",
        "colab": {
          "base_uri": "https://localhost:8080/",
          "height": 35
        }
      },
      "source": [
        "# put your code here\n",
        "correct_mean_fare = titanic_survival[\"fare\"].mean()\n",
        "print(correct_mean_fare)"
      ],
      "execution_count": 0,
      "outputs": [
        {
          "output_type": "stream",
          "text": [
            "33.29547928134572\n"
          ],
          "name": "stdout"
        }
      ]
    },
    {
      "cell_type": "markdown",
      "metadata": {
        "colab_type": "text",
        "id": "NJAuwmUyz8Zu"
      },
      "source": [
        "## 5 Calculating Summary Statistics\n"
      ]
    },
    {
      "cell_type": "markdown",
      "metadata": {
        "colab_type": "text",
        "id": "juhqTxnHBr-i"
      },
      "source": [
        "\n",
        "\n",
        "Let's calculate more summary statistics for the data. The **pclass** column indicates the cabin class for each passenger, which was either first **class (1)**, **second class (2)**, or **third class (3)**. You'll use the list **passenger_classes**, which contains these values, in the following exercise.\n",
        "\n",
        "**Exercise**\n",
        "\n",
        "<img width=\"100\" src=\"https://drive.google.com/uc?export=view&id=1E8tR7B9YYUXsU_rddJAyq0FrM0MSelxZ\">\n",
        "\n",
        "\n",
        "**Description**:\n",
        "\n",
        "1. Use a for loop to iterate over **passenger_classes**. \n",
        "\n",
        "```python\n",
        "passenger_classes = [1, 2, 3]\n",
        "fares_by_class = {}\n",
        "```\n",
        "\n",
        "    Within the for loop:\n",
        "   - Select just the rows in **titanic_survival** where the **pclass** value is equivalent to the current iterator value (class).\n",
        "   - Select just the **fare** column for the current subset of rows.\n",
        "   - Use the **Series.mean** method to calculate the mean of this subset.\n",
        "   - Add the mean of the class to the **fares_by_class** dictionary with class as the key.\n",
        "   \n",
        "2. Once the loop completes, the dictionary **fares_by_class** should have **1, 2, and 3** as keys, with the average fares as the corresponding values.\n"
      ]
    },
    {
      "cell_type": "code",
      "metadata": {
        "colab_type": "code",
        "id": "nwHWEy1aCCVy",
        "outputId": "ee101b31-5fff-494c-ca8e-70712612002c",
        "colab": {
          "base_uri": "https://localhost:8080/",
          "height": 35
        }
      },
      "source": [
        "# put your code here\n",
        "passenger_classes = [1, 2, 3]\n",
        "fares_by_class = {} #\"fares\":\"tarifas\"\n",
        "for i in passenger_classes:\n",
        "  fares_by_class[i] = titanic_survival[titanic_survival.pclass == i][\"fare\"].mean() \n",
        "fares_by_class"
      ],
      "execution_count": 0,
      "outputs": [
        {
          "output_type": "execute_result",
          "data": {
            "text/plain": [
              "{1: 87.50899164086687, 2: 21.1791963898917, 3: 13.302888700564957}"
            ]
          },
          "metadata": {
            "tags": []
          },
          "execution_count": 23
        }
      ]
    },
    {
      "cell_type": "code",
      "metadata": {
        "id": "RZv-aqFAQH-0",
        "colab_type": "code",
        "outputId": "982831ea-e46e-4784-dd6e-81b43b6329d1",
        "colab": {
          "base_uri": "https://localhost:8080/",
          "height": 35
        }
      },
      "source": [
        "#OU\n",
        "{i:titanic_survival[titanic_survival.pclass == i][\"fare\"].mean()\n",
        "        for i in [1,2,3]} #resultado disso sai em um dicionário"
      ],
      "execution_count": 0,
      "outputs": [
        {
          "output_type": "execute_result",
          "data": {
            "text/plain": [
              "{1: 87.50899164086687, 2: 21.1791963898917, 3: 13.302888700564957}"
            ]
          },
          "metadata": {
            "tags": []
          },
          "execution_count": 26
        }
      ]
    },
    {
      "cell_type": "markdown",
      "metadata": {
        "colab_type": "text",
        "id": "IYr1QHy3z8Zv"
      },
      "source": [
        "## 6 Making Pivot Tables\n"
      ]
    },
    {
      "cell_type": "markdown",
      "metadata": {
        "colab_type": "text",
        "id": "UY1k1jYwEEdX"
      },
      "source": [
        "\n",
        "[Pivot tables](https://en.wikipedia.org/wiki/Pivot_table) provide an easy way to subset by one column and then apply a calculation like a sum or a mean. The concept of Pivot tables was popularized with the introduction of the 'PivotTable' feature in Microsoft Excel in the mid 1990's.\n",
        "\n",
        "Pivot tables first group and then apply a calculation. In the previous screen, we actually made a pivot table manually by grouping by the column **\"pclass\"** and then calculating the mean of the **\"fare\"** column for each class.\n",
        "\n",
        "Luckily, we can use the [Dataframe.pivot_table()](http://pandas.pydata.org/pandas-docs/stable/generated/pandas.pivot_table.html) method instead, which simplifies the kind of work we did on the last screen. To produce the same data, we could use one line.\n",
        "\n",
        "|  | pclass | survived | name                                            | sex    | age     | sibsp | parch | ticket | fare     | cabin   | embarked | boat | body | home.dest                       |\n",
        "|---|--------|----------|-------------------------------------------------|--------|---------|-------|-------|--------|----------|---------|----------|------|------|---------------------------------|\n",
        "| 0 | 1      | 1        | Allen, Miss. Elisabeth Walton                   | female | 29.0000 | 0     | 0     | 24160  | 211.3375 | B5      | S        | 2    |      | St Louis, MO                    |\n",
        "| 1 | 1      | 1        | Allison, Master. Hudson Trevor                  | male   | 0.9167  | 1     | 2     | 113781 | 151.5500 | C22 C26 | S        | 11   |      | Montreal, PQ / Chesterville, ON |\n",
        "| 2 | 1      | 0        | Allison, Miss. Helen Loraine                    | female | 2       | 1     | 2     | 113781 | 151.5500 | C22 C26 | S        |      |      | Montreal, PQ / Chesterville, ON |\n",
        "| 3 | 1      | 0        | Allison, Mr. Hudson Joshua Creighton            | male   | 30.0000 | 1     | 2     | 113781 | 151.5500 | C22 C26 | S        |      | 135  | Montreal, PQ / Chesterville, ON |\n",
        "| 4 | 1      | 0        | Allison, Mrs. Hudson J C (Bessie Waldo Daniels) | female | 25      | 1     | 2     | 113781 | 151.5500 | C22 C26 | S        |      |      | Montreal, PQ / Chesterville,    |\n",
        "\n",
        "\n",
        "\n",
        "```python\n",
        "passenger_class_fares = titanic_survival.pivot_table(index=\"pclass\", values=\"fare\", aggfunc=np.mean)\n",
        "```\n",
        "\n",
        "\n",
        "\n",
        "The first parameter of the method, index tells the method which column to group by. The second parameter values is the column that we want to apply the calculation to, and aggfunc specifies the calculation we want to perform. The default for the **aggfunc** parameter is actually the mean, so if we're calculating this we can omit this parameter.\n",
        "\n",
        "**Exercise**\n",
        "\n",
        "<img width=\"100\" src=\"https://drive.google.com/uc?export=view&id=1E8tR7B9YYUXsU_rddJAyq0FrM0MSelxZ\">\n",
        "\n",
        "\n",
        "**Description**:\n",
        "\n",
        "1. Use the **DataFrame.pivot_table()** method to calculate the **mean** age for each passenger class (**\"pclass\"**).\n",
        "2. Assign the result to **passenger_age**.\n",
        "3. Display the **passenger_age** pivot table using the **print()** function."
      ]
    },
    {
      "cell_type": "code",
      "metadata": {
        "colab_type": "code",
        "id": "Rnnk8M0bF68D",
        "outputId": "c2025984-ad4d-4e33-c365-9743e049cd55",
        "colab": {
          "base_uri": "https://localhost:8080/",
          "height": 1122
        }
      },
      "source": [
        "# put your code here\n",
        "passenger_age = titanic_survival.pivot_table(index=\"name\", values=\"pclass\", aggfunc=\"mean\")\n",
        "print(passenger_age)"
      ],
      "execution_count": 0,
      "outputs": [
        {
          "output_type": "stream",
          "text": [
            "                                                 pclass\n",
            "name                                                   \n",
            "Abbing, Mr. Anthony                                 3.0\n",
            "Abbott, Master. Eugene Joseph                       3.0\n",
            "Abbott, Mr. Rossmore Edward                         3.0\n",
            "Abbott, Mrs. Stanton (Rosa Hunt)                    3.0\n",
            "Abelseth, Miss. Karen Marie                         3.0\n",
            "Abelseth, Mr. Olaus Jorgensen                       3.0\n",
            "Abelson, Mr. Samuel                                 2.0\n",
            "Abelson, Mrs. Samuel (Hannah Wizosky)               2.0\n",
            "Abrahamsson, Mr. Abraham August Johannes            3.0\n",
            "Abrahim, Mrs. Joseph (Sophie Halaut Easu)           3.0\n",
            "Adahl, Mr. Mauritz Nils Martin                      3.0\n",
            "Adams, Mr. John                                     3.0\n",
            "Ahlin, Mrs. Johan (Johanna Persdotter Larsson)      3.0\n",
            "Aks, Master. Philip Frank                           3.0\n",
            "Aks, Mrs. Sam (Leah Rosen)                          3.0\n",
            "Albimona, Mr. Nassef Cassem                         3.0\n",
            "Aldworth, Mr. Charles Augustus                      2.0\n",
            "Alexander, Mr. William                              3.0\n",
            "Alhomaki, Mr. Ilmari Rudolf                         3.0\n",
            "Ali, Mr. Ahmed                                      3.0\n",
            "Ali, Mr. William                                    3.0\n",
            "Allen, Miss. Elisabeth Walton                       1.0\n",
            "Allen, Mr. William Henry                            3.0\n",
            "Allison, Master. Hudson Trevor                      1.0\n",
            "Allison, Miss. Helen Loraine                        1.0\n",
            "Allison, Mr. Hudson Joshua Creighton                1.0\n",
            "Allison, Mrs. Hudson J C (Bessie Waldo Daniels)     1.0\n",
            "Allum, Mr. Owen George                              3.0\n",
            "Andersen, Mr. Albert Karvin                         3.0\n",
            "Andersen-Jensen, Miss. Carla Christine Nielsine     3.0\n",
            "...                                                 ...\n",
            "Windelov, Mr. Einar                                 3.0\n",
            "Wirz, Mr. Albert                                    3.0\n",
            "Wiseman, Mr. Phillippe                              3.0\n",
            "Wittevrongel, Mr. Camille                           3.0\n",
            "Woolner, Mr. Hugh                                   1.0\n",
            "Wright, Miss. Marion                                2.0\n",
            "Wright, Mr. George                                  1.0\n",
            "Yasbeck, Mr. Antoni                                 3.0\n",
            "Yasbeck, Mrs. Antoni (Selini Alexander)             3.0\n",
            "Young, Miss. Marie Grice                            1.0\n",
            "Youseff, Mr. Gerious                                3.0\n",
            "Yousif, Mr. Wazli                                   3.0\n",
            "Yousseff, Mr. Gerious                               3.0\n",
            "Yrois, Miss. Henriette (\"Mrs Harbeck\")              2.0\n",
            "Zabour, Miss. Hileni                                3.0\n",
            "Zabour, Miss. Thamine                               3.0\n",
            "Zakarian, Mr. Mapriededer                           3.0\n",
            "Zakarian, Mr. Ortin                                 3.0\n",
            "Zimmerman, Mr. Leo                                  3.0\n",
            "de Brito, Mr. Jose Joaquim                          2.0\n",
            "de Messemaeker, Mr. Guillaume Joseph                3.0\n",
            "de Messemaeker, Mrs. Guillaume Joseph (Emma)        3.0\n",
            "de Mulder, Mr. Theodore                             3.0\n",
            "de Pelsmaeker, Mr. Alfons                           3.0\n",
            "del Carlo, Mr. Sebastiano                           2.0\n",
            "del Carlo, Mrs. Sebastiano (Argenia Genovesi)       2.0\n",
            "van Billiard, Master. James William                 3.0\n",
            "van Billiard, Master. Walter John                   3.0\n",
            "van Billiard, Mr. Austin Blyler                     3.0\n",
            "van Melkebeke, Mr. Philemon                         3.0\n",
            "\n",
            "[1307 rows x 1 columns]\n"
          ],
          "name": "stdout"
        }
      ]
    },
    {
      "cell_type": "markdown",
      "metadata": {
        "colab_type": "text",
        "id": "8t-JNboDz8Zv"
      },
      "source": [
        "## 7  More complex pivot tables\n"
      ]
    },
    {
      "cell_type": "markdown",
      "metadata": {
        "colab_type": "text",
        "id": "MRv3IanTFQjs"
      },
      "source": [
        "\n",
        "We can use the **DataFrame.pivot_table()** method to perform even more advanced tasks. If we pass a list of column names to the values parameter instead of a single value, we can perform calculations on multiple columns at once.\n",
        "\n",
        "We can also specify a custom calculation to be made. For instance, if we pass **np.sum** to the **aggfunc** parameter it will total the values in each column.\n",
        "\n",
        "**Exercise**\n",
        "\n",
        "<img width=\"100\" src=\"https://drive.google.com/uc?export=view&id=1E8tR7B9YYUXsU_rddJAyq0FrM0MSelxZ\">\n",
        "\n",
        "\n",
        "\n",
        "**Description**:\n",
        "\n",
        "1. Make a pivot table that calculates the total fares collected (**\"fare\"**) and total number of survivors (**\"survived\"**) for each embarkation port (**\"embarked\"**).\n",
        "2. Assign the result to **port_stats**.\n",
        "3. Display **port_stats** using the **print()** function."
      ]
    },
    {
      "cell_type": "code",
      "metadata": {
        "colab_type": "code",
        "id": "SCNU7GagHTpb",
        "outputId": "3e7b29ae-5ae3-4256-a970-fd0f2aa2b623",
        "colab": {
          "base_uri": "https://localhost:8080/",
          "height": 102
        }
      },
      "source": [
        "# put your code here\n",
        "port_stats = titanic_survival.pivot_table(index=\"embarked\", values=[\"fare\", \"survived\"], aggfunc=\"count\")\n",
        "print(port_stats)"
      ],
      "execution_count": 0,
      "outputs": [
        {
          "output_type": "stream",
          "text": [
            "          fare  survived\n",
            "embarked                \n",
            "C          270       270\n",
            "Q          123       123\n",
            "S          913       914\n"
          ],
          "name": "stdout"
        }
      ]
    },
    {
      "cell_type": "markdown",
      "metadata": {
        "colab_type": "text",
        "id": "Yv2q7mfrz8Zx"
      },
      "source": [
        "## 8 Droping missing values\n"
      ]
    },
    {
      "cell_type": "markdown",
      "metadata": {
        "colab_type": "text",
        "id": "3vOV2HLLIYs0"
      },
      "source": [
        "\n",
        "We learned how to remove the missing values in a vector of data, but how about in a matrix?\n",
        "\n",
        "We can use the [DataFrame.dropna()](http://pandas.pydata.org/pandas-docs/stable/generated/pandas.DataFrame.dropna.html) method on pandas **DataFrames** to do this. The method will drop any rows that contain missing values.\n",
        "\n",
        "The **dropna()** method takes an axis parameter, which indicates whether you would like to drop rows or columns. Specifying **axis=0** or **axis='index'** will drop any rows that have null values, while specifying **axis=1** or **axis='columns'** will drop any columns that have null values. We will use **0** and **1** since they're more commonly used, but you can use either.\n",
        "\n",
        "The code below will drop all rows in **titanic_survival** that have null values.\n",
        "\n",
        "```python\n",
        "drop_na_rows = titanic_survival.dropna(axis=0)\n",
        "```\n",
        "\n",
        "There is also a parameter that allows you to specify a list of columns or rows to look at when using **dropna()**. You will need to use this in the next exercise - take a look at the [documentation](http://pandas.pydata.org/pandas-docs/stable/generated/pandas.DataFrame.dropna.html) to work out the name of this parameter and how it works.\n",
        "\n",
        "**Exercise**\n",
        "\n",
        "<img width=\"100\" src=\"https://drive.google.com/uc?export=view&id=1E8tR7B9YYUXsU_rddJAyq0FrM0MSelxZ\">\n",
        "\n",
        "\n",
        "**Description**:\n",
        "\n",
        "1. Drop all columns in **titanic_survival** that have missing values and assign the result to **drop_na_columns**.\n",
        "2. Drop all rows in **titanic_survival** where the columns **\"age\"** or **\"sex\"** have missing values and assign the result to **new_titanic_survival**.\n"
      ]
    },
    {
      "cell_type": "code",
      "metadata": {
        "colab_type": "code",
        "id": "9ralxmbKNoRe",
        "colab": {}
      },
      "source": [
        "# put your code here\n",
        "drop_na_colums = titanic_survival.dropna(axis=1)\n",
        "new_titanic_survival = titanic_survival[[\"age\", \"sex\"]].dropna(axis=0)"
      ],
      "execution_count": 0,
      "outputs": []
    },
    {
      "cell_type": "markdown",
      "metadata": {
        "colab_type": "text",
        "id": "pe1lsdQrJ3eO"
      },
      "source": [
        "## 9 Guided Challenge"
      ]
    },
    {
      "cell_type": "code",
      "metadata": {
        "colab_type": "code",
        "id": "jOOBWYBmz8aH",
        "colab": {}
      },
      "source": [
        "titanic_survival[\"agecat\"] = pd.cut(titanic_survival.age,\n",
        "                        bins=[0,5,10,18,30,50,65,100],\n",
        "                        labels=[\"Infant\",\"Child\",\"Teenager\",\n",
        "                                \"Young adult\",\"Adult\",\"Senior adult\",\"Senior\"])"
      ],
      "execution_count": 0,
      "outputs": []
    },
    {
      "cell_type": "code",
      "metadata": {
        "colab_type": "code",
        "id": "SUHiFHO5KzvZ",
        "outputId": "ea309269-5fd0-4ff3-ea5c-9fe3466a4c0e",
        "colab": {
          "base_uri": "https://localhost:8080/",
          "height": 136
        }
      },
      "source": [
        "titanic_survival.agecat.head()"
      ],
      "execution_count": 0,
      "outputs": [
        {
          "output_type": "execute_result",
          "data": {
            "text/plain": [
              "0    Young adult\n",
              "1         Infant\n",
              "2         Infant\n",
              "3    Young adult\n",
              "4    Young adult\n",
              "Name: agecat, dtype: category\n",
              "Categories (7, object): [Infant < Child < Teenager < Young adult < Adult < Senior adult < Senior]"
            ]
          },
          "metadata": {
            "tags": []
          },
          "execution_count": 47
        }
      ]
    },
    {
      "cell_type": "code",
      "metadata": {
        "colab_type": "code",
        "id": "7eDQwA_uz8aK",
        "outputId": "b07ba56f-e626-4552-ec28-071d31a4e7ee",
        "colab": {
          "base_uri": "https://localhost:8080/",
          "height": 514
        }
      },
      "source": [
        "titanic_pivot = titanic_survival.pivot_table(index=[\"agecat\",\"survived\"],\n",
        "                             values=\"age\",\n",
        "                             aggfunc=\"count\").rename(columns={\"age\": \"count\"})\n",
        "titanic_pivot"
      ],
      "execution_count": 0,
      "outputs": [
        {
          "output_type": "execute_result",
          "data": {
            "text/html": [
              "<div>\n",
              "<style scoped>\n",
              "    .dataframe tbody tr th:only-of-type {\n",
              "        vertical-align: middle;\n",
              "    }\n",
              "\n",
              "    .dataframe tbody tr th {\n",
              "        vertical-align: top;\n",
              "    }\n",
              "\n",
              "    .dataframe thead th {\n",
              "        text-align: right;\n",
              "    }\n",
              "</style>\n",
              "<table border=\"1\" class=\"dataframe\">\n",
              "  <thead>\n",
              "    <tr style=\"text-align: right;\">\n",
              "      <th></th>\n",
              "      <th></th>\n",
              "      <th>count</th>\n",
              "    </tr>\n",
              "    <tr>\n",
              "      <th>agecat</th>\n",
              "      <th>survived</th>\n",
              "      <th></th>\n",
              "    </tr>\n",
              "  </thead>\n",
              "  <tbody>\n",
              "    <tr>\n",
              "      <th rowspan=\"2\" valign=\"top\">Infant</th>\n",
              "      <th>0.0</th>\n",
              "      <td>19</td>\n",
              "    </tr>\n",
              "    <tr>\n",
              "      <th>1.0</th>\n",
              "      <td>37</td>\n",
              "    </tr>\n",
              "    <tr>\n",
              "      <th rowspan=\"2\" valign=\"top\">Child</th>\n",
              "      <th>0.0</th>\n",
              "      <td>17</td>\n",
              "    </tr>\n",
              "    <tr>\n",
              "      <th>1.0</th>\n",
              "      <td>13</td>\n",
              "    </tr>\n",
              "    <tr>\n",
              "      <th rowspan=\"2\" valign=\"top\">Teenager</th>\n",
              "      <th>0.0</th>\n",
              "      <td>62</td>\n",
              "    </tr>\n",
              "    <tr>\n",
              "      <th>1.0</th>\n",
              "      <td>45</td>\n",
              "    </tr>\n",
              "    <tr>\n",
              "      <th rowspan=\"2\" valign=\"top\">Young adult</th>\n",
              "      <th>0.0</th>\n",
              "      <td>263</td>\n",
              "    </tr>\n",
              "    <tr>\n",
              "      <th>1.0</th>\n",
              "      <td>153</td>\n",
              "    </tr>\n",
              "    <tr>\n",
              "      <th rowspan=\"2\" valign=\"top\">Adult</th>\n",
              "      <th>0.0</th>\n",
              "      <td>201</td>\n",
              "    </tr>\n",
              "    <tr>\n",
              "      <th>1.0</th>\n",
              "      <td>141</td>\n",
              "    </tr>\n",
              "    <tr>\n",
              "      <th rowspan=\"2\" valign=\"top\">Senior adult</th>\n",
              "      <th>0.0</th>\n",
              "      <td>49</td>\n",
              "    </tr>\n",
              "    <tr>\n",
              "      <th>1.0</th>\n",
              "      <td>36</td>\n",
              "    </tr>\n",
              "    <tr>\n",
              "      <th rowspan=\"2\" valign=\"top\">Senior</th>\n",
              "      <th>0.0</th>\n",
              "      <td>8</td>\n",
              "    </tr>\n",
              "    <tr>\n",
              "      <th>1.0</th>\n",
              "      <td>2</td>\n",
              "    </tr>\n",
              "  </tbody>\n",
              "</table>\n",
              "</div>"
            ],
            "text/plain": [
              "                       count\n",
              "agecat       survived       \n",
              "Infant       0.0          19\n",
              "             1.0          37\n",
              "Child        0.0          17\n",
              "             1.0          13\n",
              "Teenager     0.0          62\n",
              "             1.0          45\n",
              "Young adult  0.0         263\n",
              "             1.0         153\n",
              "Adult        0.0         201\n",
              "             1.0         141\n",
              "Senior adult 0.0          49\n",
              "             1.0          36\n",
              "Senior       0.0           8\n",
              "             1.0           2"
            ]
          },
          "metadata": {
            "tags": []
          },
          "execution_count": 65
        }
      ]
    },
    {
      "cell_type": "code",
      "metadata": {
        "colab_type": "code",
        "id": "AOAbbHWzz8aO",
        "outputId": "1a6ffbee-42a9-4914-df76-5eacf0d746aa",
        "colab": {
          "base_uri": "https://localhost:8080/",
          "height": 514
        }
      },
      "source": [
        "titanic_survival.pivot_table(index=[\"agecat\",\"survived\"],\n",
        "                 values=\"age\",\n",
        "                 aggfunc=lambda x: len(x)/len(titanic_survival)).rename(columns={\"age\":\"survived_rate\"})"
      ],
      "execution_count": 0,
      "outputs": [
        {
          "output_type": "execute_result",
          "data": {
            "text/html": [
              "<div>\n",
              "<style scoped>\n",
              "    .dataframe tbody tr th:only-of-type {\n",
              "        vertical-align: middle;\n",
              "    }\n",
              "\n",
              "    .dataframe tbody tr th {\n",
              "        vertical-align: top;\n",
              "    }\n",
              "\n",
              "    .dataframe thead th {\n",
              "        text-align: right;\n",
              "    }\n",
              "</style>\n",
              "<table border=\"1\" class=\"dataframe\">\n",
              "  <thead>\n",
              "    <tr style=\"text-align: right;\">\n",
              "      <th></th>\n",
              "      <th></th>\n",
              "      <th>survived_rate</th>\n",
              "    </tr>\n",
              "    <tr>\n",
              "      <th>agecat</th>\n",
              "      <th>survived</th>\n",
              "      <th></th>\n",
              "    </tr>\n",
              "  </thead>\n",
              "  <tbody>\n",
              "    <tr>\n",
              "      <th rowspan=\"2\" valign=\"top\">Infant</th>\n",
              "      <th>0.0</th>\n",
              "      <td>0.014504</td>\n",
              "    </tr>\n",
              "    <tr>\n",
              "      <th>1.0</th>\n",
              "      <td>0.028244</td>\n",
              "    </tr>\n",
              "    <tr>\n",
              "      <th rowspan=\"2\" valign=\"top\">Child</th>\n",
              "      <th>0.0</th>\n",
              "      <td>0.012977</td>\n",
              "    </tr>\n",
              "    <tr>\n",
              "      <th>1.0</th>\n",
              "      <td>0.009924</td>\n",
              "    </tr>\n",
              "    <tr>\n",
              "      <th rowspan=\"2\" valign=\"top\">Teenager</th>\n",
              "      <th>0.0</th>\n",
              "      <td>0.047328</td>\n",
              "    </tr>\n",
              "    <tr>\n",
              "      <th>1.0</th>\n",
              "      <td>0.034351</td>\n",
              "    </tr>\n",
              "    <tr>\n",
              "      <th rowspan=\"2\" valign=\"top\">Young adult</th>\n",
              "      <th>0.0</th>\n",
              "      <td>0.200763</td>\n",
              "    </tr>\n",
              "    <tr>\n",
              "      <th>1.0</th>\n",
              "      <td>0.116794</td>\n",
              "    </tr>\n",
              "    <tr>\n",
              "      <th rowspan=\"2\" valign=\"top\">Adult</th>\n",
              "      <th>0.0</th>\n",
              "      <td>0.153435</td>\n",
              "    </tr>\n",
              "    <tr>\n",
              "      <th>1.0</th>\n",
              "      <td>0.107634</td>\n",
              "    </tr>\n",
              "    <tr>\n",
              "      <th rowspan=\"2\" valign=\"top\">Senior adult</th>\n",
              "      <th>0.0</th>\n",
              "      <td>0.037405</td>\n",
              "    </tr>\n",
              "    <tr>\n",
              "      <th>1.0</th>\n",
              "      <td>0.027481</td>\n",
              "    </tr>\n",
              "    <tr>\n",
              "      <th rowspan=\"2\" valign=\"top\">Senior</th>\n",
              "      <th>0.0</th>\n",
              "      <td>0.006107</td>\n",
              "    </tr>\n",
              "    <tr>\n",
              "      <th>1.0</th>\n",
              "      <td>0.001527</td>\n",
              "    </tr>\n",
              "  </tbody>\n",
              "</table>\n",
              "</div>"
            ],
            "text/plain": [
              "                       survived_rate\n",
              "agecat       survived               \n",
              "Infant       0.0            0.014504\n",
              "             1.0            0.028244\n",
              "Child        0.0            0.012977\n",
              "             1.0            0.009924\n",
              "Teenager     0.0            0.047328\n",
              "             1.0            0.034351\n",
              "Young adult  0.0            0.200763\n",
              "             1.0            0.116794\n",
              "Adult        0.0            0.153435\n",
              "             1.0            0.107634\n",
              "Senior adult 0.0            0.037405\n",
              "             1.0            0.027481\n",
              "Senior       0.0            0.006107\n",
              "             1.0            0.001527"
            ]
          },
          "metadata": {
            "tags": []
          },
          "execution_count": 66
        }
      ]
    },
    {
      "cell_type": "code",
      "metadata": {
        "colab_type": "code",
        "id": "Pc9vQSrFz8aS",
        "outputId": "672e1af3-8e28-4066-db39-6be1ecee4769",
        "colab": {
          "base_uri": "https://localhost:8080/",
          "height": 514
        }
      },
      "source": [
        "titanic_pivot[\"survived_rate\"] = titanic_pivot[\"count\"]/titanic_pivot[\"count\"].sum()\n",
        "titanic_pivot"
      ],
      "execution_count": 0,
      "outputs": [
        {
          "output_type": "execute_result",
          "data": {
            "text/html": [
              "<div>\n",
              "<style scoped>\n",
              "    .dataframe tbody tr th:only-of-type {\n",
              "        vertical-align: middle;\n",
              "    }\n",
              "\n",
              "    .dataframe tbody tr th {\n",
              "        vertical-align: top;\n",
              "    }\n",
              "\n",
              "    .dataframe thead th {\n",
              "        text-align: right;\n",
              "    }\n",
              "</style>\n",
              "<table border=\"1\" class=\"dataframe\">\n",
              "  <thead>\n",
              "    <tr style=\"text-align: right;\">\n",
              "      <th></th>\n",
              "      <th></th>\n",
              "      <th>count</th>\n",
              "      <th>survived_rate</th>\n",
              "    </tr>\n",
              "    <tr>\n",
              "      <th>agecat</th>\n",
              "      <th>survived</th>\n",
              "      <th></th>\n",
              "      <th></th>\n",
              "    </tr>\n",
              "  </thead>\n",
              "  <tbody>\n",
              "    <tr>\n",
              "      <th rowspan=\"2\" valign=\"top\">Infant</th>\n",
              "      <th>0.0</th>\n",
              "      <td>19</td>\n",
              "      <td>0.018164</td>\n",
              "    </tr>\n",
              "    <tr>\n",
              "      <th>1.0</th>\n",
              "      <td>37</td>\n",
              "      <td>0.035373</td>\n",
              "    </tr>\n",
              "    <tr>\n",
              "      <th rowspan=\"2\" valign=\"top\">Child</th>\n",
              "      <th>0.0</th>\n",
              "      <td>17</td>\n",
              "      <td>0.016252</td>\n",
              "    </tr>\n",
              "    <tr>\n",
              "      <th>1.0</th>\n",
              "      <td>13</td>\n",
              "      <td>0.012428</td>\n",
              "    </tr>\n",
              "    <tr>\n",
              "      <th rowspan=\"2\" valign=\"top\">Teenager</th>\n",
              "      <th>0.0</th>\n",
              "      <td>62</td>\n",
              "      <td>0.059273</td>\n",
              "    </tr>\n",
              "    <tr>\n",
              "      <th>1.0</th>\n",
              "      <td>45</td>\n",
              "      <td>0.043021</td>\n",
              "    </tr>\n",
              "    <tr>\n",
              "      <th rowspan=\"2\" valign=\"top\">Young adult</th>\n",
              "      <th>0.0</th>\n",
              "      <td>263</td>\n",
              "      <td>0.251434</td>\n",
              "    </tr>\n",
              "    <tr>\n",
              "      <th>1.0</th>\n",
              "      <td>153</td>\n",
              "      <td>0.146272</td>\n",
              "    </tr>\n",
              "    <tr>\n",
              "      <th rowspan=\"2\" valign=\"top\">Adult</th>\n",
              "      <th>0.0</th>\n",
              "      <td>201</td>\n",
              "      <td>0.192161</td>\n",
              "    </tr>\n",
              "    <tr>\n",
              "      <th>1.0</th>\n",
              "      <td>141</td>\n",
              "      <td>0.134799</td>\n",
              "    </tr>\n",
              "    <tr>\n",
              "      <th rowspan=\"2\" valign=\"top\">Senior adult</th>\n",
              "      <th>0.0</th>\n",
              "      <td>49</td>\n",
              "      <td>0.046845</td>\n",
              "    </tr>\n",
              "    <tr>\n",
              "      <th>1.0</th>\n",
              "      <td>36</td>\n",
              "      <td>0.034417</td>\n",
              "    </tr>\n",
              "    <tr>\n",
              "      <th rowspan=\"2\" valign=\"top\">Senior</th>\n",
              "      <th>0.0</th>\n",
              "      <td>8</td>\n",
              "      <td>0.007648</td>\n",
              "    </tr>\n",
              "    <tr>\n",
              "      <th>1.0</th>\n",
              "      <td>2</td>\n",
              "      <td>0.001912</td>\n",
              "    </tr>\n",
              "  </tbody>\n",
              "</table>\n",
              "</div>"
            ],
            "text/plain": [
              "                       count  survived_rate\n",
              "agecat       survived                      \n",
              "Infant       0.0          19       0.018164\n",
              "             1.0          37       0.035373\n",
              "Child        0.0          17       0.016252\n",
              "             1.0          13       0.012428\n",
              "Teenager     0.0          62       0.059273\n",
              "             1.0          45       0.043021\n",
              "Young adult  0.0         263       0.251434\n",
              "             1.0         153       0.146272\n",
              "Adult        0.0         201       0.192161\n",
              "             1.0         141       0.134799\n",
              "Senior adult 0.0          49       0.046845\n",
              "             1.0          36       0.034417\n",
              "Senior       0.0           8       0.007648\n",
              "             1.0           2       0.001912"
            ]
          },
          "metadata": {
            "tags": []
          },
          "execution_count": 68
        }
      ]
    }
  ]
}