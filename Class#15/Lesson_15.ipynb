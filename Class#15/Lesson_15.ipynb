{
  "nbformat": 4,
  "nbformat_minor": 0,
  "metadata": {
    "colab": {
      "name": "Lesson 15.ipynb",
      "version": "0.3.2",
      "provenance": [],
      "collapsed_sections": []
    },
    "kernelspec": {
      "name": "python3",
      "display_name": "Python 3"
    }
  },
  "cells": [
    {
      "cell_type": "code",
      "metadata": {
        "id": "8tSBgrR4SAOW",
        "colab_type": "code",
        "colab": {}
      },
      "source": [
        "# Gráfico de barra e de pizza: para variáveis nominais e ordinais\n",
        "# Histogramas: para variáveis intervalares ou de razão\n",
        "  \n",
        "  \n",
        "# Simetria negativa ou positiva"
      ],
      "execution_count": 0,
      "outputs": []
    },
    {
      "cell_type": "code",
      "metadata": {
        "id": "DeRv8rfBizrU",
        "colab_type": "code",
        "colab": {}
      },
      "source": [
        "# Estimativa da densidade de Kernel: faz interpolação e consegue a distribuição.\n",
        "#                                    É bom para poucas variáveis\n",
        "\n",
        "#Outliers: interquartil = 3º quartil - 1º quartil(upper quartile - lower quartile)\n",
        "#             --> 3 quartil + 3*1,5: a partir desse valor pra cima é outlier(upper bound)\n",
        "#             --> 1 quartil - 3*1,5: a partir desse valor pra baixo é outlier(lower bound)"
      ],
      "execution_count": 0,
      "outputs": []
    },
    {
      "cell_type": "code",
      "metadata": {
        "id": "Equ796ftLM-S",
        "colab_type": "code",
        "colab": {}
      },
      "source": [
        "# Grouped bar plots are ideal to compare the frequency distributions of nominal \n",
        "# or ordinal variables. For variables measured on an interval or ratio scale, \n",
        "# we can use step-type histograms, kernel density plots, or, for better readability, strip plots or box plots."
      ],
      "execution_count": 0,
      "outputs": []
    },
    {
      "cell_type": "markdown",
      "metadata": {
        "id": "PNzn4IpGBHae",
        "colab_type": "text"
      },
      "source": [
        "# 1.0 Visualizing Frequency Distributions"
      ]
    },
    {
      "cell_type": "markdown",
      "metadata": {
        "id": "nkptnXR6BRFA",
        "colab_type": "text"
      },
      "source": [
        "## 1.1 Visualizing Distributions"
      ]
    },
    {
      "cell_type": "markdown",
      "metadata": {
        "id": "XZcQgRvpBT5J",
        "colab_type": "text"
      },
      "source": [
        "To find patterns in a frequency table we have to look up the frequency of each unique value or class interval and at the same time compare the frequencies. This process can get time consuming for tables with many unique values or class intervals, or when the frequency values are large and hard to compare against each other.\n",
        "\n",
        "We can solve this problem by **visualizing** the data in the tables with the help of graphs. Graphs make it much easier to scan and compare frequencies, providing us with a single picture of the entire distribution of a variable.\n",
        "\n",
        "Because they are easy to grasp and also eye-catching, graphs are a better choice over frequency tables if we need to present our findings to a non-technical audience.\n",
        "\n",
        "In this lesson, we'll learn about three kinds of graphs:\n",
        "\n",
        "- Bar plots.\n",
        "- Pie charts.\n",
        "- Histograms.\n",
        "\n",
        "By the end of the mission, we'll know how to generate ourselves the graphs below, and we'll know when it makes sense to use each:\n",
        "\n",
        "<center><img width=\"1000\" src=\"https://drive.google.com/uc?export=view&id=1Rxdp-_t01VXmbJayEqTs4WOn4_-SAL6t\"></center>\n",
        "\n",
        "We've already learned about bar plots and histograms in the EDA lessons. In this mission we build upon that knowledge and discuss the graphs in the context of statistics by learning for what kind of variables each graph is most suitable for.\n"
      ]
    },
    {
      "cell_type": "markdown",
      "metadata": {
        "id": "YMHx4wBYBfQz",
        "colab_type": "text"
      },
      "source": [
        "## 1.2 Bar Plots"
      ]
    },
    {
      "cell_type": "markdown",
      "metadata": {
        "id": "-qoHpwyoCk4o",
        "colab_type": "text"
      },
      "source": [
        "For variables measured on a **nominal** or an **ordinal** scale it's common to use a **bar plot** to visualize their distribution. To generate a **bar plot** for the distribution of a variable we need two sets of values:\n",
        "\n",
        "- One set containing the unique values.\n",
        "- Another set containing the frequency for each unique value.\n",
        "\n",
        "We can get this data easily from a frequency table. We can use **Series.value_counts()** to generate the table, and then use the [Series.plot.bar()](https://pandas.pydata.org/pandas-docs/stable/generated/pandas.Series.plot.bar.html) method on the resulting table to generate a **bar plot**. Using the same WNBA dataset we've been working with for the past missions, this is how we'd do that for the Pos (player position) variable:\n",
        "\n",
        "```python\n",
        ">> wnba['Pos'].value_counts().plot.bar()\n",
        "```\n",
        "\n",
        "<center><img width=\"400\" src=\"https://drive.google.com/uc?export=view&id=1xPuz8XKNPPmGVdpMbqLcVNniySRGGuDc\"></center>\n",
        "\n",
        "The **Series.plot.bar()** method generates a vertical bar plot with the frequencies on the y-axis, and the unique values on the x-axis. To generate a horizontal bar plot, we can use the [Series.plot.barh() method](https://pandas.pydata.org/pandas-docs/stable/generated/pandas.Series.plot.barh.html):\n",
        "\n",
        "```python\n",
        ">> wnba['Pos'].value_counts().plot.barh()\n",
        "```\n",
        "<center><img width=\"400\" src=\"https://drive.google.com/uc?export=view&id=1jQCBSxV20rDElban00Shk08R6ykT0oXk\"></center>\n",
        "\n",
        "\n",
        "As we'll see in the next screen, horizontal bar plots are ideal to use when the labels of the unique values are long.\n",
        "\n",
        "\n",
        "**Exercise**\n",
        "\n",
        "<img width=\"100\" src=\"https://drive.google.com/uc?export=view&id=1E8tR7B9YYUXsU_rddJAyq0FrM0MSelxZ\">\n",
        "\n",
        "\n",
        "- We've taken information from the **Experience** column, and created a new column named **Exp_ordinal**, which is measured on an ordinal scale. The new column has five unique labels, and each one corresponds to a number of years a player has played in WNBA:\n",
        "\n",
        "<img width=\"300\" src=\"https://drive.google.com/uc?export=view&id=1tqqE0d76Xk1baGCTWNEkYbJ9Muevfuw3\">\n",
        "\n",
        "- Create a **bar plot** to display the distribution of the **Exp_ordinal** variable:\n",
        "  - Generate a frequency table for the **Exp_ordinal** variable.\n",
        "  - Sort the table by unique labels in an ascending order using the techiques we learned in the previous mission.\n",
        "  - Generate a bar plot using the **Series.plot.bar()** method.\n",
        "  \n",
        "  \n",
        "  \n",
        "  "
      ]
    },
    {
      "cell_type": "code",
      "metadata": {
        "id": "mDUEcS7LDCIo",
        "colab_type": "code",
        "outputId": "c93d5e98-6850-4ff4-9bb6-fe38211da56c",
        "colab": {
          "base_uri": "https://localhost:8080/",
          "height": 364
        }
      },
      "source": [
        "# put your code here\n",
        "import pandas as pd\n",
        "wnba = pd.read_csv(\"wnba.csv\")\n",
        "# cleaning the experience column\n",
        "wnba.loc[wnba.Experience == 'R',\"Experience\"] = 0\n",
        "wnba[\"Experience\"] = wnba[\"Experience\"].astype(int)\n",
        "\n",
        "# create exp_ordinal column\n",
        "wnba[\"Exp_ordinal\"] = pd.cut(wnba.Experience,\n",
        "       bins=[-1,0,3,5,10,100],\n",
        "       labels=[\"rookie\",\"Little experience\",\"Experienced\",\n",
        "              \"Very experienced\",\"Veteran\"])\n",
        "\n",
        "# verify the results\n",
        "wnba.Exp_ordinal.value_counts()\n",
        "\n",
        "wnba[\"Exp_ordinal\"].value_counts().sort_values(ascending = True).plot.bar()"
      ],
      "execution_count": 0,
      "outputs": [
        {
          "output_type": "execute_result",
          "data": {
            "text/plain": [
              "<matplotlib.axes._subplots.AxesSubplot at 0x7fcbcd3fb240>"
            ]
          },
          "metadata": {
            "tags": []
          },
          "execution_count": 5
        },
        {
          "output_type": "display_data",
          "data": {
            "image/png": "[encoded data removed]",
            "text/plain": [
              "<Figure size 432x288 with 1 Axes>"
            ]
          },
          "metadata": {
            "tags": []
          }
        }
      ]
    },
    {
      "cell_type": "markdown",
      "metadata": {
        "id": "nMKBxeeVGvTc",
        "colab_type": "text"
      },
      "source": [
        "## 1.3 Horizontal Bar Plots"
      ]
    },
    {
      "cell_type": "markdown",
      "metadata": {
        "id": "pJ8bE9MhHEym",
        "colab_type": "text"
      },
      "source": [
        "One of the problems with the bar plot we built in the last exercise is that the tick labels of the x-axis are hard to read:\n",
        "\n",
        "<img width=\"400\" src=\"https://drive.google.com/uc?export=view&id=1gKTo1l94020_BBnk7ilS8WzllVFzYfFE\">\n",
        "\n",
        "\n",
        "To fix this we can rotate the labels, or we can switch to a horizontal bar plot. We can rotate the labels using the rot parameter of **Series.plot.bar()** method we used. The labels are already rotated at 90°, and we can tilt them a bit at 45°:\n",
        "\n",
        "```python\n",
        ">> wnba['Exp_ordinal'].value_counts().iloc[[3,0,2,1,4]].plot.bar(rot = 45)\n",
        "```\n",
        "\n",
        "<img width=\"400\" src=\"https://drive.google.com/uc?export=view&id=1wD2TvUAm0fyBrVwWeE5KnTxuz2IS6RKf\">\n",
        "\n",
        "Slightly better, but we can do a better job with a horizontal bar plot. If we wanted to publish this bar plot, we'd also have to make it more informative by adding a title. This is what we'll do in the next exercise, but for now this is how we could do that for the **Pos** variable (note that we use the [Series.plot.barh()](https://pandas.pydata.org/pandas-docs/stable/generated/pandas.Series.plot.barh.html) method, not **Series.plot.bar()**):\n",
        "\n",
        "```python\n",
        ">> wnba['Pos'].value_counts().plot.barh(title = 'Number of players in WNBA by position')\n",
        "```\n",
        "\n",
        "<img width=\"400\" src=\"https://drive.google.com/uc?export=view&id=1cNU5qtgeawYB-9ec-pC16XtN_6Rtb1Sd\">\n",
        "\n",
        "\n",
        "\n",
        "**Exercise**\n",
        "\n",
        "<img width=\"100\" src=\"https://drive.google.com/uc?export=view&id=1E8tR7B9YYUXsU_rddJAyq0FrM0MSelxZ\">\n",
        "\n",
        "\n",
        "- Create a horizontal bar plot to visualize the distribution of the **Exp_ordinal** variable.\n",
        "  - Generate a frequency table for the **Exp_ordinal** variable.\n",
        "  - Sort the table by unique labels in an ascending order.\n",
        "  - Use the **Series.plot.barh()** method to generate the horizontal bar plot.\n",
        "  - Add the following title to the plot: **Number of players in WNBA by level of experience.**"
      ]
    },
    {
      "cell_type": "code",
      "metadata": {
        "id": "VzVfMxeCHcH5",
        "colab_type": "code",
        "outputId": "7c2b43bc-abae-4580-d212-5ee40ebde0e9",
        "colab": {
          "base_uri": "https://localhost:8080/",
          "height": 298
        }
      },
      "source": [
        "# put your code here\n",
        "wnba[\"Exp_ordinal\"].value_counts().sort_values(ascending = True).plot.barh().set_title(\"Number of players in WNBA by level of experience\")"
      ],
      "execution_count": 0,
      "outputs": [
        {
          "output_type": "execute_result",
          "data": {
            "text/plain": [
              "Text(0.5, 1.0, 'Number of players in WNBA by level of experience')"
            ]
          },
          "metadata": {
            "tags": []
          },
          "execution_count": 6
        },
        {
          "output_type": "display_data",
          "data": {
            "image/png": "[encoded data removed]",
            "text/plain": [
              "<Figure size 432x288 with 1 Axes>"
            ]
          },
          "metadata": {
            "tags": []
          }
        }
      ]
    },
    {
      "cell_type": "markdown",
      "metadata": {
        "id": "skP7Zu_1JBD7",
        "colab_type": "text"
      },
      "source": [
        "## 1.4 Pie Charts"
      ]
    },
    {
      "cell_type": "markdown",
      "metadata": {
        "id": "bIqY5OV2JGii",
        "colab_type": "text"
      },
      "source": [
        "Another kind of graph we can use to visualize the distribution of **nominal** and **ordinal** variables is a **pie chart**.\n",
        "\n",
        "Just as the name suggests, a pie chart is structured pretty much like a regular pie: it takes the form of a circle and is divided in wedges. Each wedge in a pie chart represents a category (one of the unique labels), and the size of each wedge is given by the proportion (or percentage) of that category in the distribution.\n",
        "\n",
        "<img width=\"600\" src=\"https://drive.google.com/uc?export=view&id=1KKprkhfZaGe0CkLO0p3FzoJ6i71QrSv-\">\n",
        "\n",
        "\n",
        "We can generate pie charts using the [Series.plot.pie() method](https://pandas.pydata.org/pandas-docs/stable/generated/pandas.Series.plot.pie.html). This is how we'd do that for the **Pos** variable:\n",
        "\n",
        "```python\n",
        ">> wnba['Pos'].value_counts().plot.pie()\n",
        "```\n",
        "\n",
        "<img width=\"400\" src=\"https://drive.google.com/uc?export=view&id=1MvVv73TYBDN5VNZ2gELxp5I4O3bn6UJC\">\n",
        "\n",
        "\n",
        "The main advantage of pie charts over bar plots is that they provide a much better sense for the relative frequencies (proportions and percentages) in the distribution. Looking at a bar plot, we can see that categories are more or less numerous than others, but it's really hard to tell what proportion in the distribution each category takes.\n",
        "\n",
        "With pie charts, we can immediately get a visual sense for the proportion each category takes in a distribution. Just by eyeballing the pie chart above we can make a series of observations in terms of proportions:\n",
        "\n",
        "- Guards (\"G\") take about two fifths (2/5) of the distribution.\n",
        "- Forwards (\"F\") make up roughly a quarter (1/4) of the distribution.\n",
        "- Close to one fifth (1/5) of the distribution is made of centers (\"C\").\n",
        "- Combined positions (\"G/F\" and \"F/C\") together make up roughly one fifth (1/5) of the distribution.\n",
        "\n",
        "\n",
        "**Exercise**\n",
        "\n",
        "<img width=\"100\" src=\"https://drive.google.com/uc?export=view&id=1E8tR7B9YYUXsU_rddJAyq0FrM0MSelxZ\">\n",
        "\n",
        "\n",
        "- Generate a pie chart to visualize the distribution of the **Exp_ordinal** variable.\n",
        "  - Generate a frequency table for the **Exp_ordinal** variable. Don't sort the table this time.\n",
        "  - Use the **Series.plot.pie()** method to generate the pie plot."
      ]
    },
    {
      "cell_type": "code",
      "metadata": {
        "id": "enHJko8sXfWi",
        "colab_type": "code",
        "outputId": "5d8efecb-612e-47a3-f016-12d65500605e",
        "colab": {
          "base_uri": "https://localhost:8080/",
          "height": 272
        }
      },
      "source": [
        "# put your code here\n",
        "wnba[\"Exp_ordinal\"].value_counts().plot.pie()"
      ],
      "execution_count": 0,
      "outputs": [
        {
          "output_type": "execute_result",
          "data": {
            "text/plain": [
              "<matplotlib.axes._subplots.AxesSubplot at 0x7fcbcaa714e0>"
            ]
          },
          "metadata": {
            "tags": []
          },
          "execution_count": 7
        },
        {
          "output_type": "display_data",
          "data": {
            "image/png": "[encoded data removed]",
            "text/plain": [
              "<Figure size 432x288 with 1 Axes>"
            ]
          },
          "metadata": {
            "tags": []
          }
        }
      ]
    },
    {
      "cell_type": "markdown",
      "metadata": {
        "id": "fvXkTu59Jh_T",
        "colab_type": "text"
      },
      "source": [
        "## 1.5  Customizing a Pie Chart"
      ]
    },
    {
      "cell_type": "markdown",
      "metadata": {
        "id": "BosraT_ZK0vI",
        "colab_type": "text"
      },
      "source": [
        "The pie chart we generated in the previous exercise is more an ellipsis than a circle, and the **Exp_ordinal** label is unaesthetic and hard to read:\n",
        "\n",
        "<img width=\"400\" src=\"https://drive.google.com/uc?export=view&id=1tVBOULsftVpM-DH75lZvNGY09Jdavsik\">\n",
        "\n",
        "\n",
        "To give a pie chart the right shape, we need to specify equal values for height and width in the **figsize** parameter of **Series.plot.pie()**. The **Exp_ordinal** is the label of a hidden y-axis, which means we can use the **plt.ylabel()** function to remove it. This is how we can do this for the **Pos** variable:\n",
        "\n",
        "```python\n",
        ">> import matplotlib.pyplot as plt\n",
        ">> wnba['Pos'].value_counts().plot.pie(figsize = (6,6))\n",
        ">> plt.ylabel('')\n",
        "```\n",
        "\n",
        "<img width=\"250\" src=\"https://drive.google.com/uc?export=view&id=1-ER6QNonL-CTu6tBMnvdL4PPER17igTt\">\n",
        "\n",
        "\n",
        "Ideally, we'd have proportions or percentages displayed on each wedge of the pie chart. Fortunately, this is easy to get using the **autopct** parameter. This parameter accepts Python string formatting, and we'll use the string **'%.1f%%'** to have percentages displayed with a precision of one decimal place. Let's break down this string formatting:\n",
        "\n",
        "<center><img width=\"400\" src=\"https://drive.google.com/uc?export=view&id=1Q6E-FXJCl4qVDplM3tM2n71i21eDk7vi\"></center>\n",
        "  \n",
        "  \n",
        "This is how the process looks for the Pos variable:\n",
        "\n",
        "```ptyhon\n",
        ">> wnba['Pos'].value_counts().plot.pie(figsize = (6,6), autopct = '%.1f%%')\n",
        "```\n",
        "\n",
        "<img width=\"300\" src=\"https://drive.google.com/uc?export=view&id=1KnC3jlcoXgEXKcWMzQvS2hS6kxewrfLY\">\n",
        "\n",
        "\n",
        "Notice that the percentages were automatically determined under the hood, which means we don't have to transform to percentages ourselves using **Series.value_counts(normalize = True) * 100.**\n",
        "\n",
        "Other display formats are possible, and more documentation on the the syntax of string formatting in Python can be found [here](https://docs.python.org/3/library/string.html#format-specification-mini-language). Documentation on **autopct** and other nice customization parameters can be found [here](https://matplotlib.org/api/_as_gen/matplotlib.pyplot.pie.html).\n",
        "\n",
        "**Exercise**\n",
        "\n",
        "<img width=\"100\" src=\"https://drive.google.com/uc?export=view&id=1E8tR7B9YYUXsU_rddJAyq0FrM0MSelxZ\">\n",
        "\n",
        "- Generate and customize a pie chart to visualize the distribution of the **Exp_ordinal** variable.\n",
        "  - Generate a frequency table for the **Exp_ordinal** variable. Don't sort the table this time.\n",
        "  - Use the **Series.plot.pie()** method to generate the **pie plot.**\n",
        "      - Use the **figsize** parameter to specify a **width** and a **height** of 6 inches each.\n",
        "      - Use the **autopct** parameter to have percentages displayed with a precision of 2 decimal places.\n",
        "      - Add the following title to the plot: **Percentage of players in WNBA by level of experience.**\n",
        "      - Remove the **Exp_ordinal** label.\n",
        "\n"
      ]
    },
    {
      "cell_type": "code",
      "metadata": {
        "id": "p-uW6s5KK_wz",
        "colab_type": "code",
        "outputId": "13eb1068-2379-45b4-e3e4-a2c381a4a2e4",
        "colab": {
          "base_uri": "https://localhost:8080/",
          "height": 394
        }
      },
      "source": [
        "# put your code here\n",
        "import matplotlib.pyplot as plt\n",
        "wnba[\"Exp_ordinal\"].value_counts().plot.pie(figsize=(6,6), autopct = \"%.2f%%\").\\\n",
        "                    set_title(\"Percentage of players in WNBA by level of experience\")\n",
        "plt.ylabel(\"\")"
      ],
      "execution_count": 0,
      "outputs": [
        {
          "output_type": "execute_result",
          "data": {
            "text/plain": [
              "Text(0, 0.5, '')"
            ]
          },
          "metadata": {
            "tags": []
          },
          "execution_count": 8
        },
        {
          "output_type": "display_data",
          "data": {
            "image/png": "[encoded data removed]",
            "text/plain": [
              "<Figure size 432x432 with 1 Axes>"
            ]
          },
          "metadata": {
            "tags": []
          }
        }
      ]
    },
    {
      "cell_type": "markdown",
      "metadata": {
        "id": "b764O3ERXpAz",
        "colab_type": "text"
      },
      "source": [
        "## 1.6 Histograms"
      ]
    },
    {
      "cell_type": "markdown",
      "metadata": {
        "id": "r-SJ17IeYWRD",
        "colab_type": "text"
      },
      "source": [
        "Because of the special properties of variables measured on interval and ratio scales, we can describe distributions in more elaborate ways. Let's examine the **PTS** (total points) variable, which is discrete and measured on a ratio scale:\n",
        "\n",
        "```python\n",
        ">> wnba['PTS'].describe()\n",
        "count    143.000000\n",
        "mean     201.790210\n",
        "std      153.381548\n",
        "min        2.000000\n",
        "25%       75.000000\n",
        "50%      177.000000\n",
        "75%      277.500000\n",
        "max      584.000000\n",
        "Name: PTS, dtype: float64\n",
        "```\n",
        "\n",
        "We can see that 75% of the values are distributed within a relatively narrow interval (between 2 and 277), while the remaining 25% are distributed in an interval that's slightly larger.\n",
        "\n",
        "<img width=\"500\" src=\"https://drive.google.com/uc?export=view&id=1eKJa7moOQBWYg5iswrL5KZv6ZHJXZeNJ\">\n",
        "\n",
        "\n",
        "To visualize the distribution of the **PTS** variable, we need to use a graph that allows us to see immediately the patterns outlined above. The most commonly used graph for this scenario is the **histogram**.\n",
        "\n",
        "To generate a histogram for the **PTS** variable, we can use the **Series.plot.hist()** method directly on the **wnba['PTS']** column (we don't have to generate a frequency table in this case):\n",
        "\n",
        "```python\n",
        ">> wnba['PTS'].plot.hist()\n",
        "```\n",
        "\n",
        "<img width=\"500\" src=\"https://drive.google.com/uc?export=view&id=1Qa6ZdGR-918onl80zHS6ckoF5rMRuYOx\">\n",
        "\n",
        "In the next screen, we'll explain the statistics happening under the hood when we run **wnba['PTS'].plot.hist()** and discuss the histogram above in more detail. Until then, let's practice generating the histogram above ourselves.\n",
        "\n",
        "\n",
        "**Exercise**\n",
        "\n",
        "<img width=\"100\" src=\"https://drive.google.com/uc?export=view&id=1E8tR7B9YYUXsU_rddJAyq0FrM0MSelxZ\">\n",
        "\n",
        "- Using **Series.plot.hist()**, generate a histogram to visualize the distribution of the **PTS** variable."
      ]
    },
    {
      "cell_type": "code",
      "metadata": {
        "id": "pgEQ4a3mYfQ1",
        "colab_type": "code",
        "outputId": "f6cc2d23-0fa0-4fef-dd91-fc951970ceac",
        "colab": {
          "base_uri": "https://localhost:8080/",
          "height": 286
        }
      },
      "source": [
        "# put your code here\n",
        "wnba[\"PTS\"].plot.hist()"
      ],
      "execution_count": 0,
      "outputs": [
        {
          "output_type": "execute_result",
          "data": {
            "text/plain": [
              "<matplotlib.axes._subplots.AxesSubplot at 0x7fcbcd2f6898>"
            ]
          },
          "metadata": {
            "tags": []
          },
          "execution_count": 9
        },
        {
          "output_type": "display_data",
          "data": {
            "image/png": "[encoded data removed]",
            "text/plain": [
              "<Figure size 432x288 with 1 Axes>"
            ]
          },
          "metadata": {
            "tags": []
          }
        }
      ]
    },
    {
      "cell_type": "markdown",
      "metadata": {
        "id": "2DhxpCUcaDSY",
        "colab_type": "text"
      },
      "source": [
        "## 1.7 The Statistics Behind Histograms"
      ]
    },
    {
      "cell_type": "markdown",
      "metadata": {
        "id": "3Hvv7FCGaJ7P",
        "colab_type": "text"
      },
      "source": [
        "Under the hood, the **wnba['PTS'].plot.hist()** method:\n",
        "\n",
        "- Generated a grouped frequency distribution table for the **PTS** variable with ten class intervals.\n",
        "- For each class interval it plotted a bar with a height corresponding to the frequency of the interval.\n",
        "\n",
        "Let's examine the grouped frequency distribution table of the **PTS** variable:\n",
        "\n",
        "```python\n",
        ">> wnba['PTS'].describe()\n",
        "count    143.000000\n",
        "mean     201.790210\n",
        "std      153.381548\n",
        "min        2.000000\n",
        "25%       75.000000\n",
        "50%      177.000000\n",
        "75%      277.500000\n",
        "max      584.000000\n",
        "Name: PTS, dtype: float64\n",
        "```\n",
        "\n",
        "Each bar in the histogram corresponds to one class interval. To show this is true, we'll generate below the same histogram as in the previous screen, but this time:\n",
        "\n",
        "- We'll add the values of the x-ticks manually using the xticks parameter.\n",
        "  - The values will be the limits of each class interval.\n",
        "  - We use the [arange()](https://docs.scipy.org/doc/numpy/reference/generated/numpy.arange.html?highlight=arange#numpy.arange) function from numpy to generate the values and avoid spending time with typing all the values ourselves.\n",
        "  - We start at 2, not at 1.417, because this is the actual minimum value of the first class interval (we discussed about this in more detail in the previous mission).\n",
        "- We'll add a **grid** line using the grid parameter to demarcate clearly each bar.\n",
        "- We'll rotate the tick labels of the x-axis using the rot parameter for better readability.\n",
        "\n",
        "```python\n",
        ">> from numpy import arange\n",
        ">> wnba['PTS'].plot.hist(grid = True, xticks = arange(2,585,58.2), rot = 30)\n",
        "```\n",
        "\n",
        "Looking on the histogram above, we can extract the same information as from the grouped frequency table. We can see that there are 20 players in the interval (176.6, 234.8], 10 players in the interval (351.2, 409.4], etc.\n",
        "\n",
        "More importantly, we can see the patterns we wanted to see in the last screen when we examined the output of **wnba['PTS'].describe()**.\n",
        "\n",
        "\n",
        "<img width=\"700\" src=\"https://drive.google.com/uc?export=view&id=1qQtYC5R9oylmOkpx_YjzpCZLv7cUo_5b\">\n",
        "\n",
        "\n",
        "\n",
        "From the output of **wnba['PTS'].describe()** we can see that most of the values (75%) are distributed within a relatively narrow interval (between 2 and 277). This tells us that:\n",
        "\n",
        "- The values are distributed unevenly across the 2 - 584 range (2 is the minimum value in the **PTS** variable, and 584 is the maximum).\n",
        "- Most values are clustered in the first (left) part of the the distribution's range.\n",
        "\n",
        "\n",
        "<img width=\"500\" src=\"https://drive.google.com/uc?export=view&id=178mhCdacbAzjXqwfDSbVZJtGQ0ucuqzW\">\n",
        "\n",
        "\n",
        "We can immediately see the same two patterns on the histogram above:\n",
        "\n",
        "- The distribution of values is uneven, with each class interval having a different frequency. If the distribution was even, all the class intervals would have the same frequency.\n",
        "- Most values (roughly three quarters) are clustered in the left half of the histogram.\n",
        "\n",
        "While it's easy and fast to make good estimates simply by looking at a histogram, it's always a good idea to add precision to our estimates using the percentile values we get from **Series.describe().**\n",
        "\n",
        "\n",
        "**Exercise**\n",
        "\n",
        "<img width=\"100\" src=\"https://drive.google.com/uc?export=view&id=1E8tR7B9YYUXsU_rddJAyq0FrM0MSelxZ\">\n",
        "\n",
        "\n",
        "- Examine the distribution of the **Games Played** variable using the **Series.describe()** method. Just from the output of this method, predict how the histogram of the **Games Played** variable should look like.\n",
        "- Once you have a good idea of what histogram shape to expect, plot a histogram for the **Games Played** variable using **Series.plot.hist()**."
      ]
    },
    {
      "cell_type": "code",
      "metadata": {
        "id": "xlfkexABacrm",
        "colab_type": "code",
        "outputId": "3d394060-4ae0-45da-8da9-3e800f6266fd",
        "colab": {
          "base_uri": "https://localhost:8080/",
          "height": 286
        }
      },
      "source": [
        "# put your code here\n",
        "wnba[\"Games Played\"].describe()\n",
        "wnba[\"Games Played\"].plot.hist()"
      ],
      "execution_count": 0,
      "outputs": [
        {
          "output_type": "execute_result",
          "data": {
            "text/plain": [
              "<matplotlib.axes._subplots.AxesSubplot at 0x7fcbcaa71b70>"
            ]
          },
          "metadata": {
            "tags": []
          },
          "execution_count": 10
        },
        {
          "output_type": "display_data",
          "data": {
            "image/png": "[encoded data removed]",
            "text/plain": [
              "<Figure size 432x288 with 1 Axes>"
            ]
          },
          "metadata": {
            "tags": []
          }
        }
      ]
    },
    {
      "cell_type": "markdown",
      "metadata": {
        "id": "S00PsOzNcslc",
        "colab_type": "text"
      },
      "source": [
        "## 1.8 Histograms as Modified Bar Plots\n"
      ]
    },
    {
      "cell_type": "markdown",
      "metadata": {
        "id": "ght-Oerqc1VZ",
        "colab_type": "text"
      },
      "source": [
        "It should now be clear that a histogram is basically the visual form of a grouped frequency table. Structurally, a histogram can also be understood as a modified version of a bar plot. The main difference is that in the case of a histogram there are no gaps between bars, and each bar represents an interval, not a single value.\n",
        "\n",
        "The main reason we remove the gaps between bars in case of a histogram is that we want to show that the class intervals we plot are adjacent to one another. With the exception of the last interval, the ending point of an interval is the starting point of the next interval, and we want that to be seen on the graph.\n",
        "\n",
        "<img width=\"300\" src=\"https://drive.google.com/uc?export=view&id=15v9hcTmgnSArcOD5jwZSlKJQTfwoVtHt\">\n",
        "\n",
        "For bar plots we add gaps because in most cases we don't know whether the unique values of ordinal variables are adjacent to one another in the same way as two class intervals are. It's safer to assume that the values are not adjacent, and add gaps.\n",
        "\n",
        "\n",
        "<img width=\"600\" src=\"https://drive.google.com/uc?export=view&id=1Bdl2qABVrU1nGjT1jIha-qwK7B62Caga\">\n",
        "\n",
        "\n",
        "For nominal variables, values can't be numerically ajdacent in principle, and we add gaps to emphasize that the values are fundamentally distinct.\n",
        "\n",
        "Below we summarize what we've learned so far:\n",
        "\n",
        "\n",
        "<img width=\"400\" src=\"https://drive.google.com/uc?export=view&id=19NxFZUcKvnQFnXvvAQl5xjOpnF_reJD-\">"
      ]
    },
    {
      "cell_type": "markdown",
      "metadata": {
        "id": "oST_wGnIdUeB",
        "colab_type": "text"
      },
      "source": [
        "## 1.9 Binning for Histograms"
      ]
    },
    {
      "cell_type": "markdown",
      "metadata": {
        "id": "YLdUmyGtl_W-",
        "colab_type": "text"
      },
      "source": [
        "You might have noticed that **Series.plot.hist()** splits a distribution by default into 10 class intervals. In the previous mission, we learned that 10 is a good number of class intervals to choose because it offers a good balance between information and comprehensibility.\n",
        "\n",
        "<img width=\"400\" src=\"https://drive.google.com/uc?export=view&id=1C8q5Zxpdkd_rILrIr4hqO7jCmoUgT10c\">\n",
        "\n",
        "With histograms, the breakdown point is generally larger than 10 because visualizing a picture is much easier than reading a grouped frequency table. However, once the number of class intervals goes over 30 or so, the granularity increases so much that for some intervals the frequency will be zero. This will result in a discontinued histogram from which is hard to discern patterns.\n",
        "\n",
        "Below, we can see how the histogram of the **PTS** variable changes as we vary the number of class intervals.\n",
        "\n",
        "\n",
        "<img width=\"600\" src=\"https://drive.google.com/uc?export=view&id=1yLJH1J-aXojOhzPg0FICmv6IQ9aXcpn8\">\n",
        "\n",
        "\n",
        "To modify the number of class intervals used for a histogram, we can use the **bins** parameter of **Series.plot.hist()**. A bin is the same thing as a class interval, and, when it comes to histograms, the term \"bin\" is used much more often.\n",
        "\n",
        "Also, we'll often want to avoid letting pandas work out the intervals, and use instead intervals that we think make more sense. We can do this in two steps:\n",
        "\n",
        "- We start with specifying the range of the entire distribution using the **range** parameter of **Series.plot.hist().**\n",
        "- Then we combine that with the number of bins to get the intervals we want.\n",
        "\n",
        "\n",
        "Let's say we want to get these three intervals for the distribution of the PTS variable:\n",
        "\n",
        "- [1, 200)\n",
        "- [200, 400)\n",
        "- [400, 600]\n",
        "\n",
        "If the histogram ranges from 1 to 600, and we specify that we want three bins, then the bins will automatically take the intervals above. This is because the bins must have equal interval lengths, and, at the same time, cover together the entire range between 1 and 600. To cover a range of 600 with three bins, we need each bin to cover 200 points, with the first bin starting at 1, and the last bin ending at 600.\n",
        "\n",
        "\n",
        "<img width=\"600\" src=\"https://drive.google.com/uc?export=view&id=1W8a-hbTW_ex0BI53go4xWvjKfMMP-WoO\">\n",
        "\n",
        "\n",
        "This is how we can generate a histogram with three bins and a 1 - 600 range for the **PTS** variable:\n",
        "\n",
        "```python\n",
        ">> wnba['PTS'].plot.hist(range = (1,600), bins = 3)\n",
        "```\n",
        "\n",
        "\n",
        "<img width=\"400\" src=\"https://drive.google.com/uc?export=view&id=1O-MfgUUOn1oEfTn1elEkpru5E49XP04c\">\n",
        "\n",
        "\n",
        "If we keep the same range, but change to six bins, then we'll get these six intervals: [1, 100), [100, 200), [200, 300), [300, 400), [400, 500), [500, 600].\n",
        "\n",
        "\n",
        "```python\n",
        ">> wnba['PTS'].plot.hist(range = (1,600), bins = 6)\n",
        "```\n",
        "\n",
        "\n",
        "**Exercise**\n",
        "\n",
        "<img width=\"100\" src=\"https://drive.google.com/uc?export=view&id=1E8tR7B9YYUXsU_rddJAyq0FrM0MSelxZ\">\n",
        "\n",
        "\n",
        "- Generate a histogram for the **Games Played** variable, and customize it in the following way:\n",
        "  - Each bin must cover an interval of 4 games. The first bin must start at 1, the last bin must end at 32.\n",
        "  - Add the title \"The distribution of players by games played\".\n",
        "  - Add a label to the x-axis named \"Games played\"."
      ]
    },
    {
      "cell_type": "code",
      "metadata": {
        "id": "LiuEBsOlmC3U",
        "colab_type": "code",
        "outputId": "3a5d4250-cffb-4358-e5ab-1a239665076e",
        "colab": {
          "base_uri": "https://localhost:8080/",
          "height": 312
        }
      },
      "source": [
        "# put your code here\n",
        "import matplotlib.pyplot as plt\n",
        "wnba[\"Games Played\"].plot.hist(range = (1,32), bins = 4).set_title(\"The distribution of players by games played\")\n",
        "plt.xlabel(\"Games played\")"
      ],
      "execution_count": 0,
      "outputs": [
        {
          "output_type": "execute_result",
          "data": {
            "text/plain": [
              "Text(0.5, 0, 'Games played')"
            ]
          },
          "metadata": {
            "tags": []
          },
          "execution_count": 11
        },
        {
          "output_type": "display_data",
          "data": {
            "image/png": "[encoded data removed]",
            "text/plain": [
              "<Figure size 432x288 with 1 Axes>"
            ]
          },
          "metadata": {
            "tags": []
          }
        }
      ]
    },
    {
      "cell_type": "markdown",
      "metadata": {
        "id": "fCSk8P3_ozOw",
        "colab_type": "text"
      },
      "source": [
        "## 1.10 Skewed Distributions"
      ]
    },
    {
      "cell_type": "markdown",
      "metadata": {
        "id": "FmI8zVJgo1ph",
        "colab_type": "text"
      },
      "source": [
        "There are a couple of histogram shapes that appear often in practice. So far, we've met two of these shapes:\n",
        "\n",
        "<img width=\"600\" src=\"https://drive.google.com/uc?export=view&id=1kosNk32RFOru1alq7taeD9u4DWMWanoi\">\n",
        "\n",
        "\n",
        "In the histogram on the left, we can see that:\n",
        "\n",
        "- Most values pile up toward the endpoint of the range (32 games played).\n",
        "- There are less and less values toward the opposite end (0 games played).\n",
        "\n",
        "On the right histogram, we can see that:\n",
        "\n",
        "- Most values pile up toward the starting point of the range (0 points).\n",
        "- There are less and less values toward the opposite end.\n",
        "\n",
        "Both these histograms show **skewed distributions**. In a skewed distribution:\n",
        "\n",
        "- The values pile up toward the end or the starting point of the range, making up the body of the distribution.\n",
        "- Then the values decrease in frequency toward the opposite end, forming the tail of the distribution.\n",
        "\n",
        "\n",
        "<img width=\"400\" src=\"https://drive.google.com/uc?export=view&id=1KR4lZFs4Z3D9GrEqpma9wRxRJbBvUzuC\">\n",
        "\n",
        "\n",
        "\n",
        "If the tail points to the left, then the distribution is said to be **left skewed**. When it points to the left, the tail points at the same time in the direction of negative numbers, and for this reason the distribution is sometimes also called **negatively skewed.**\n",
        "\n",
        "If the tail points to the right, then the distribution is **right skewed**. The distribution is sometimes also said to be **positively skewed** because the tail points in the direction of positive numbers.\n",
        "\n",
        "\n",
        "<img width=\"600\" src=\"https://drive.google.com/uc?export=view&id=1FIUz6XuJTcU74IHfJvJP6Il_JkUUXD3g\">\n",
        "\n",
        "\n",
        "**Exercise**\n",
        "\n",
        "<img width=\"100\" src=\"https://drive.google.com/uc?export=view&id=1E8tR7B9YYUXsU_rddJAyq0FrM0MSelxZ\">\n",
        "\n",
        "\n",
        "- Examine the distribution of the following two variables:\n",
        "  - **AST** (number of assists).\n",
        "  - **FT%** (percentage of free throws made out of all attempts).\n",
        "- Depending on the shape of the distribution, assign the string **'left skewed'** or **'right skewed'** to the following variables:\n",
        "  - **assists_distro** for the **AST** column.\n",
        "  - **ft_percent_distro** for the **FT%** column.\n",
        "\n",
        "For instance, if you think the **AST** variable has a right skewed distribution, your answer should be **assists_distro = 'right skewed'.**"
      ]
    },
    {
      "cell_type": "code",
      "metadata": {
        "id": "MsD16aFEo5P3",
        "colab_type": "code",
        "outputId": "f6cbb0cd-b0bb-43a3-85ec-d144c8044820",
        "colab": {
          "base_uri": "https://localhost:8080/",
          "height": 521
        }
      },
      "source": [
        "# put your code here\n",
        "wnba[\"AST\"].plot.hist() # Enviesada pela direita\n",
        "plt.show()\n",
        "wnba[\"FT%\"].plot.hist() # Enviesada pela esquerda\n",
        "plt.show()\n",
        "assists_distro = \"right skewed\"\n",
        "ft_percent_distro = \"left skewed\""
      ],
      "execution_count": 0,
      "outputs": [
        {
          "output_type": "display_data",
          "data": {
            "image/png": "[encoded data removed]",
            "text/plain": [
              "<Figure size 432x288 with 1 Axes>"
            ]
          },
          "metadata": {
            "tags": []
          }
        },
        {
          "output_type": "display_data",
          "data": {
            "image/png": "[encoded data removed]",
            "text/plain": [
              "<Figure size 432x288 with 1 Axes>"
            ]
          },
          "metadata": {
            "tags": []
          }
        }
      ]
    },
    {
      "cell_type": "markdown",
      "metadata": {
        "id": "ZlvUdwpwrhM7",
        "colab_type": "text"
      },
      "source": [
        "## 1.11 Symmetrical Distributions"
      ]
    },
    {
      "cell_type": "markdown",
      "metadata": {
        "id": "uihaxRSVr3i9",
        "colab_type": "text"
      },
      "source": [
        "Besides skewed distributions, we often see histograms with a shape that is more or less symmetrical. If we draw a vertical line exactly in the middle of a symmetrical histogram, then we'll divide the histogram in two halves that are mirror images of one another.\n",
        "\n",
        "\n",
        "\n",
        "<img width=\"500\" src=\"https://drive.google.com/uc?export=view&id=1FAOJOZTgCGv6FAQMfFH7ap2HjQok2ZEs\">\n",
        "\n",
        "\n",
        "If the shape of the histogram is **symmetrical**, then we say that we have a **symmetrical distribution.**\n",
        "\n",
        "A very common symmetrical distribution is one where the values pile up in the middle and gradually decrease in frequency toward both ends of the histogram. This pattern is specific to what we call a **normal distribution** (also called **Gaussian distribution**).\n",
        "\n",
        "\n",
        "\n",
        "<img width=\"500\" src=\"https://drive.google.com/uc?export=view&id=16AQYkLid4MnTqFLK8CID3wDWybbKvHgJ\">\n",
        "\n",
        "\n",
        "Another common symmetrical distribution is one where the values are distributed uniformly across the entire range. This pattern is specific to a **uniform distribution.**\n",
        "\n",
        "<img width=\"500\" src=\"https://drive.google.com/uc?export=view&id=1WvoDjqD-S-W9qOkqaPt9o3JZs438T9TJ\">\n",
        "\n",
        "\n",
        "In practice, we rarely see perfectly **symmetrical distributions**. However, it's common to use perfectly symmetrical distributions as baselines for describing the distributions we see in practice. For instance, we'd describe the distribution of the **Weight** variable as resembling closely a normal distribution:\n",
        "\n",
        "```python\n",
        ">> wnba['Weight'].plot.hist()\n",
        "```\n",
        "\n",
        "<img width=\"400\" src=\"https://drive.google.com/uc?export=view&id=1eoNnxKtW_V5PrdZ5V1P83_YKWKNh61bZ\">\n",
        "\n",
        "\n",
        "When we say that the distribution above resembles closely a normal distribution, we mean that most values pile up somewhere close to the middle and decrease in frequency more or less gradually toward both ends of the histogram.\n",
        "\n",
        "A similar reasoning applies to skewed distributions. We don't see very often clear-cut skewed distributions, and we use the left and right skewed distributions as baselines for comparison. For instance, we'd say that the distribution of the **BMI** variable is slightly **right skewed**:\n",
        "\n",
        "```python\n",
        ">> wnba['BMI'].plot.hist()\n",
        "```\n",
        "\n",
        "There's more to say about distribution shapes, and we'll continue this discussion in the next course when we'll learn new concepts. Until then, let's practice what we've learned.\n",
        "\n",
        "\n",
        "**Exercise**\n",
        "\n",
        "<img width=\"100\" src=\"https://drive.google.com/uc?export=view&id=1E8tR7B9YYUXsU_rddJAyq0FrM0MSelxZ\">\n",
        "\n",
        "\n",
        "- Examine the distribution of the following variables, trying to determine which one resembles the most a normal distribution:\n",
        "  - Age\n",
        "  - Height\n",
        "  - MIN\n",
        "- Assign to the variable **normal_distribution** the name of the variable (as a string) whose distribution resembles the most a normal one.\n",
        "\n",
        "For instance, if you think the **MIN** variable is the correct answer, then your answer should be **normal_distribution = 'MIN'.**"
      ]
    },
    {
      "cell_type": "code",
      "metadata": {
        "id": "z4n3ShPswd_i",
        "colab_type": "code",
        "outputId": "cc030381-199f-4363-cb8c-1f31a52112b8",
        "colab": {
          "base_uri": "https://localhost:8080/",
          "height": 773
        }
      },
      "source": [
        "# put your code here\n",
        "wnba[\"Age\"].plot.hist()\n",
        "plt.show()\n",
        "wnba[\"Height\"].plot.hist()\n",
        "plt.show()\n",
        "wnba[\"MIN\"].plot.hist()\n",
        "plt.show()\n",
        "normal_distribution = \"Height\""
      ],
      "execution_count": 0,
      "outputs": [
        {
          "output_type": "display_data",
          "data": {
            "image/png": "[encoded data removed]",
            "text/plain": [
              "<Figure size 432x288 with 1 Axes>"
            ]
          },
          "metadata": {
            "tags": []
          }
        },
        {
          "output_type": "display_data",
          "data": {
            "image/png": "[encoded data removed]",
            "text/plain": [
              "<Figure size 432x288 with 1 Axes>"
            ]
          },
          "metadata": {
            "tags": []
          }
        },
        {
          "output_type": "display_data",
          "data": {
            "image/png": "[encoded data removed]",
            "text/plain": [
              "<Figure size 432x288 with 1 Axes>"
            ]
          },
          "metadata": {
            "tags": []
          }
        }
      ]
    },
    {
      "cell_type": "markdown",
      "metadata": {
        "id": "LQIDw4V9ymtG",
        "colab_type": "text"
      },
      "source": [
        "## 1.12 Next Steps"
      ]
    },
    {
      "cell_type": "markdown",
      "metadata": {
        "id": "2R8PntqqysWf",
        "colab_type": "text"
      },
      "source": [
        "In this mission, we learned about the graphs we can use to visualize the distributions of various kinds of variables. If a variable is measured on a nominal or ordinal scale, we can use a bar plot or a pie chart. If the variable is measured on an interval or ratio scale, then a histogram is good choice.\n",
        "\n",
        "Here's the summary table once again to help you recollect what we did in this mission:\n",
        "\n",
        "<img width=\"400\" src=\"https://drive.google.com/uc?export=view&id=19NxFZUcKvnQFnXvvAQl5xjOpnF_reJD-\">\n",
        "\n",
        "\n",
        "We're one mission away from finishing the workflow we set out to complete in the first mission. Next, we'll continue the discussion about data visualization by learning how to compare frequency distributions using graphs.\n",
        "\n",
        "\n",
        "<img width=\"600\" src=\"https://drive.google.com/uc?export=view&id=1U88LilHa2asEN9vnC_PQFXz9UtjmRIzh\">"
      ]
    },
    {
      "cell_type": "code",
      "metadata": {
        "id": "VfLwOOmQ2OjE",
        "colab_type": "code",
        "colab": {}
      },
      "source": [
        ""
      ],
      "execution_count": 0,
      "outputs": []
    },
    {
      "cell_type": "markdown",
      "metadata": {
        "id": "molRlwPZPt78",
        "colab_type": "text"
      },
      "source": [
        "# 2.0 Comparing Frequency Distributions"
      ]
    },
    {
      "cell_type": "markdown",
      "metadata": {
        "id": "s8I4cyo2QAxC",
        "colab_type": "text"
      },
      "source": [
        "## 2.1 Comparing Frequency Distributions"
      ]
    },
    {
      "cell_type": "markdown",
      "metadata": {
        "id": "sFIzYqg_QJdC",
        "colab_type": "text"
      },
      "source": [
        "In the previous mission, we learned **what graphs we can use to visualize the frequency distribution of any kind of variable**. In this mission, we'll learn about the graphs we can use to **compare** multiple frequency distributions at once.\n",
        "\n",
        "We'll continue to work with the WNBA data set. Below are the first five rows to help you recollect its structure:\n",
        "\n",
        "| _ | Name            | Team | Pos | Height | Weight | BMI       | Birth_Place | Birthdate         | Exp_ordinal       |\n",
        "|---|-----------------|------|-----|--------|--------|-----------|-------------|-------------------|-------------------|\n",
        "| 0 | Aerial Powers   | DAL  | F   | 183    | 71.0   | 21.200991 | US          | January 17, 1994  | Little experience |\n",
        "| 1 | Alana Beard     | LA   | G/F | 185    | 73.0   | 21.329438 | US          | May 14, 1982      | Veteran           |\n",
        "| 2 | Alex Bentley    | CON  | G   | 170    | 69.0   | 23.875433 | US          | October 27, 1990  | Experienced       |\n",
        "| 3 | Alex Montgomery | SAN  | G/F | 185    | 84.0   | 24.543462 | US          | December 11, 1988 | Very experienced  |\n",
        "| 4 | Alexis Jones    | MIN  | G   | 175    | 78.0   | 25.469388 | US          | August 5, 1994    | Rookie            |\n",
        "\n",
        "\n",
        "Notice in the table above that we've kept the **Exp_ordinal** variable we created in the previous mission. To remind you, this variable is measured on an **ordinal scale** and describes the level of experience of a player according to the following labeling convention:\n",
        "\n",
        "\n",
        "| Years in WNBA | Label             |\n",
        "|---------------|-------------------|\n",
        "| 0             | Rookie            |\n",
        "| 1-3           | Little experience |\n",
        "| 4-5           | Experienced       |\n",
        "| 5-10          | Very experienced  |\n",
        "| >10           | Veteran           |\n",
        "\n"
      ]
    },
    {
      "cell_type": "code",
      "metadata": {
        "id": "zoiBp_j4WkjK",
        "colab_type": "code",
        "outputId": "eb6c103c-c017-471e-807a-edc8652b32fe",
        "colab": {
          "base_uri": "https://localhost:8080/",
          "height": 119
        }
      },
      "source": [
        "import pandas as pd\n",
        "\n",
        "# read the dataset\n",
        "wnba = pd.read_csv(\"wnba.csv\")\n",
        "\n",
        "# cleaning the experience column\n",
        "wnba.loc[wnba.Experience == 'R',\"Experience\"] = 0\n",
        "wnba[\"Experience\"] = wnba[\"Experience\"].astype(int)\n",
        "\n",
        "# create exp_ordinal column\n",
        "wnba[\"Exp_ordinal\"] = pd.cut(wnba.Experience,\n",
        "       bins=[-1,0,3,5,10,100],\n",
        "       labels=[\"rookie\",\"Little experience\",\"Experienced\",\n",
        "              \"Very experienced\",\"Veteran\"])\n",
        "\n",
        "# verify the results\n",
        "wnba.Exp_ordinal.value_counts()"
      ],
      "execution_count": 0,
      "outputs": [
        {
          "output_type": "execute_result",
          "data": {
            "text/plain": [
              "Little experience    42\n",
              "Very experienced     37\n",
              "Experienced          25\n",
              "rookie               23\n",
              "Veteran              16\n",
              "Name: Exp_ordinal, dtype: int64"
            ]
          },
          "metadata": {
            "tags": []
          },
          "execution_count": 14
        }
      ]
    },
    {
      "cell_type": "markdown",
      "metadata": {
        "id": "GK6qbEZWWjs8",
        "colab_type": "text"
      },
      "source": [
        "\n",
        "Let's say we're interested in analyzing how the distribution of the **Pos** variable (**player position**) varies with the level of experience. In other words, we want to determine, for instance, what are the positions on the court that rookies play most as, and how do rookies compare to veterans with respect to positions on the field.\n",
        "\n",
        "Here's a series of steps we can take to achieve that:\n",
        "\n",
        "- Segment the players in the data set by level of experience.\n",
        "- For each segment, generate a frequency distribution table for the **Pos** variable.\n",
        "- Analyze the frequency distributions comparatively.\n",
        "\n",
        "In the cell below, we've already done the first step for you and segmented the players in the data set by level of experience. The next two steps are left for you as an exercise.\n",
        "\n",
        "**Exercise**\n",
        "\n",
        "<img width=\"100\" src=\"https://drive.google.com/uc?export=view&id=1E8tR7B9YYUXsU_rddJAyq0FrM0MSelxZ\">\n",
        "\n",
        "- For each segment, generate a frequency distribution table for the **Pos** variable.\n",
        "  - For the **rookie** segment, assign the frequency distribution table to a variable named **rookie_distro**. tip: use df.value_counts() function.\n",
        "  - For the **Little experience** segment, assign the table to **little_xp_distro.**\n",
        "  - For the **Experienced** segment, assign the table to **experienced_distro.**\n",
        "  - For the **Very experienced** segment, assign the table to **very_xp_distro**.\n",
        "  - For the **Veteran** segment, assign the table to **veteran_distro.**\n",
        "- Print all the tables and analyze them comparatively to determine whether there are any clear patterns in the distribution of player position depending on the level of experience."
      ]
    },
    {
      "cell_type": "code",
      "metadata": {
        "id": "6D5-HZRuWYoV",
        "colab_type": "code",
        "outputId": "b0c085ba-5ed8-4106-ac7a-c3f8b36188a7",
        "colab": {
          "base_uri": "https://localhost:8080/",
          "height": 510
        }
      },
      "source": [
        "rookies = wnba[wnba['Exp_ordinal'] == 'rookie']\n",
        "little_xp = wnba[wnba['Exp_ordinal'] == 'Little experience']\n",
        "experienced = wnba[wnba['Exp_ordinal'] == 'Experienced']\n",
        "very_xp = wnba[wnba['Exp_ordinal'] == 'Very experienced']\n",
        "veterans =  wnba[wnba['Exp_ordinal'] == 'Veteran']\n",
        "\n",
        "# put your code here\n",
        "rookie_distro = rookies[\"Pos\"].value_counts().sort_index()\n",
        "print(rookie_distro)\n",
        "little_xp_distro = little_xp[\"Pos\"].value_counts().sort_index()\n",
        "print(little_xp_distro)\n",
        "experienced_distro = experienced[\"Pos\"].value_counts().sort_index()\n",
        "print(experienced_distro)\n",
        "very_xp_distro = very_xp[\"Pos\"].value_counts().sort_index()\n",
        "print(very_xp_distro)\n",
        "veteran_distro = veterans[\"Pos\"].value_counts().sort_index()\n",
        "print(veteran_distro)"
      ],
      "execution_count": 0,
      "outputs": [
        {
          "output_type": "stream",
          "text": [
            "C       4\n",
            "F       4\n",
            "F/C     1\n",
            "G      14\n",
            "Name: Pos, dtype: int64\n",
            "C       8\n",
            "F      13\n",
            "F/C     4\n",
            "G      14\n",
            "G/F     3\n",
            "Name: Pos, dtype: int64\n",
            "C      6\n",
            "F      6\n",
            "F/C    2\n",
            "G      9\n",
            "G/F    2\n",
            "Name: Pos, dtype: int64\n",
            "C       6\n",
            "F       6\n",
            "F/C     4\n",
            "G      16\n",
            "G/F     5\n",
            "Name: Pos, dtype: int64\n",
            "C      1\n",
            "F      4\n",
            "F/C    1\n",
            "G      7\n",
            "G/F    3\n",
            "Name: Pos, dtype: int64\n"
          ],
          "name": "stdout"
        }
      ]
    },
    {
      "cell_type": "markdown",
      "metadata": {
        "id": "2FCO4tS1YHhj",
        "colab_type": "text"
      },
      "source": [
        "## 2.2 Grouped Bar Plots"
      ]
    },
    {
      "cell_type": "markdown",
      "metadata": {
        "id": "FUraFtkBYSnJ",
        "colab_type": "text"
      },
      "source": [
        "The purpose of the previous exercise was to give us a sense about how cumbersome really is to compare multiple distributions at once using frequency tables. Fortunately, we can make the comparison much quicker and more efficiently using graphs.\n",
        "\n",
        "All the five frequency tables we wanted to compare were for the **Pos** variable, which is measured on a nominal scale. Remember that one kind of graph we can use to visualize the distribution of a nominal variable is a bar plot. A simple solution to our problem is to generate a bar plot for each table, and then group all the bar plots on a single figure.\n",
        "\n",
        "This is where we'd like to arrive:\n",
        "\n",
        "<img width=\"600\" src=\"https://drive.google.com/uc?export=view&id=1xO1mMfvHCMhgglqAI0FrCBE-sE9gt9PZ\">\n",
        "\n",
        "\n",
        "Because we grouped all the bar plots together, the graph above is called a **grouped bar plot**. We can generate a grouped bar plot just like the one above using the [seaborn.countplot()](https://seaborn.pydata.org/generated/seaborn.countplot.html) function from the seaborn module, which you might already be familiar with from our visualization lessons. In the code snippet below, we will:\n",
        "\n",
        "- Import the **seaborn** module with the alias **sns**.\n",
        "- Generate the plot with **sns.countplot()**. We'll use the following parameters for this function:\n",
        "  - **x** — specifies as a string the name of the column we want on the x-axis. We'll place the **Exp_ordinal** column on the x-axis.\n",
        "  - **hue** — specifies as a string the name of the column we want the bar plots generated for. We want to generate the bar plots for the **Pos** column.\n",
        "  - **data** - specifies the name of the variable which stores the data set. We stored the data in a variable named **wnba**."
      ]
    },
    {
      "cell_type": "code",
      "metadata": {
        "id": "4v0P7J-NY3kx",
        "colab_type": "code",
        "outputId": "7d22f7ca-6e5d-40fd-dd20-36ddc39c1a61",
        "colab": {
          "base_uri": "https://localhost:8080/",
          "height": 429
        }
      },
      "source": [
        "import seaborn as sns\n",
        "plt.figure(figsize=(16, 6))\n",
        "sns.countplot(x = 'Exp_ordinal', hue = 'Pos', data = wnba)"
      ],
      "execution_count": 0,
      "outputs": [
        {
          "output_type": "execute_result",
          "data": {
            "text/plain": [
              "<matplotlib.axes._subplots.AxesSubplot at 0x7fcbc15bff60>"
            ]
          },
          "metadata": {
            "tags": []
          },
          "execution_count": 16
        },
        {
          "output_type": "display_data",
          "data": {
            "image/png": "[encoded data removed]",
            "text/plain": [
              "<Figure size 1152x432 with 1 Axes>"
            ]
          },
          "metadata": {
            "tags": []
          }
        }
      ]
    },
    {
      "cell_type": "markdown",
      "metadata": {
        "id": "R8LC7UkfjF6W",
        "colab_type": "text"
      },
      "source": [
        "Comparing the **five distributions** is now easier, and we can make a couple of observations:\n",
        "\n",
        "- There's only one **rookie** playing on a combined position **(F/C)**. This is significantly less compared to more experienced players, which suggests that combined positions (**F/C** and **G/F**) may require more complex skills on the field that rookies rarely have.\n",
        "- Rookies are the only category where we don't find players on all positions. We can see there are no rookies who play on a G/F position.\n",
        "- Guards predominate for every level of experience. This probably means that most players in a basketball team are guards. It's worth examining the distributions of a couple of teams to find whether this is true. If it's true, it might be interesting to find out why teams need so many guards.\n",
        "\n",
        "\n",
        "**Exercise**\n",
        "\n",
        "<img width=\"100\" src=\"https://drive.google.com/uc?export=view&id=1E8tR7B9YYUXsU_rddJAyq0FrM0MSelxZ\">\n",
        "\n",
        "\n",
        "- Usng **sns.countplot()**, generate a grouped bar plot similar to the one above.\n",
        "\n",
        "  - Place the **Exp_ordinal** variable on the x-axis.\n",
        "  - Generate the bar plots for the **Pos** variable. The data set is stored in **wnba** variable.\n",
        "  - Using the **order** parameter of **sns.countplot()**, order the values on the x-axis in **descending** order. The **order** parameter takes in a list of strings, so you should use **order = ['Veteran', 'Very experienced', ..........]**.\n",
        "  - Using the **hue_order** parameter, order the bars of each bar plot in ascending alphabetic order. **hue_order** takes in a list of strings, so you can use **hue_order = ['C', 'F', ......].**"
      ]
    },
    {
      "cell_type": "code",
      "metadata": {
        "id": "S_fKRx8HjzNs",
        "colab_type": "code",
        "outputId": "19cdec5a-342f-4b77-c8bd-1eb39174975b",
        "colab": {
          "base_uri": "https://localhost:8080/",
          "height": 429
        }
      },
      "source": [
        "# put your code here\n",
        "plt.figure(figsize=(16,6))\n",
        "sns.countplot(x = \"Exp_ordinal\", hue = \"Pos\", data = wnba, order=[\"Veteran\", \"Very experienced\", \n",
        "       \"Experienced\", \"Little experience\", \"rookie\"], hue_order=[\"C\", \"F\", \"F/C\", \"G\", \"G/F\"])"
      ],
      "execution_count": 0,
      "outputs": [
        {
          "output_type": "execute_result",
          "data": {
            "text/plain": [
              "<matplotlib.axes._subplots.AxesSubplot at 0x7fcbc105acc0>"
            ]
          },
          "metadata": {
            "tags": []
          },
          "execution_count": 17
        },
        {
          "output_type": "display_data",
          "data": {
            "image/png": "[encoded data removed]",
            "text/plain": [
              "<Figure size 1152x432 with 1 Axes>"
            ]
          },
          "metadata": {
            "tags": []
          }
        }
      ]
    },
    {
      "cell_type": "markdown",
      "metadata": {
        "id": "4WXoWBidk3e9",
        "colab_type": "text"
      },
      "source": [
        "## 2.3 Challenge: Do Older Players Play Less?\n"
      ]
    },
    {
      "cell_type": "markdown",
      "metadata": {
        "id": "YoFzcAMEpHe3",
        "colab_type": "text"
      },
      "source": [
        "When players get past a certain age, they become less and less physically fit as they get older. Intuitively, the fitness level of a player should directly affect how much she plays in a season. On average, a WNBA player played approximately 497 minutes in the 2016-2017 season:\n"
      ]
    },
    {
      "cell_type": "code",
      "metadata": {
        "id": "o8V9Ucd3pQMO",
        "colab_type": "code",
        "outputId": "4eecab26-43fc-4ff5-ac2a-7c4590fa3e61",
        "colab": {
          "base_uri": "https://localhost:8080/",
          "height": 34
        }
      },
      "source": [
        "wnba['MIN'].mean()"
      ],
      "execution_count": 0,
      "outputs": [
        {
          "output_type": "execute_result",
          "data": {
            "text/plain": [
              "496.97202797202794"
            ]
          },
          "metadata": {
            "tags": []
          },
          "execution_count": 18
        }
      ]
    },
    {
      "cell_type": "markdown",
      "metadata": {
        "id": "Glt-LLCJpSLi",
        "colab_type": "text"
      },
      "source": [
        "Let's hypothesize that older players generally play less than this average of 497 minutes, while younger players generally play more. As a benchmark to distinguish between younger and older players, we'll take the mean age of players in our sample, which is approximately 27:"
      ]
    },
    {
      "cell_type": "code",
      "metadata": {
        "id": "Rl37jGIapau8",
        "colab_type": "code",
        "outputId": "409adb4f-0815-416f-dcb3-41735d7da253",
        "colab": {
          "base_uri": "https://localhost:8080/",
          "height": 34
        }
      },
      "source": [
        "wnba['Age'].mean()"
      ],
      "execution_count": 0,
      "outputs": [
        {
          "output_type": "execute_result",
          "data": {
            "text/plain": [
              "27.076923076923077"
            ]
          },
          "metadata": {
            "tags": []
          },
          "execution_count": 19
        }
      ]
    },
    {
      "cell_type": "markdown",
      "metadata": {
        "id": "37-K5Vrepghb",
        "colab_type": "text"
      },
      "source": [
        "To test our hypothesis, we can generate a grouped bar plot to examine the frequency distribution of younger and older players that played under the average or as much as the average or above. Our hypothesis predicts that we should see a grouped bar plot that looks similar to this:\n",
        "\n",
        "<img width=\"600\" src=\"https://drive.google.com/uc?export=view&id=11S_m6RQAGChN_iOy7mS1qoEjCOWSEBDV\">\n",
        "\n",
        "\n",
        "To generate a graph like the one above, we'll first need to create two new variables:\n",
        "\n",
        "- An ordinal variable which labels each player as \"young\" or \"old\". If the player is 27 or over, we'll label her \"old\", otherwise the label is \"young\".\n",
        "- An ordinal variable which describes whether the minutes played is below or above average (or equal to the average). If a player played 497 minutes or more, we'll assign her the label \"average or above\", otherwise we'll assign \"below average\".\n",
        "\n",
        "In the code below, we'll use **lambda** functions to describe quickly the labeling logic above and **Series.apply()** to apply the **lambda** functions on the **Age** and **MIN** columns. We'll name the two resulting columns **age_mean_relative** and **min_mean_relative**.\n"
      ]
    },
    {
      "cell_type": "code",
      "metadata": {
        "id": "Jf0Bew4Pp7EU",
        "colab_type": "code",
        "outputId": "3b2ab772-f5bd-4930-9fc7-47b147710317",
        "colab": {
          "base_uri": "https://localhost:8080/",
          "height": 204
        }
      },
      "source": [
        "wnba['age_mean_relative'] = wnba['Age'].apply(lambda x: 'old' if x >= 27 else 'young')\n",
        "wnba['min_mean_relative'] = wnba['MIN'].apply(lambda x: 'average or above' if x >= 497 else\n",
        "                                              'below average')\n",
        "cols = [\"Name\",\"Age\",\"age_mean_relative\",\"MIN\",\"min_mean_relative\"]\n",
        "wnba[cols].head()"
      ],
      "execution_count": 0,
      "outputs": [
        {
          "output_type": "execute_result",
          "data": {
            "text/html": [
              "<div>\n",
              "<style scoped>\n",
              "    .dataframe tbody tr th:only-of-type {\n",
              "        vertical-align: middle;\n",
              "    }\n",
              "\n",
              "    .dataframe tbody tr th {\n",
              "        vertical-align: top;\n",
              "    }\n",
              "\n",
              "    .dataframe thead th {\n",
              "        text-align: right;\n",
              "    }\n",
              "</style>\n",
              "<table border=\"1\" class=\"dataframe\">\n",
              "  <thead>\n",
              "    <tr style=\"text-align: right;\">\n",
              "      <th></th>\n",
              "      <th>Name</th>\n",
              "      <th>Age</th>\n",
              "      <th>age_mean_relative</th>\n",
              "      <th>MIN</th>\n",
              "      <th>min_mean_relative</th>\n",
              "    </tr>\n",
              "  </thead>\n",
              "  <tbody>\n",
              "    <tr>\n",
              "      <th>0</th>\n",
              "      <td>Aerial Powers</td>\n",
              "      <td>23</td>\n",
              "      <td>young</td>\n",
              "      <td>173</td>\n",
              "      <td>below average</td>\n",
              "    </tr>\n",
              "    <tr>\n",
              "      <th>1</th>\n",
              "      <td>Alana Beard</td>\n",
              "      <td>35</td>\n",
              "      <td>old</td>\n",
              "      <td>947</td>\n",
              "      <td>average or above</td>\n",
              "    </tr>\n",
              "    <tr>\n",
              "      <th>2</th>\n",
              "      <td>Alex Bentley</td>\n",
              "      <td>26</td>\n",
              "      <td>young</td>\n",
              "      <td>617</td>\n",
              "      <td>average or above</td>\n",
              "    </tr>\n",
              "    <tr>\n",
              "      <th>3</th>\n",
              "      <td>Alex Montgomery</td>\n",
              "      <td>28</td>\n",
              "      <td>old</td>\n",
              "      <td>721</td>\n",
              "      <td>average or above</td>\n",
              "    </tr>\n",
              "    <tr>\n",
              "      <th>4</th>\n",
              "      <td>Alexis Jones</td>\n",
              "      <td>23</td>\n",
              "      <td>young</td>\n",
              "      <td>137</td>\n",
              "      <td>below average</td>\n",
              "    </tr>\n",
              "  </tbody>\n",
              "</table>\n",
              "</div>"
            ],
            "text/plain": [
              "              Name  Age age_mean_relative  MIN min_mean_relative\n",
              "0    Aerial Powers   23             young  173     below average\n",
              "1      Alana Beard   35               old  947  average or above\n",
              "2     Alex Bentley   26             young  617  average or above\n",
              "3  Alex Montgomery   28               old  721  average or above\n",
              "4     Alexis Jones   23             young  137     below average"
            ]
          },
          "metadata": {
            "tags": []
          },
          "execution_count": 20
        }
      ]
    },
    {
      "cell_type": "markdown",
      "metadata": {
        "id": "ifhDhs76rp_k",
        "colab_type": "text"
      },
      "source": [
        "**Exercise**\n",
        "\n",
        "<img width=\"100\" src=\"https://drive.google.com/uc?export=view&id=1E8tR7B9YYUXsU_rddJAyq0FrM0MSelxZ\">\n",
        "\n",
        "\n",
        "- Generate a grouped bar plot to confirm or reject our hypothesis. Using **sns.countplot()**:\n",
        "  - Place the **age_mean_relative** variable on the x-axis. The **age_mean_relative** and **min_mean_relative** are already defined.\n",
        "  - Generate the frequency distributions for the **min_mean_relative variable.**\n",
        "- Analyze the graph and determine whether the data confirms or rejects our hypothesis. If it's a confirmation assign the string **'confirmation'** to a variable named **result**. If it's a rejection, assign the string **'rejection'** to the variable **result.**"
      ]
    },
    {
      "cell_type": "code",
      "metadata": {
        "id": "gesr-86PvZxu",
        "colab_type": "code",
        "outputId": "f428336f-e3a6-40f1-b2c0-8f5f3bea9a15",
        "colab": {
          "base_uri": "https://localhost:8080/",
          "height": 284
        }
      },
      "source": [
        "# put your code here\n",
        "sns.countplot( x= \"age_mean_relative\", hue = \"min_mean_relative\", data = wnba)\n",
        "result = \"rejection\""
      ],
      "execution_count": 0,
      "outputs": [
        {
          "output_type": "display_data",
          "data": {
            "image/png": "[encoded data removed]",
            "text/plain": [
              "<Figure size 432x288 with 1 Axes>"
            ]
          },
          "metadata": {
            "tags": []
          }
        }
      ]
    },
    {
      "cell_type": "markdown",
      "metadata": {
        "id": "zQNpeRmKvfa7",
        "colab_type": "text"
      },
      "source": [
        "## 2.4 Comparing Histograms"
      ]
    },
    {
      "cell_type": "markdown",
      "metadata": {
        "id": "3wbt6EU4wBm8",
        "colab_type": "text"
      },
      "source": [
        "Contrary to what our hypothesis predicted, the grouped bar plot we built showed that among old players the \"average or above\" category is the most numerous. Among young players we saw an opposite pattern: there are more players who played below the average number of minutes.\n",
        "\n",
        "A shortcoming of our analysis so far is that the **min_mean_relative** variable doesn't show much granularity. We can see that more **old players** belong to the **\"average or above\"** category than to **\"below average\"**, but we can't tell, for instance, whether **old players** generally play much more than the average. For all we know, they could have all played exactly 497 minutes (which is the average).\n",
        "\n",
        "The **min_mean_relative** variable is ordinal, and it was derived from the **MIN** variable, which is measured on a ratio scale. The information provided by the **MIN** variable is much more granular, and we can plot the distribution of this variable instead. Because the **MIN** variable is measured on a ratio scale, we'll need to use histograms instead of bar plots.\n",
        "\n",
        "The easiest way to **compare two histograms** is to superimpose one on top of the other. We can do that by using the pandas visualization methods we learned in the previous mission:"
      ]
    },
    {
      "cell_type": "code",
      "metadata": {
        "id": "TMnltjWRw7qn",
        "colab_type": "code",
        "outputId": "6d8e4eb2-e67f-40d4-ca3e-307037e4eb5a",
        "colab": {
          "base_uri": "https://localhost:8080/",
          "height": 286
        }
      },
      "source": [
        "wnba[wnba.Age >= 27]['MIN'].plot.hist(label = 'Old', legend = True)\n",
        "wnba[wnba.Age < 27]['MIN'].plot.hist(label = 'Young', legend = True)"
      ],
      "execution_count": 0,
      "outputs": [
        {
          "output_type": "execute_result",
          "data": {
            "text/plain": [
              "<matplotlib.axes._subplots.AxesSubplot at 0x7fcbc0f8bcf8>"
            ]
          },
          "metadata": {
            "tags": []
          },
          "execution_count": 22
        },
        {
          "output_type": "display_data",
          "data": {
            "image/png": "[encoded data removed]",
            "text/plain": [
              "<Figure size 432x288 with 1 Axes>"
            ]
          },
          "metadata": {
            "tags": []
          }
        }
      ]
    },
    {
      "cell_type": "markdown",
      "metadata": {
        "id": "QnQWaVZGxB1U",
        "colab_type": "text"
      },
      "source": [
        "We can now see that most of the **old players** that belong to the **\"average or above\"** category play significantly more than average. The main downside of the visualization above is that the histogram for **young players** covers a large part of the other histogram. We can fix this easily by plotting only the shape of the histograms. We can do this using the **histtype** parameter and choose the **'step'** type:\n",
        "\n"
      ]
    },
    {
      "cell_type": "code",
      "metadata": {
        "id": "tbee7KFnxnHE",
        "colab_type": "code",
        "outputId": "b45bff98-828a-476e-a9cc-916fb51fd5ab",
        "colab": {
          "base_uri": "https://localhost:8080/",
          "height": 286
        }
      },
      "source": [
        "sns.set_style(\"white\")\n",
        "wnba[wnba.Age >= 27]['MIN'].plot.hist(histtype = 'step', label = 'Old', legend = True,color=\"red\")\n",
        "wnba[wnba.Age < 27]['MIN'].plot.hist(histtype = 'step', label = 'Young', legend = True,color=\"blue\")"
      ],
      "execution_count": 0,
      "outputs": [
        {
          "output_type": "execute_result",
          "data": {
            "text/plain": [
              "<matplotlib.axes._subplots.AxesSubplot at 0x7fcbca7d5470>"
            ]
          },
          "metadata": {
            "tags": []
          },
          "execution_count": 23
        },
        {
          "output_type": "display_data",
          "data": {
            "image/png": "[encoded data removed]",
            "text/plain": [
              "<Figure size 432x288 with 1 Axes>"
            ]
          },
          "metadata": {
            "tags": []
          }
        }
      ]
    },
    {
      "cell_type": "markdown",
      "metadata": {
        "id": "1co9KIQKxp8Y",
        "colab_type": "text"
      },
      "source": [
        "**Exercise**\n",
        "\n",
        "<img width=\"100\" src=\"https://drive.google.com/uc?export=view&id=1E8tR7B9YYUXsU_rddJAyq0FrM0MSelxZ\">\n",
        "\n",
        "\n",
        "- Looking on our graph above, it's not easy to visualize where the average number of minutes is. Using the [plt.axvline()](https://matplotlib.org/api/_as_gen/matplotlib.pyplot.axvline.html) function, add a vertical line to demarcate the average point:\n",
        "  - The vertical line should be at point 497 on the x-axis.\n",
        "  - Use the label parameter of **plt.axvline()** to label it **'Average'**. Display the label by running **plt.legend()**."
      ]
    },
    {
      "cell_type": "code",
      "metadata": {
        "id": "9UD1sMoGyZ-v",
        "colab_type": "code",
        "outputId": "716e96df-8089-41c6-bcd2-89c414b63399",
        "colab": {
          "base_uri": "https://localhost:8080/",
          "height": 286
        }
      },
      "source": [
        "# put your code here\n",
        "sns.set_style(\"white\")\n",
        "wnba[wnba.Age >= 27]['MIN'].plot.hist(histtype = 'step', label = 'Old', legend = True, color=\"red\")\n",
        "wnba[wnba.Age < 27]['MIN'].plot.hist(histtype = 'step', label = 'Young', legend = True, color=\"blue\")\n",
        "plt.axvline(x = 497)\n",
        "plt.legend(\"Average\")"
      ],
      "execution_count": 0,
      "outputs": [
        {
          "output_type": "execute_result",
          "data": {
            "text/plain": [
              "<matplotlib.legend.Legend at 0x7fcbc0f72e80>"
            ]
          },
          "metadata": {
            "tags": []
          },
          "execution_count": 24
        },
        {
          "output_type": "display_data",
          "data": {
            "image/png": "[encoded data removed]",
            "text/plain": [
              "<Figure size 432x288 with 1 Axes>"
            ]
          },
          "metadata": {
            "tags": []
          }
        }
      ]
    },
    {
      "cell_type": "markdown",
      "metadata": {
        "id": "qkGRfrn5yhgZ",
        "colab_type": "text"
      },
      "source": [
        "## 2.5 Kernel Density Estimate Plots\n"
      ]
    },
    {
      "cell_type": "markdown",
      "metadata": {
        "id": "-549n8Jc01yJ",
        "colab_type": "text"
      },
      "source": [
        "The step-type histograms we built made it possible to see clearly both distributions. The graph looked a bit overcrowded though, and the legend was not ideally positioned.\n",
        "\n",
        "<img width=\"500\" src=\"https://drive.google.com/uc?export=view&id=1Oogmu0kyhTgtK-N1zqsdzYGisTM2D6bE\">\n",
        "\n",
        "If we added more histograms to the graph above, it would become highly unreadable, and it'd be difficult to see any clear patterns. One solution to this problem is to smooth out the shape of the histograms to make them look less dense on the graph. This is how a single histogram would look smoothed out:\n",
        "\n",
        "\n",
        "<img width=\"500\" src=\"https://drive.google.com/uc?export=view&id=1us30ptyKArBL7GvemVRzYvBlGOD3KuMR\">\n",
        "\n",
        "We can smooth out our two histograms above for old and young players using the [Series.plot.kde()](https://pandas.pydata.org/pandas-docs/stable/generated/pandas.Series.plot.kde.html) function:\n"
      ]
    },
    {
      "cell_type": "code",
      "metadata": {
        "id": "GsVemyup09BU",
        "colab_type": "code",
        "outputId": "f6092afb-d855-498b-8ec9-10e920f51108",
        "colab": {
          "base_uri": "https://localhost:8080/",
          "height": 286
        }
      },
      "source": [
        "wnba[wnba.Age >= 27]['MIN'].plot.kde(label = 'Old', legend = True)\n",
        "wnba[wnba.Age < 27]['MIN'].plot.kde(label = 'Young', legend = True)"
      ],
      "execution_count": 0,
      "outputs": [
        {
          "output_type": "execute_result",
          "data": {
            "text/plain": [
              "<matplotlib.axes._subplots.AxesSubplot at 0x7fcbc0f0bb70>"
            ]
          },
          "metadata": {
            "tags": []
          },
          "execution_count": 25
        },
        {
          "output_type": "display_data",
          "data": {
            "image/png": "[encoded data removed]",
            "text/plain": [
              "<Figure size 432x288 with 1 Axes>"
            ]
          },
          "metadata": {
            "tags": []
          }
        }
      ]
    },
    {
      "cell_type": "markdown",
      "metadata": {
        "id": "mv7RT9Gc1w04",
        "colab_type": "text"
      },
      "source": [
        "Each of the smoothed histograms above is called a **kernel density estimate** plot or, shorter, **kernel density plot**. Unlike histograms, **kernel density** plots display densities on the y-axis instead of frequencies. The density values are actually probability values — which we'll be able to understand more about after the probability courses. All you need to know for now is that we can use kernel density plots to get a much clear picture about the shape of a distribution.\n",
        "\n",
        "\n",
        "**Exercise**\n",
        "\n",
        "<img width=\"100\" src=\"https://drive.google.com/uc?export=view&id=1E8tR7B9YYUXsU_rddJAyq0FrM0MSelxZ\">\n",
        "\n",
        "\n",
        "- Reproduce the kernel density plots above, and add a vertical line to demarcate the average point.\n",
        "  - The vertical line should be at point 497 on the x-axis.\n",
        "  - Label the vertical line **'Average'** and make sure the label is displayed in the legend.\n",
        "- Can we still see that most of the old players that belong to the **\"average or above\"** category play significantly more than average? If so, is the pattern more obvious (faster to observe) than in the case of the step-type histograms?"
      ]
    },
    {
      "cell_type": "code",
      "metadata": {
        "id": "4aeD2UhB2HXZ",
        "colab_type": "code",
        "outputId": "a0935b0b-6f24-4afc-f979-6f3f3a9408f6",
        "colab": {
          "base_uri": "https://localhost:8080/",
          "height": 286
        }
      },
      "source": [
        "# put your code here\n",
        "wnba[wnba[\"Age\"] >= 27][\"MIN\"].plot.kde(label = \"Old\", legend=True)\n",
        "wnba[wnba[\"Age\"] < 27][\"MIN\"].plot.kde(label = \"Young\", legend=True)\n",
        "plt.axvline(x = 497)\n",
        "# plt.legend(\"Average\")"
      ],
      "execution_count": 0,
      "outputs": [
        {
          "output_type": "execute_result",
          "data": {
            "text/plain": [
              "<matplotlib.lines.Line2D at 0x7fcbc0ede0b8>"
            ]
          },
          "metadata": {
            "tags": []
          },
          "execution_count": 26
        },
        {
          "output_type": "display_data",
          "data": {
            "image/png": "[encoded data removed]",
            "text/plain": [
              "<Figure size 432x288 with 1 Axes>"
            ]
          },
          "metadata": {
            "tags": []
          }
        }
      ]
    },
    {
      "cell_type": "markdown",
      "metadata": {
        "id": "5aQBIQSN2mWU",
        "colab_type": "text"
      },
      "source": [
        "## 2.6 Drawbacks of Kernel Density Plots"
      ]
    },
    {
      "cell_type": "markdown",
      "metadata": {
        "id": "mw-p3Uh1293i",
        "colab_type": "text"
      },
      "source": [
        "As data scientists, we'll often need to compare more than two distributions. In fact, previously in this mission we compared five distributions on a grouped bar plot:\n",
        "\n",
        "\n",
        "<img width=\"400\" src=\"https://drive.google.com/uc?export=view&id=1nSTEDf8EAAE8fQSqxs5dwrlqoU7PF9Gx\">\n",
        "\n",
        "Grouped bar plots are ideal for variables measured on nominal and ordinal scales. For variables measured on a ratio or interval scale, we learned that kernel density plots are a good solution when we have many distributions to compare. However, kernel density plots tend to become unreadable as we reach five distributions or more.\n",
        "\n",
        "Let's say we're interested in analyzing the distribution of player height as a function of player position. In other words, we want to figure out, for instance, whether centers are generally taller than forwards, whether forwards are generally shorter than guards, and so on. In the code below, we'll segment the data set by player position, and for each segment we'll generate a kernel density plot for the distribution of the **Height** variable:"
      ]
    },
    {
      "cell_type": "code",
      "metadata": {
        "id": "-C6bbEnh3EDZ",
        "colab_type": "code",
        "outputId": "bfd69710-c928-4e87-b7da-bf887727e684",
        "colab": {
          "base_uri": "https://localhost:8080/",
          "height": 286
        }
      },
      "source": [
        "wnba[wnba.Pos == 'F']['Height'].plot.kde(label = 'F', legend = True)\n",
        "wnba[wnba.Pos == 'C']['Height'].plot.kde(label = 'C', legend = True)\n",
        "wnba[wnba.Pos == 'G']['Height'].plot.kde(label = 'G', legend = True)\n",
        "wnba[wnba.Pos == 'G/F']['Height'].plot.kde(label = 'G/F', legend = True)\n",
        "wnba[wnba.Pos == 'F/C']['Height'].plot.kde(label = 'F/C', legend = True)"
      ],
      "execution_count": 0,
      "outputs": [
        {
          "output_type": "execute_result",
          "data": {
            "text/plain": [
              "<matplotlib.axes._subplots.AxesSubplot at 0x7fcbc0e89828>"
            ]
          },
          "metadata": {
            "tags": []
          },
          "execution_count": 27
        },
        {
          "output_type": "display_data",
          "data": {
            "image/png": "[encoded data removed]",
            "text/plain": [
              "<Figure size 432x288 with 1 Axes>"
            ]
          },
          "metadata": {
            "tags": []
          }
        }
      ]
    },
    {
      "cell_type": "markdown",
      "metadata": {
        "id": "fdeh9aOX3uqM",
        "colab_type": "text"
      },
      "source": [
        "If we look very closely, we can see a couple of clear patterns: the shortest players are generally guards, the tallest players are generally centers, mid-height players are generally forwards or play in a combined position, etc.\n",
        "\n",
        "Having to look very closely to a graph to identify obvious patterns is far from ideal. If there's any pattern, we want to see it immediately. To overcome this problem, we can use other kinds of graphs, which present the same information in a more readable way. For the rest of this mission, we'll explore two such alternatives.\n"
      ]
    },
    {
      "cell_type": "markdown",
      "metadata": {
        "id": "5d4hHHgb4Qnm",
        "colab_type": "text"
      },
      "source": [
        "## 2.7 Strip Plots"
      ]
    },
    {
      "cell_type": "markdown",
      "metadata": {
        "id": "YJWvOLd34Uom",
        "colab_type": "text"
      },
      "source": [
        "This is one alternative we can use to visualize the distribution of **heights** as a function of **player** position:\n",
        "\n",
        "\n",
        "<img width=\"400\" src=\"https://drive.google.com/uc?export=view&id=1aQYZGHJg1IDb0C5dUxaSE1coWb3ZI6Dp\">\n",
        "\n",
        "\n",
        "The **Pos** variable is represented on the x-axis, while **Height** is on the y-axis. Each of the five vertical lines made of distinctly colored bullets represents a distribution. These are the logical steps we'd take to build a plot like the one above:\n",
        "\n",
        "- Segment the data set by player position.\n",
        "- For every segment:\n",
        "    - List all the values in the **Height** variable.\n",
        "    - For every value in that list, draw a bullet point on a graph. The x-coordinate of the bullet point is given by the player position, and the y-coordinate by the player's height.\n",
        "    \n",
        "    \n",
        "<img width=\"500\" src=\"https://drive.google.com/uc?export=view&id=1Cp_Pd3uSY-9nE7mPw9oGz788ZPsrMUpJ\">\n",
        "\n",
        "\n",
        "Because we segment by player position, for every segment the player position values will be identical for every player while their heights will vary more or less. Because of the segmentation, the player position is also guaranteed to be different from segment to segment. After drawing all the bullet points for all the segments, we'll inevitably end up with five narrow vertical strips, one above each unique value on the x-axis. Because of this, each of the five plots is called a **strip plot**.\n",
        "\n",
        "To generate the first graph above with five strip plots, we can use the [sns.stripplot()](https://seaborn.pydata.org/generated/seaborn.stripplot.html?highlight=stripplot#seaborn.stripplot) function from the seaborn module. We place the **Pos** variable on the x-axis and **Height** on the y-axis:\n",
        "\n",
        "\n",
        "\n"
      ]
    },
    {
      "cell_type": "code",
      "metadata": {
        "id": "vcVqYdrz4YQ1",
        "colab_type": "code",
        "outputId": "6a233c2d-7ca8-4ade-8ee7-157944d6af0d",
        "colab": {
          "base_uri": "https://localhost:8080/",
          "height": 300
        }
      },
      "source": [
        "sns.stripplot(x = 'Pos', y = 'Height', data = wnba)"
      ],
      "execution_count": 0,
      "outputs": [
        {
          "output_type": "execute_result",
          "data": {
            "text/plain": [
              "<matplotlib.axes._subplots.AxesSubplot at 0x7fcbc0ed1b00>"
            ]
          },
          "metadata": {
            "tags": []
          },
          "execution_count": 28
        },
        {
          "output_type": "display_data",
          "data": {
            "image/png": "[encoded data removed]",
            "text/plain": [
              "<Figure size 432x288 with 1 Axes>"
            ]
          },
          "metadata": {
            "tags": []
          }
        }
      ]
    },
    {
      "cell_type": "markdown",
      "metadata": {
        "id": "BPum6AHx5yZ4",
        "colab_type": "text"
      },
      "source": [
        "Patterns are now immediately visible. We can see on the graph that the **shortest players are guards** — in fact, all players under 180 cm are guards. The **tallest players are centers** — this is the only category with players above 2 meters. Among combined positions, we can see that **F/C has slightly taller representatives** — most likely because it requires center qualities (and we've seen that the tallest players are generally centers).\n",
        "\n",
        "A **big downside** of strip plots is that the bullet **points overlap**. We can **fix** this by adding a bit of **jitter** to each distribution. We can do this by setting the jitter parameter to **True:**"
      ]
    },
    {
      "cell_type": "code",
      "metadata": {
        "id": "S97zw2FS6R44",
        "colab_type": "code",
        "outputId": "0a13daa9-eeb5-4452-ca14-1c176f3b613f",
        "colab": {
          "base_uri": "https://localhost:8080/",
          "height": 300
        }
      },
      "source": [
        "sns.stripplot(x = 'Pos', y = 'Height', data = wnba, jitter = True)"
      ],
      "execution_count": 0,
      "outputs": [
        {
          "output_type": "execute_result",
          "data": {
            "text/plain": [
              "<matplotlib.axes._subplots.AxesSubplot at 0x7fcbc0d54fd0>"
            ]
          },
          "metadata": {
            "tags": []
          },
          "execution_count": 29
        },
        {
          "output_type": "display_data",
          "data": {
            "image/png": "[encoded data removed]",
            "text/plain": [
              "<Figure size 432x288 with 1 Axes>"
            ]
          },
          "metadata": {
            "tags": []
          }
        }
      ]
    },
    {
      "cell_type": "markdown",
      "metadata": {
        "id": "jRG4rpvz6WKo",
        "colab_type": "text"
      },
      "source": [
        "On a side note, you might have noticed that strip plots are similar to the scatter plots we learned about in the visualization courses. **In fact, strip plots are actually scatter plots.** When one of the variables is nominal or ordinal, a scatter plot will generally take the form of a series of narrow strips (the number of narrow strips will be the same as the number of unique values in the nominal or ordinal variable).\n",
        "\n",
        "**Exercise**\n",
        "\n",
        "<img width=\"100\" src=\"https://drive.google.com/uc?export=view&id=1E8tR7B9YYUXsU_rddJAyq0FrM0MSelxZ\">\n",
        "\n",
        "\n",
        "- Using strip plots, examine the distribution of player **weight** (not height) as a function of player **position**. The graph should have the following properties:\n",
        "  - The **Pos** variable in on the x-axis and the **Weight** variable on the y-axis.\n",
        "  - Each **strip** plot has **jitter** added to it. The amount of jitter to apply is the one specific to **jitter = True.**\n",
        "- Do you see any similarity with the distributions of the **Height** variable? If so, how could this be explained?"
      ]
    },
    {
      "cell_type": "code",
      "metadata": {
        "id": "Ai9Nv3Um6p2a",
        "colab_type": "code",
        "outputId": "b148bbb3-8cae-4921-a1c7-aba9762f8924",
        "colab": {
          "base_uri": "https://localhost:8080/",
          "height": 300
        }
      },
      "source": [
        "# put your code here\n",
        "sns.stripplot(x = \"Pos\", y = \"Weight\", data = wnba, jitter = True)"
      ],
      "execution_count": 0,
      "outputs": [
        {
          "output_type": "execute_result",
          "data": {
            "text/plain": [
              "<matplotlib.axes._subplots.AxesSubplot at 0x7fcbca7d51d0>"
            ]
          },
          "metadata": {
            "tags": []
          },
          "execution_count": 30
        },
        {
          "output_type": "display_data",
          "data": {
            "image/png": "[encoded data removed]",
            "text/plain": [
              "<Figure size 432x288 with 1 Axes>"
            ]
          },
          "metadata": {
            "tags": []
          }
        }
      ]
    },
    {
      "cell_type": "markdown",
      "metadata": {
        "id": "_-16bb-77Omv",
        "colab_type": "text"
      },
      "source": [
        "## 2.8 Box plots"
      ]
    },
    {
      "cell_type": "markdown",
      "metadata": {
        "id": "tRpQfNku8RP4",
        "colab_type": "text"
      },
      "source": [
        "Besides strip plots, there's another kind of graph we can use to display many distributions at once and make sure everything is still readable. Below, we use this kind of graph to plot again the distribution of player height as a function of player position:\n",
        "\n",
        "\n",
        "<img width=\"400\" src=\"https://drive.google.com/uc?export=view&id=1YM9kJ-0f8eMvYEvI1C11TpvwQlqSuyRa\">\n",
        "\n",
        "Each individual plot above shows a distribution. Let's isolate the height distribution of guards and understand it by comparing it with a histogram showing the same distribution:\n",
        "\n",
        "<img width=\"800\" src=\"https://drive.google.com/uc?export=view&id=1ubAeLqYPthw2jJpN_ApMc30qM1BjSXpN\">\n",
        "\n",
        "In a nutshell, the graph on the right shows the range of the distribution and its three quartiles (the 25th, the 50th and the 75th percentile). This allows us to get a good visual intuition about the proportion of values that fall under a certain quartile, between any two quartiles, or between a quartile and the minimum or the maximum value in the distribution:\n",
        "\n",
        "\n",
        "<img width=\"800\" src=\"https://drive.google.com/uc?export=view&id=1Y0H3DLjHVbZOZSzOq8htlinzCxEAQW_R\">\n",
        "\n",
        "\n",
        "The two lines extending upwards and downwards out of the box in the middle look a bit like two whiskers, reason for which we call this plot a **box-and-whisker** plot, or, more convenient, just **box plot.**\n",
        "\n",
        "We can generate the five box plots above using the [sns.boxplot()](https://seaborn.pydata.org/generated/seaborn.boxplot.html) function. On the x-axis we want the **Pos** variable, and on the y-axis the **Height** variable.\n",
        "\n"
      ]
    },
    {
      "cell_type": "code",
      "metadata": {
        "id": "06YEoa0W8W42",
        "colab_type": "code",
        "outputId": "e962bfdb-ad71-4e14-aea8-dabe124af1cb",
        "colab": {
          "base_uri": "https://localhost:8080/",
          "height": 300
        }
      },
      "source": [
        "sns.boxplot(x = 'Pos', y = 'Height', data = wnba)"
      ],
      "execution_count": 0,
      "outputs": [
        {
          "output_type": "execute_result",
          "data": {
            "text/plain": [
              "<matplotlib.axes._subplots.AxesSubplot at 0x7fcbc0cec320>"
            ]
          },
          "metadata": {
            "tags": []
          },
          "execution_count": 31
        },
        {
          "output_type": "display_data",
          "data": {
            "image/png": "[encoded data removed]",
            "text/plain": [
              "<Figure size 432x288 with 1 Axes>"
            ]
          },
          "metadata": {
            "tags": []
          }
        }
      ]
    },
    {
      "cell_type": "markdown",
      "metadata": {
        "id": "ODb44RO8-Qc9",
        "colab_type": "text"
      },
      "source": [
        "You might wonder what is the meaning of those few dots for the box plots of centers and guards/forwards (G/F), and **why some box plots seem to lack some of the quartiles**. We'll discuss this in the next screen. Now, let's practice generating box plots.\n",
        "\n",
        "**Exercise**\n",
        "\n",
        "<img width=\"100\" src=\"https://drive.google.com/uc?export=view&id=1E8tR7B9YYUXsU_rddJAyq0FrM0MSelxZ\">\n",
        "\n",
        "- Using **sns.boxplot()**, generate a series of box plots to examine the distribution of player weight as a function of player position. Place the **Pos** variable on the x-axis and the **Weight** variable on the y-axis."
      ]
    },
    {
      "cell_type": "code",
      "metadata": {
        "id": "CV_jILuT-hXh",
        "colab_type": "code",
        "outputId": "c26495be-019f-4e17-e0b4-21a755c9a84f",
        "colab": {
          "base_uri": "https://localhost:8080/",
          "height": 300
        }
      },
      "source": [
        "# put your code here\n",
        "sns.boxplot(x = \"Pos\", y = \"Weight\", data = wnba)"
      ],
      "execution_count": 0,
      "outputs": [
        {
          "output_type": "execute_result",
          "data": {
            "text/plain": [
              "<matplotlib.axes._subplots.AxesSubplot at 0x7fcbc0d24f60>"
            ]
          },
          "metadata": {
            "tags": []
          },
          "execution_count": 32
        },
        {
          "output_type": "display_data",
          "data": {
            "image/png": "[encoded data removed]",
            "text/plain": [
              "<Figure size 432x288 with 1 Axes>"
            ]
          },
          "metadata": {
            "tags": []
          }
        }
      ]
    },
    {
      "cell_type": "markdown",
      "metadata": {
        "id": "pCXUOoFP-7me",
        "colab_type": "text"
      },
      "source": [
        "## 2.9 Outliers"
      ]
    },
    {
      "cell_type": "markdown",
      "metadata": {
        "id": "TgQBx0Hn_F7e",
        "colab_type": "text"
      },
      "source": [
        "The few dots we see for the box plots of centers and guards/forwards (G/F) represent values in the distribution that are much larger or much lower than the rest of the values. A value that is much lower or much larger than the rest of the values in a distribution is called an **outlier.**\n",
        "\n",
        "<img width=\"400\" src=\"https://drive.google.com/uc?export=view&id=1WoZ6rZWu8bIFhJaPwQ5mDvoo2pU0dzLa\">\n",
        "\n",
        "\n",
        "A value is an **outlier** if:\n",
        "\n",
        "- It's larger than the upper quartile by 1.5 times the difference between the upper quartile and the lower quartile (the difference is also called the interquartile range).\n",
        "- It's lower than the lower quartile by 1.5 times the difference between the upper quartile and the lower quartile (the difference is also called the interquartile range).\n",
        "\n",
        "<img width=\"600\" src=\"https://drive.google.com/uc?export=view&id=1NminuWMq8htgOFD5TeAyiLFhXdCtHQjJ\">\n",
        "\n",
        "Probably this is not yet crystal clear, so let's walk through an example. Let's consider the box plot for centers:\n",
        "\n",
        "<img width=\"800\" src=\"https://drive.google.com/uc?export=view&id=1krahzq8cce3FQmzXVekQM0UumStTIq8l\">\n",
        "\n",
        "\n",
        "From the output of **wnba[wnba['Pos'] == 'C']['Height'].describe()**, we can see that the upper quartile (the 75th percentile) is 196 and the lower quartile (the 25th percentile) is 193. Hence, the interquartile range is 3.\n",
        "\n",
        "\n",
        "$$\n",
        "\\text{interquartile range} = \\text{upper quartile} - \\text{lower quartil}\n",
        "$$\n",
        "\n",
        "\n",
        "Every value that is $3 \\times 1.5$  bigger than the upper quartile is considered an outlier. $3 \\times 1.5 = 4.5$, and the upper quartile is 196. This means that any value greater than $196 + 4.5 = 200.5$  is considered an outlier.\n",
        "\n",
        "Similarly, every value that is  $3 \\times 1.5$ lower that the lower quartile is an outlier. $3 \\times 1.5 = 4.5$, and the upper quartile is 193. This means that any value less than $193 - 4.5 = 188.5$ is an outlier.\n",
        "\n",
        "\n",
        "<img width=\"500\" src=\"https://drive.google.com/uc?export=view&id=18HtBhxsTPDtuhq4W0YoXfCs8Rx1gz-yQ\">\n",
        "\n",
        "\n",
        "This formal definition of an outlier is arbitrary, and it could be changed if we wanted to. For any given distribution, the upper and lower quartiles, and the interquartile range remain constant. However, the 1.5 factor can vary. If the factor is increased, then the range outside which values are considered outliers increases as well. If the factor is decreased, the range outside which values are considered outlier decreases as well.\n",
        "\n",
        "When we generate boxplots, we can increase or decrease this factor by using the **whis** parameter of the **sns.boxplot()** function. This is the same height distribution for centers without any outliers:\n",
        "\n",
        "\n"
      ]
    },
    {
      "cell_type": "code",
      "metadata": {
        "id": "GEU9c7vH_LUw",
        "colab_type": "code",
        "outputId": "03ffbeef-3b87-4b54-810a-22d671ec76dd",
        "colab": {
          "base_uri": "https://localhost:8080/",
          "height": 272
        }
      },
      "source": [
        "sns.boxplot(wnba[wnba['Pos'] == 'C']['Height'], whis = 4,\n",
        "              orient = 'vertical', width = .15,)"
      ],
      "execution_count": 0,
      "outputs": [
        {
          "output_type": "execute_result",
          "data": {
            "text/plain": [
              "<matplotlib.axes._subplots.AxesSubplot at 0x7fcbc0b3f4a8>"
            ]
          },
          "metadata": {
            "tags": []
          },
          "execution_count": 36
        },
        {
          "output_type": "display_data",
          "data": {
            "image/png": "[encoded data removed]",
            "text/plain": [
              "<Figure size 432x288 with 1 Axes>"
            ]
          },
          "metadata": {
            "tags": []
          }
        }
      ]
    },
    {
      "cell_type": "markdown",
      "metadata": {
        "id": "M0g8HA1yDpos",
        "colab_type": "text"
      },
      "source": [
        "**Exercise**\n",
        "\n",
        "<img width=\"100\" src=\"https://drive.google.com/uc?export=view&id=1E8tR7B9YYUXsU_rddJAyq0FrM0MSelxZ\">\n",
        "\n",
        "- Consider the quartiles of the **Games Played** variable:\n",
        "\n",
        "```python\n",
        ">> wnba['Games Played'].describe()\n",
        "count    143.000000\n",
        "mean      24.356643\n",
        "std        7.104259\n",
        "min        2.000000\n",
        "25%       22.000000\n",
        "50%       27.000000\n",
        "75%       29.000000\n",
        "max       32.000000\n",
        "Name: Games Played, dtype: float64\n",
        "```\n",
        "\n",
        "- Find the interquartile range, and assign the result to a variable named **iqr**.\n",
        "- Using a factor of 1.5, calculate the lower and upper bound outside which values are considered outliers.\n",
        "    - Assign the value of the lower bound to a variable named **lower_bound**.\n",
        "    - Assign the upper bound to a variable named **upper_bound.**\n",
        "- Find how many values in the distribution are outliers.\n",
        "    - Assign the number of outliers below the lower bound to a variable named **outliers_low.**\n",
        "    - Assign the number of outliers below the upper bound to a variable named **outliers_high.**\n",
        "- Plot a boxplot to check whether your answers are sensible.\n",
        "\n",
        "\n"
      ]
    },
    {
      "cell_type": "code",
      "metadata": {
        "id": "gzs1kjoLE0kX",
        "colab_type": "code",
        "outputId": "21fe02f3-d12f-42be-c369-9d7e7af1be2f",
        "colab": {
          "base_uri": "https://localhost:8080/",
          "height": 470
        }
      },
      "source": [
        "# put your code here\n",
        "iqr = 29 - 22 #interquartile range = upper quartile(75th percentile) - lower quartile(25th percentile)\n",
        "print(\"iqr: \")\n",
        "print(iqr)\n",
        "lower_bound = 22 - 4.5\n",
        "print(\"lower_bound: \")\n",
        "print(lower_bound)\n",
        "upper_bound = 29 + 4.5\n",
        "print(\"upper_bound: \")\n",
        "print(upper_bound)\n",
        "outliers_low = wnba[wnba[\"Games Played\"] <= lower_bound][\"Pos\"].value_counts().sum()\n",
        "print(\"outliers_low: \")\n",
        "print(outliers_low)\n",
        "outliers_high = wnba[wnba[\"Games Played\"] >= upper_bound][\"Pos\"].value_counts().sum()\n",
        "print(\"outliers_high: \")\n",
        "print(outliers_high)\n",
        "sns.boxplot(x = \"Pos\", y = \"Games Played\", data = wnba)"
      ],
      "execution_count": 0,
      "outputs": [
        {
          "output_type": "stream",
          "text": [
            "iqr: \n",
            "7\n",
            "lower_bound: \n",
            "17.5\n",
            "upper_bound: \n",
            "33.5\n",
            "outliers_low: \n",
            "23\n",
            "outliers_high: \n",
            "0\n"
          ],
          "name": "stdout"
        },
        {
          "output_type": "execute_result",
          "data": {
            "text/plain": [
              "<matplotlib.axes._subplots.AxesSubplot at 0x7fcbc072b208>"
            ]
          },
          "metadata": {
            "tags": []
          },
          "execution_count": 50
        },
        {
          "output_type": "display_data",
          "data": {
            "image/png": "[encoded data removed]",
            "text/plain": [
              "<Figure size 432x288 with 1 Axes>"
            ]
          },
          "metadata": {
            "tags": []
          }
        }
      ]
    },
    {
      "cell_type": "markdown",
      "metadata": {
        "id": "GfyIiVn0F1A8",
        "colab_type": "text"
      },
      "source": [
        "## 2.10 Next Steps"
      ]
    },
    {
      "cell_type": "markdown",
      "metadata": {
        "id": "MzxEpz9YGAq-",
        "colab_type": "text"
      },
      "source": [
        "In this mission, we learned how to compare frequency distributions using graphs. Grouped bar plots are ideal to compare the frequency distributions of nominal or ordinal variables. For variables measured on an interval or ratio scale, we can use step-type histograms, kernel density plots, or, for better readability, strip plots or box plots.\n",
        "\n",
        "<img width=\"400\" src=\"https://drive.google.com/uc?export=view&id=1J7n1gvx8sQpJ-WNZF5do8VPQk_vf2ORb\">\n",
        "\n",
        "\n",
        "We've come a long way in this course from learning about sampling to visualizing multiple frequency distributions. We've made great progress so far and completed the workflow we set out to do in the first mission.\n",
        "\n",
        "\n",
        "<img width=\"600\" src=\"https://drive.google.com/uc?export=view&id=1XQ_nPiVB1pMBaS0ikBE6IPeifOYbDG11\">\n"
      ]
    }
  ]
}