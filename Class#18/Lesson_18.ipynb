{
  "nbformat": 4,
  "nbformat_minor": 0,
  "metadata": {
    "colab": {
      "name": "Lesson_18.ipynb",
      "version": "0.3.2",
      "provenance": []
    },
    "kernelspec": {
      "name": "python3",
      "display_name": "Python 3"
    }
  },
  "cells": [
    {
      "cell_type": "code",
      "metadata": {
        "id": "G7t8fjfFh7hh",
        "colab_type": "code",
        "outputId": "2de4aadc-2757-4bf6-96e9-004d07313e0f",
        "colab": {
          "base_uri": "https://localhost:8080/",
          "height": 54
        }
      },
      "source": [
        "'''\n",
        "  Média: variáveis numéricas. Todos os valores a afetam.\n",
        "\n",
        "  Mediana\n",
        "\n",
        "  Moda: valor mais frequente\n",
        "    values_count é a moda\n",
        "    bom pra variáveis ordinais e nominais ou valores numericos discretos\n",
        "    Casos especiais:\n",
        "      Sem moda: repetições iguais\n",
        "      Multimodal: Vários picos e valores que não são também\n",
        "      Bimodal: 2 modas\n",
        "  Notas de avaliação em geral: padrão bimodal\n",
        "'''"
      ],
      "execution_count": 0,
      "outputs": [
        {
          "output_type": "execute_result",
          "data": {
            "text/plain": [
              "'\\n  Média: variáveis numéricas. Todos os valores a afetam.\\n\\n  Mediana\\n\\n  Moda: valor mais frequente\\n    values_count é a moda\\n    bom pra variáveis ordinais e nominais ou valores numericos discretos\\n    Casos especiais:\\n      Sem moda: repetições iguais\\n      Multimodal: Vários picos e valores que não são também\\n      Bimodal: 2 modas\\n  Notas de avaliação em geral: padrão bimodal\\n'"
            ]
          },
          "metadata": {
            "tags": []
          },
          "execution_count": 1
        }
      ]
    },
    {
      "cell_type": "markdown",
      "metadata": {
        "id": "WQFAB72idSem",
        "colab_type": "text"
      },
      "source": [
        "# 1 - Introduction"
      ]
    },
    {
      "cell_type": "markdown",
      "metadata": {
        "id": "NdyiVcCndmx_",
        "colab_type": "text"
      },
      "source": [
        "We learned that the **mean** takes into account each value in the distribution, and we saw that it's fairly **easy to define the mean algebraically**. These two properties make the mean far superior to the median. The **median comes in handy**, however, **when it's not possible or appropriate to compute the mean**.\n",
        "\n",
        "In this mission we'll explore a couple of cases where neither the **mean** nor the **median** are suitable for finding an average value, and we'll learn an alternative summary metric.\n",
        "\n",
        "We'll still be working with the same data set on house sale prices that we used in the last two missions:\n",
        "\n",
        "| | Order | PID | MS SubClass | MS Zoning | Lot Frontage | Lot Area | Street | Alley | Lot Shape | Sale Condition | SalePrice |        \n",
        "|-------|-----|-------------|-----------|--------------|----------|--------|-------|-----------|----------------|-----------|--------|\n",
        "| 0     | 1   | 526301100   | 20        | RL           | 141.0    | 131770 | Pave  | NaN       | WD             | Normal    | 215000 |\n",
        "| 1     | 2   | 526350040   | 20        | RH           | 80.0     | 11622  | Pave  | NaN       | WD             | Normal    | 105000 |\n",
        "| 2     | 3   | 526351010   | 20        | RL           | 81.0     | 14267  | Pave  | NaN       | WD             | Normal    | 172000 |\n",
        "| 3     | 4   | 526353030   | 20        | RL           | 93.0     | 11160  | Pave  | NaN       | WD             | Normal    | 244000 |\n",
        "| 4     | 5   | 527105010   | 60        | RL           | 74.0     | 13830  | Pave  | NaN       | WD             | Normal    | 189900 |\n",
        "\n",
        "\n",
        "Let's get familiar with a few parts of the data set which we're going to explore in this mission.\n",
        "\n",
        "\n",
        "**Exercise**\n",
        "\n",
        "<img width=\"100\" src=\"https://drive.google.com/uc?export=view&id=1E8tR7B9YYUXsU_rddJAyq0FrM0MSelxZ\">\n",
        "\n",
        "\n",
        "- Read in the TSV file (**AmesHousing_1.txt**) as a pandas **DataFrame** and save it to a variable named **houses.**\n",
        "- Explore the **Land Slope** column to find its scale of measurement. Refer to the [documentation](https://s3.amazonaws.com/dq-content/307/data_description.txt) to find the data dictionary of this column.\n",
        "  - Assign your answer as a string to the variable **scale_land**. Depending on the scale of measurement, choose between these following strings: **'nominal'**, **'ordinal'**, **'interval'**, and **'ratio'**.\n",
        "- Explore the **Roof Style** variable and find its scale of measurement. Assign your answer as a string to a variable named **scale_roof** (choose between the four strings listed above).\n",
        "  - What measure of average would you choose for this column?\n",
        "- Explore the **Kitchen AbvGr** variable and determine whether it's continuous or discrete. Assign your answer as a string to a variable named **kitchen_variable** — the string should be either **'continuous'**, or **'discrete'**.\n"
      ]
    },
    {
      "cell_type": "code",
      "metadata": {
        "id": "AY6t1lf_dxt6",
        "colab_type": "code",
        "colab": {}
      },
      "source": [
        "# put your code here\n",
        "import pandas as pd\n",
        "houses = pd.read_csv(\"AmesHousing_1.txt\", sep=\"\\t\")\n",
        "\n",
        "# print(houses[\"Land Slope\"])\n",
        "scale_land = \"ordinal\"\n",
        "\n",
        "# print(houses[\"Roof Style\"])\n",
        "scale_roof = \"nominal\"\n",
        "\n",
        "# print(houses[\"Kitchen AbvGr\"])\n",
        "kitchen_variable = \"discrete\""
      ],
      "execution_count": 0,
      "outputs": []
    },
    {
      "cell_type": "markdown",
      "metadata": {
        "id": "0YGcBRjZjFsS",
        "colab_type": "text"
      },
      "source": [
        "# 2 - The Mode for Ordinal Variables"
      ]
    },
    {
      "cell_type": "markdown",
      "metadata": {
        "id": "ZegDAsb6jKN9",
        "colab_type": "text"
      },
      "source": [
        "In the last exercise, we found that the **Land Slope** variable is **ordinal**. You may have also found from your exploration that the values of this variable are represented using words:"
      ]
    },
    {
      "cell_type": "code",
      "metadata": {
        "id": "s9vJDANmjVqS",
        "colab_type": "code",
        "outputId": "216124e6-8b8f-40fb-c098-18d26f34bd56",
        "colab": {
          "base_uri": "https://localhost:8080/",
          "height": 34
        }
      },
      "source": [
        "houses[\"Land Slope\"].unique()"
      ],
      "execution_count": 0,
      "outputs": [
        {
          "output_type": "execute_result",
          "data": {
            "text/plain": [
              "array(['Gtl', 'Mod', 'Sev'], dtype=object)"
            ]
          },
          "metadata": {
            "tags": []
          },
          "execution_count": 3
        }
      ]
    },
    {
      "cell_type": "markdown",
      "metadata": {
        "id": "LvqkhggQjYlf",
        "colab_type": "text"
      },
      "source": [
        "As you may have already found in the [documentation](https://s3.amazonaws.com/dq-content/307/data_description.txt), **'Gtl'** means gentle slope, **'Mod'** means moderate slope, and **'Sev'** stands for 'Severe slope'.\n",
        "\n",
        "**We can't compute the mean** for this variable because its values are words, not numbers. Remember that the definition of the mean is $\\displaystyle \\frac{\\sum_{i=1}^{n}}{n}$, so we can't compute the $\\displaystyle \\sum_{i=1}^{n} x_i$  part if the values are words. We learned previously that the **median** is a good workaround for **ordinal data**, but the values of this ordinal variable are not numbers. Can we still compute the **median**?\n",
        "\n",
        "If we sort the values of the **Land Slope** variable, we can find that the middle two values are **['Gtl', 'Gtl']** (the variable has an even number of values). Although we can't take their mean, it's intuitively clear that the average of two identical values is one of those values, so the **median** value should be **'Gtl'**.\n",
        "\n",
        "However, if the two middle values were **['Gtl', 'Mod']**, then it wouldn't be clear at all what to choose for the **median**. In cases like this, one workaround for finding an average value is to measure the most frequent value in the distribution. For the **Land Slope** variable, we can see that the value **'Gtl'** has the greatest frequency:\n",
        "\n",
        "\n"
      ]
    },
    {
      "cell_type": "code",
      "metadata": {
        "id": "3erkPupWjnnp",
        "colab_type": "code",
        "outputId": "fcf9d6fe-55ec-49a9-93b3-fd1fbcd2da94",
        "colab": {
          "base_uri": "https://localhost:8080/",
          "height": 85
        }
      },
      "source": [
        "houses['Land Slope'].value_counts()"
      ],
      "execution_count": 0,
      "outputs": [
        {
          "output_type": "execute_result",
          "data": {
            "text/plain": [
              "Gtl    2789\n",
              "Mod     125\n",
              "Sev      16\n",
              "Name: Land Slope, dtype: int64"
            ]
          },
          "metadata": {
            "tags": []
          },
          "execution_count": 4
        }
      ]
    },
    {
      "cell_type": "markdown",
      "metadata": {
        "id": "t78TCiQFntul",
        "colab_type": "text"
      },
      "source": [
        "We call the most frequent value in the distribution **the mode**. So the mode of the **Land Slope** variable is **'Gtl'**. In other words, the typical house has a **gentle slope**. Very importantly, notice that the mode is the most frequent value in the distribution, not the frequency of that value — so **the mode is 'Gtl', not 2789**.\n",
        "\n",
        "Just like for the **median**, there's no standard notation for the **mode**. It's also worth noting that the **mode is not defined algebraically.**\n",
        "\n",
        "**Exercise**\n",
        "\n",
        "<img width=\"100\" src=\"https://drive.google.com/uc?export=view&id=1E8tR7B9YYUXsU_rddJAyq0FrM0MSelxZ\">\n",
        "\n",
        "\n",
        "- Write a function that takes in an array of values (including strings) and returns the **mode** of that array. Inside the function's definition:\n",
        "  - Initialize an empty dictionary.\n",
        "  - Loop through the values of the array that the function takes in. For each iteration of the loop:\n",
        "    - If the value is already a key in the dictionary we initialized before the loop, increment its dictionary value by 1.\n",
        "    - Else, define the value as a key in the dictionary, and set the initial dictionary value to 1.\n",
        "  - You should end up with a dictionary containing the unique values of the array as dictionary keys and the count for each unique value as a dictionary value: **example_dictionary = {'unique_value1': 230, 'unique_value2': 23, 'unique_value3': 328}.**\n",
        "  - Return the key with the highest count (this key is the mode of the array). For instance, for the **example_dictionary** above, you should return the string **unique_value3.**\n",
        "    - You can use this [technique](https://stackoverflow.com/questions/268272/getting-key-with-maximum-value-in-dictionary/280156#280156) to return the key corresponding to the highest value.\n",
        "- Using the function you wrote, measure the **mode** of the **Land Slope** variable, and assign the result to a variable named **mode_function.**\n",
        "- Using the **Series.mode()** method, measure the **mode** of the **Land Slope** variable, and assign the result to a variable named **mode_method.**\n",
        "- Compare the two modes using the == operator to check whether they are the same and assign the result of the comparison to a variable named **same.**\n",
        "\n"
      ]
    },
    {
      "cell_type": "code",
      "metadata": {
        "id": "y6CQ2FAwq0f3",
        "colab_type": "code",
        "outputId": "10829b48-78af-48d4-dc83-3d67d1f8fa33",
        "colab": {
          "base_uri": "https://localhost:8080/",
          "height": 51
        }
      },
      "source": [
        "# put your code here\n",
        "array = [3, 1, 2, 3, 4, 5,]\n",
        "def get_mode(array):\n",
        "  dictionary = {}\n",
        "  greatest = -1000\n",
        "  for i in array:\n",
        "    if i in dictionary:\n",
        "      dictionary[i] += 1\n",
        "      if(dictionary[i] > greatest):\n",
        "        greatest = dictionary[i]\n",
        "        key_greatest = i\n",
        "    else:\n",
        "      dictionary[i] = 1\n",
        "  return key_greatest\n",
        "mode = get_mode(array)\n",
        "print(\" Expected mode of my array: 3\\n\", \"Mode of my array: \", mode)\n",
        "\n",
        "mode_function = get_mode(houses[\"Land Slope\"])\n",
        "mode_method = houses[\"Land Slope\"].mode()\n",
        "same = (mode_function == mode_method)"
      ],
      "execution_count": 0,
      "outputs": [
        {
          "output_type": "stream",
          "text": [
            " Expected mode of my array: 3\n",
            " Mode of my array:  3\n"
          ],
          "name": "stdout"
        }
      ]
    },
    {
      "cell_type": "markdown",
      "metadata": {
        "id": "ZLIFosp3q2gJ",
        "colab_type": "text"
      },
      "source": [
        "# 3 - The Mode for Nominal Variables"
      ]
    },
    {
      "cell_type": "markdown",
      "metadata": {
        "id": "NxBIyh4krNqS",
        "colab_type": "text"
      },
      "source": [
        "In the previous section, we learned that the **mode** is **ideal for ordinal data** represented **using words**. The mode is also a good choice for nominal data. Let's consider the **Roof Style** variable, which is measured on a **nominal scale** and describes the roof type of a house:"
      ]
    },
    {
      "cell_type": "code",
      "metadata": {
        "id": "jtqv6r02rhAu",
        "colab_type": "code",
        "outputId": "8dc03db2-90d4-40e8-a515-e984db9f978d",
        "colab": {
          "base_uri": "https://localhost:8080/",
          "height": 136
        }
      },
      "source": [
        "houses['Roof Style'].value_counts()"
      ],
      "execution_count": 0,
      "outputs": [
        {
          "output_type": "execute_result",
          "data": {
            "text/plain": [
              "Gable      2321\n",
              "Hip         551\n",
              "Gambrel      22\n",
              "Flat         20\n",
              "Mansard      11\n",
              "Shed          5\n",
              "Name: Roof Style, dtype: int64"
            ]
          },
          "metadata": {
            "tags": []
          },
          "execution_count": 6
        }
      ]
    },
    {
      "cell_type": "markdown",
      "metadata": {
        "id": "fmB_FA6fri3u",
        "colab_type": "text"
      },
      "source": [
        "We obviously can't compute the **mean** for this variable because the **values are words**. Even if they were coded as numbers, it'd be completely wrong to compute the mean because in the case of nominal variables the numbers describe qualities, not quantities.\n",
        "\n",
        "In the previous section, we made the case that we could compute the **mean** for **ordinal variables** if the values are numbers. This reasoning doesn't extend to nominal variables because they don't describe quantities, like ordinal variables do.\n",
        "\n",
        "\n",
        "<img width=\"400\" src=\"https://drive.google.com/uc?export=view&id=1exMTxyLhkc-9Ov_2nv9J3KbEUX64FJEd\">\n",
        "\n",
        "Because the **Roof Style** variable is **nominal**, there's also no inherent order of the values in the distribution. This means that we can't sort the values in an ascending or descending order. The first step in computing the **median** is to sort the values in ascending order, which means **we can't compute the median** for the **Roof Style** variable.\n",
        "\n",
        "**Exercise**\n",
        "\n",
        "<img width=\"100\" src=\"https://drive.google.com/uc?export=view&id=1E8tR7B9YYUXsU_rddJAyq0FrM0MSelxZ\">\n",
        "\n",
        "- Edit the function you wrote to return both the **mode** of an array and the dictionary containing the count for each unique value in the array.\n",
        "- Use the edited function to return, at the same time, the mode of the **Roof Style** variable and the dictionary containing the counts for each unique value.\n",
        "  - Assign the mode to a variable named **'mode'.**\n",
        "  - Assign the dictionary to a variable named **value_counts.**\n",
        "- Inspect the content of **value_counts** and compare it to the value count we'd get by using the **Series.value_counts()** method.\n",
        "  - This exercise is meant to give you a better understanding of what happens under the hood when we run **Series.value_counts().**"
      ]
    },
    {
      "cell_type": "code",
      "metadata": {
        "id": "BG0YCb3RsRRj",
        "colab_type": "code",
        "outputId": "69de6607-1cfb-48b8-9b6a-93850bea7abd",
        "colab": {
          "base_uri": "https://localhost:8080/",
          "height": 187
        }
      },
      "source": [
        "def get_mode(array):\n",
        "  dictionary = {}\n",
        "  greatest = -1000\n",
        "  for i in array:\n",
        "    if i in dictionary:\n",
        "      dictionary[i] += 1\n",
        "      if(dictionary[i] > greatest):\n",
        "        greatest = dictionary[i]\n",
        "        key_greatest = i\n",
        "    else:\n",
        "      dictionary[i] = 1\n",
        "  return key_greatest, greatest\n",
        "  \n",
        "mode = get_mode(houses[\"Roof Style\"])[0]\n",
        "print(\"My mode(): \", mode)\n",
        "value_counts = get_mode(houses[\"Roof Style\"])[1]\n",
        "print(\"My value_counts(): \", value_counts)\n",
        "\n",
        "print(\"\\n\", houses[\"Roof Style\"].value_counts())"
      ],
      "execution_count": 0,
      "outputs": [
        {
          "output_type": "stream",
          "text": [
            "My mode():  Gable\n",
            "My value_counts():  2321\n",
            "\n",
            " Gable      2321\n",
            "Hip         551\n",
            "Gambrel      22\n",
            "Flat         20\n",
            "Mansard      11\n",
            "Shed          5\n",
            "Name: Roof Style, dtype: int64\n"
          ],
          "name": "stdout"
        }
      ]
    },
    {
      "cell_type": "markdown",
      "metadata": {
        "id": "U6sqNiMLtRFz",
        "colab_type": "text"
      },
      "source": [
        "# 4 - The Mode for Discrete Variables"
      ]
    },
    {
      "cell_type": "markdown",
      "metadata": {
        "id": "T_kIgrzKtaug",
        "colab_type": "text"
      },
      "source": [
        "There are some cases where computing the **mean** and the **median** is possible and correct, but the **mode** is preferred nonetheless. **This is sometimes the case for discrete variables.**\n",
        "\n",
        "To remind you from the first course, variables measured on interval or ratio scales can also be classified as **discrete** or **continuous**. A variable is discrete if there's no possible intermediate value between any two adjacent values. Let's take for instance the **Kitchen AbvGr** variable, which describes the number of kitchens in a house:"
      ]
    },
    {
      "cell_type": "code",
      "metadata": {
        "id": "jIOv1KaEtyVc",
        "colab_type": "code",
        "outputId": "15c9fb26-cc76-4d34-d3ae-85cc31d0e660",
        "colab": {
          "base_uri": "https://localhost:8080/",
          "height": 102
        }
      },
      "source": [
        "houses['Kitchen AbvGr'].value_counts().sort_index()"
      ],
      "execution_count": 0,
      "outputs": [
        {
          "output_type": "execute_result",
          "data": {
            "text/plain": [
              "0       3\n",
              "1    2796\n",
              "2     129\n",
              "3       2\n",
              "Name: Kitchen AbvGr, dtype: int64"
            ]
          },
          "metadata": {
            "tags": []
          },
          "execution_count": 8
        }
      ]
    },
    {
      "cell_type": "markdown",
      "metadata": {
        "id": "Eix7J25UtyrH",
        "colab_type": "text"
      },
      "source": [
        "Let's say we need to write an article about the house market in Ames, Iowa, and our main target audience are regular adult citizens from Ames. Among other aspects, we want to describe how many kitchens the typical house has. If we take the mean, we'd need to write that the typical house has 1.04 kitchens. This wouldn't make much sense for the regular reader, who expects the number of kitchens to be a whole number, not a decimal.\n",
        "\n",
        "The median is 1 — a value much easier to grasp by non-technical people compared to 1.04. But this is a lucky case because the middle two values in the sorted distribution could have been [1,2], and then the median would have been 1.5. The mode is a safer choice for cases like this because it guarantees a whole number from the distribution.\n",
        "\n",
        "The mode of the **Kitchen AbvGr** variable is 1. When we report this result, we should avoid technical jargon (like \"mode\" or \"variable\") and simply say that the typical house on the market has one kitchen.\n",
        "\n",
        "<img width=\"400\" src=\"https://drive.google.com/uc?export=view&id=1sPDIyyNZE9VTMSEu-eW0-VtgPhQCSklk\">\n",
        "\n",
        "Note that the **mode** is also guaranteed to be a value from the distribution (this holds true for any kind of variable). This doesn't apply to the **mean** or the **median**, which can return values that are not present in the actual distribution. For instance, the **mean** of the **Kitchen AbvGr** is 1.04, but the value 1.04 is not present in the distribution.\n",
        "\n",
        "The **mean** and the **median** generally summarize the distribution of a discrete variable much better than the **mode**, and you should use the **mode** only if you need to communicate your results to a non-technical audience.\n",
        "\n",
        "\n",
        "**Exercise**\n",
        "\n",
        "<img width=\"100\" src=\"https://drive.google.com/uc?export=view&id=1E8tR7B9YYUXsU_rddJAyq0FrM0MSelxZ\">\n",
        "\n",
        "- Explore the **Bedroom AbvGr** variable, and find whether it's **discrete** or **continuous**. You can refer to the [documentation](https://s3.amazonaws.com/dq-content/307/data_description.txt) for the possible values for this column.\n",
        "  - If it's **discrete**, assign the string **'discrete'** to a variable named **bedroom_variable**, otherwise assign **'continuous'**.\n",
        "  - If it's **discrete**, compute its mode using **Series.mode()** and assign the result to a variable named **bedroom_mode.**\n",
        "- Find whether the **SalePrice** variable is **discrete** or **continuous**.\n",
        "  - If it's **discrete**, assign the string **'discrete'** to a variable named **price_variable**, otherwise assign **'continuous'.**\n",
        "  - If it's **discrete**, compute its mode using **Series.mode()** and assign the result to a variable named **price_mode**."
      ]
    },
    {
      "cell_type": "code",
      "metadata": {
        "id": "uYU8I7pCuU_u",
        "colab_type": "code",
        "outputId": "86bdc3ba-28d2-41ea-fb03-feac569fc512",
        "colab": {
          "base_uri": "https://localhost:8080/",
          "height": 85
        }
      },
      "source": [
        "# put your code here\n",
        "bedroom = houses[\"Bedroom AbvGr\"]\n",
        "bedroom_variable = \"discrete\"\n",
        "bedroom_mode = bedroom.mode()\n",
        "print(bedroom_mode)\n",
        "\n",
        "sale_price = houses[\"SalePrice\"]\n",
        "price_variable = \"discrete\"\n",
        "price_mode = sale_price.mode()\n",
        "print(price_mode)"
      ],
      "execution_count": 0,
      "outputs": [
        {
          "output_type": "stream",
          "text": [
            "0    3\n",
            "dtype: int64\n",
            "0    135000\n",
            "dtype: int64\n"
          ],
          "name": "stdout"
        }
      ]
    },
    {
      "cell_type": "markdown",
      "metadata": {
        "id": "GZDoT-4WAlAg",
        "colab_type": "text"
      },
      "source": [
        "# 5 - Special Cases"
      ]
    },
    {
      "cell_type": "markdown",
      "metadata": {
        "id": "NfdPRYRhBm7Z",
        "colab_type": "text"
      },
      "source": [
        "There are distributions that can have more than one **mode**. Let's say we sampled the **Kitchen AbvGr** column and got this distribution of seven sample points:\n",
        "\n",
        "$$\n",
        "[0,1,1,1,2,2,2,3]\n",
        "$$\n",
        "\n",
        "The two most frequent values are 1 and 2 (both occur in the distribution three times), which means that this distribution has **two modes** (1 and 2). For this reason, we call this distribution **bimodal** (the prefix \"bi-\" means \"twice\"). If the distribution had only one mode, we'd call it **unimodal** (the prefix \"uni-\" means \"only one\").\n",
        "\n",
        "There's nothing wrong with having two modes. For our case above, the two modes tell us that the typical house on the market has either one or two kitchens.\n",
        "\n",
        "It's not excluded to have a distribution with more than two modes. Let's say we sampled from another column, **Bedroom AbvGr**, and got this distribution of 10 sample points:\n",
        "\n",
        "$$\n",
        "[0,1,1,2,2,3,3,4,4,8]\n",
        "$$\n",
        "\n",
        "Note that this distribution has four modes: 1, 2, 3, and 4 (each occurs twice in the distribution). When a distribution has more than two modes, we say that the distribution is **multimodal** (the prefix \"multi-\" means many).\n",
        "\n",
        "We can also have cases when there is no mode at all. Let's say we sample again from the **Bedroom AbvGr** column and get this distribution of 8 sample points:\n",
        "\n",
        "$$\n",
        "[1,1,2,2,3,3,4,4]\n",
        "$$\n",
        "\n",
        "Each unique value occurs twice in the distribution above, so there's no value (or values) that occurs more often than others. For this reason, **this distribution doesn't have a mode**. Contextually, we could say that there's no typical house on the market with respect to the number of bedrooms.\n",
        "\n",
        "**Distributions without a mode are often specific to continuous variables**. It's quite rare to find two identical values in a continuous distribution (especially if we have decimal numbers), so the frequency of each unique value is usually 1. Even if we find identical values, their frequency is very likely to be too low to produce a meaningful mode value.\n",
        "\n",
        "The workaround is to organize the continuous variable in a grouped frequency table, and select for the mode the midpoint of the class interval (the bin) with the highest frequency. This method has its limitations, but it generally gives reasonable answers. Let's try to get a better grasp of how this works in the following exercise.\n",
        "\n",
        "\n",
        "**Exercise**\n",
        "\n",
        "<img width=\"100\" src=\"https://drive.google.com/uc?export=view&id=1E8tR7B9YYUXsU_rddJAyq0FrM0MSelxZ\">\n",
        "\n",
        "- Using only what we learned in the previous lessons, we already created a grouped frequency table for the **SalePrice** variable (in the cell below).\n",
        "```python\n",
        "(0, 100000]          252\n",
        "(100000, 200000]    1821\n",
        "(200000, 300000]     627\n",
        "(300000, 400000]     166\n",
        "(400000, 500000]      47\n",
        "(500000, 600000]      11\n",
        "(600000, 700000]       4\n",
        "(700000, 800000]       2\n",
        "```\n",
        "- Find the class interval with the highest frequency, then find its midpoint. For instance, the midpoint of the class interval **(0, 100000]** is 50000.\n",
        "  - Assign the midpoint value to a variable named **mode**. Make sure the value you assign is of the **int** type.\n",
        "- Find the **mean** of the **SalePrice** column and assign it to a variable named **mean**.\n",
        "- Find the **median** of the **SalePrice** column and assign it to a variable named **median**.\n",
        "- Asses the truth value of the following sentences:\n",
        "  - The **mode** is lower than the **median**, and the **median** is lower than the **mean**.\n",
        "    - If you think this is true, assign the boolean **True** to a variable named **sentence_1**, otherwise assign **False**.\n",
        "  - The **mean** is greater than the **median**, and the **median** is greater than the **mode**.\n",
        "    - Assign **True** or **False** to a variable named **sentence_2**."
      ]
    },
    {
      "cell_type": "code",
      "metadata": {
        "id": "ALe2zQKaCoxQ",
        "colab_type": "code",
        "outputId": "c169391a-6686-4a81-a202-e0f766da3a74",
        "colab": {
          "base_uri": "https://localhost:8080/",
          "height": 238
        }
      },
      "source": [
        "intervals = pd.interval_range(start = 0, end = 800000, freq = 100000)\n",
        "gr_freq_table = pd.Series([0,0,0,0,0,0,0,0], index = intervals)\n",
        "\n",
        "for value in houses['SalePrice']:\n",
        "    for interval in intervals:\n",
        "        if value in interval:\n",
        "            gr_freq_table.loc[interval] += 1\n",
        "            break\n",
        "\n",
        "print(gr_freq_table)\n",
        "\n",
        "\n",
        "# put your code here\n",
        "mode = (200000+100000)/2\n",
        "mean = houses[\"SalePrice\"].mean()\n",
        "median = houses[\"SalePrice\"].median()\n",
        "\n",
        "sentence1 = True\n",
        "sentence2 = True\n",
        "\n",
        "print(\"\\nMode: \", mode)\n",
        "print(\"Mean: \", mean)\n",
        "print(\"Median: \", median)"
      ],
      "execution_count": 0,
      "outputs": [
        {
          "output_type": "stream",
          "text": [
            "(0, 100000]          252\n",
            "(100000, 200000]    1821\n",
            "(200000, 300000]     627\n",
            "(300000, 400000]     166\n",
            "(400000, 500000]      47\n",
            "(500000, 600000]      11\n",
            "(600000, 700000]       4\n",
            "(700000, 800000]       2\n",
            "dtype: int64\n",
            "\n",
            "Mode:  150000.0\n",
            "Mean:  180796.0600682594\n",
            "Median:  160000.0\n"
          ],
          "name": "stdout"
        }
      ]
    },
    {
      "cell_type": "markdown",
      "metadata": {
        "id": "X_aPD8AUIchG",
        "colab_type": "text"
      },
      "source": [
        "# 6 - Skewed Distributions"
      ]
    },
    {
      "cell_type": "markdown",
      "metadata": {
        "id": "fIVeUuYhJs0H",
        "colab_type": "text"
      },
      "source": [
        "When we plot a histogram or a kernel density plot to visualize the shape of a distribution, the mode will always be the peak of the distribution. In the code below, we plot a kernel density plot to visualize the shape of the **SalePrice** variable and:\n",
        "\n",
        "- Set the limits of the x-axis using the **xlim** parameter — the lowest limit is the minimum value in the **SalePrice** variable, and the upper limit is the maximum value.\n",
        "- Plot a vertical line to indicate the position of the mode (note that our estimate of 150000 from the last exercise is quite close to the peak of the distribution)."
      ]
    },
    {
      "cell_type": "code",
      "metadata": {
        "id": "XZY66hzmKKOO",
        "colab_type": "code",
        "outputId": "76e821e2-e608-453f-b2a1-fba4597a0d81",
        "colab": {
          "base_uri": "https://localhost:8080/",
          "height": 269
        }
      },
      "source": [
        "import matplotlib.pyplot as plt\n",
        "houses['SalePrice'].plot.kde(xlim = (houses['SalePrice'].min(),\n",
        "                                     houses['SalePrice'].max()))\n",
        "plt.axvline(houses['SalePrice'].mode()[0], color = 'Green')\n",
        "plt.show()"
      ],
      "execution_count": 0,
      "outputs": [
        {
          "output_type": "display_data",
          "data": {
            "image/png": "[encoded data removed]",
            "text/plain": [
              "<Figure size 432x288 with 1 Axes>"
            ]
          },
          "metadata": {
            "tags": []
          }
        }
      ]
    },
    {
      "cell_type": "markdown",
      "metadata": {
        "id": "6KhNvNmyKW5J",
        "colab_type": "text"
      },
      "source": [
        "**This distribution is clearly right skewed**. Generally, the location of the mode, median and mean is predictable for a right-skewed distribution:\n",
        "\n",
        "- Most values are concentrated in the left body of the distribution where they will form a peak — this is where the mode will be.\n",
        "- Remember that the median divides a distribution in two halves of equal length. For this reason, **the median is usually positioned slightly right from the peak** (the mode) for a right-skewed distribution.\n",
        "- The mean takes into account each value in the distribution, and it will be affected by the outliers in the right tail. This will generally pull **the mean to the right of the median**.\n",
        "\n",
        "So in a **right-skewed distribution**, the mean will usually be to the right of the median, and the median will be to the right of the mode. This holds true for the distribution of the **SalePrice** variable:\n",
        "\n",
        "\n",
        "\n"
      ]
    },
    {
      "cell_type": "code",
      "metadata": {
        "id": "zPEH8HZuLN79",
        "colab_type": "code",
        "outputId": "0c8699bd-9b62-43cb-afda-87f4b645fdf8",
        "colab": {
          "base_uri": "https://localhost:8080/",
          "height": 286
        }
      },
      "source": [
        "houses['SalePrice'].plot.kde(xlim = (houses['SalePrice'].min(),\n",
        "                                     houses['SalePrice'].max()\n",
        "                                    ))\n",
        "plt.axvline(houses['SalePrice'].mode()[0], color = 'Green', label = 'Mode')\n",
        "plt.axvline(houses['SalePrice'].median(), color = 'Black', label = 'Median')\n",
        "plt.axvline(houses['SalePrice'].mean(), color = 'Orange', label = 'Mean')\n",
        "plt.legend()"
      ],
      "execution_count": 0,
      "outputs": [
        {
          "output_type": "execute_result",
          "data": {
            "text/plain": [
              "<matplotlib.legend.Legend at 0x7f87ac1d6f98>"
            ]
          },
          "metadata": {
            "tags": []
          },
          "execution_count": 12
        },
        {
          "output_type": "display_data",
          "data": {
            "image/png": "[encoded data removed]",
            "text/plain": [
              "<Figure size 432x288 with 1 Axes>"
            ]
          },
          "metadata": {
            "tags": []
          }
        }
      ]
    },
    {
      "cell_type": "markdown",
      "metadata": {
        "id": "TE79PEEbMOwg",
        "colab_type": "text"
      },
      "source": [
        "For a **left-skewed distribution**, the direction is simply reversed: the mean is positioned to the left of the median, and the median to the left of the mode. This is obvious on the distribution of the **Year Built** variable:\n",
        "\n"
      ]
    },
    {
      "cell_type": "code",
      "metadata": {
        "id": "VO3fMQqEMi-W",
        "colab_type": "code",
        "outputId": "031a14f6-ae3d-4e07-aa01-d2d02bb33ced",
        "colab": {
          "base_uri": "https://localhost:8080/",
          "height": 286
        }
      },
      "source": [
        "houses['Year Built'].plot.kde(xlim = (houses['Year Built'].min(),\n",
        "                                             houses['Year Built'].max()))\n",
        "plt.axvline(houses['Year Built'].mode()[0], color = 'Green', label = 'Mode')\n",
        "plt.axvline(houses['Year Built'].median(), color = 'Black', label = 'Median')\n",
        "plt.axvline(houses['Year Built'].mean(), color = 'Orange', label = 'Mean')\n",
        "plt.legend()"
      ],
      "execution_count": 0,
      "outputs": [
        {
          "output_type": "execute_result",
          "data": {
            "text/plain": [
              "<matplotlib.legend.Legend at 0x7f87ac0f7898>"
            ]
          },
          "metadata": {
            "tags": []
          },
          "execution_count": 13
        },
        {
          "output_type": "display_data",
          "data": {
            "image/png": "[encoded data removed]",
            "text/plain": [
              "<Figure size 432x288 with 1 Axes>"
            ]
          },
          "metadata": {
            "tags": []
          }
        }
      ]
    },
    {
      "cell_type": "markdown",
      "metadata": {
        "id": "77Kl_UZ4MvLC",
        "colab_type": "text"
      },
      "source": [
        "**Exercise**\n",
        "\n",
        "<img width=\"100\" src=\"https://drive.google.com/uc?export=view&id=1E8tR7B9YYUXsU_rddJAyq0FrM0MSelxZ\">\n",
        "\n",
        "- In the code editor you can see the mean, mode and median for three distributions. Indicate whether the mean, median, and mode of each distribution suggest a left or a right skew.\n",
        "  - If the values for **distribution_1** indicate a **right skew**, assign the string **'right skew'** to a variable named **shape_1**, otherwise assign **'left skew'**.\n",
        "  - If the values for **distribution_2** indicate a **right skew**, assign the string **'right skew'** to a variable named **shape_2**, otherwise assign **'left skew'**.\n",
        "  - If the values for **distribution_3** indicate a **right skew**, assign the string **'right skew'** to a variable named **shape_3**, otherwise assign **'left skew'**.\n"
      ]
    },
    {
      "cell_type": "code",
      "metadata": {
        "id": "bS3-RPYdNga1",
        "colab_type": "code",
        "colab": {}
      },
      "source": [
        "distribution_1 = {'mean': 3021 , 'median': 3001, 'mode': 2947}\n",
        "distribution_2 = {'median': 924 , 'mode': 832, 'mean': 962}\n",
        "distribution_3 = {'mode': 202, 'mean': 143, 'median': 199}\n",
        "\n",
        "# put your code here\n",
        "distribution_1 = \"right skew\"\n",
        "distribution_2 = \"right skew\"\n",
        "distribution_3 = \"left skew\""
      ],
      "execution_count": 0,
      "outputs": []
    },
    {
      "cell_type": "markdown",
      "metadata": {
        "id": "ICyOZqNVOHHH",
        "colab_type": "text"
      },
      "source": [
        "# 7 - Symmetrical Distributions"
      ]
    },
    {
      "cell_type": "markdown",
      "metadata": {
        "id": "7ihrwjvaOVlO",
        "colab_type": "text"
      },
      "source": [
        "The location of the **mean**, **median**, and **mode** are also predictable for **symmetrical distributions**. Remember from the last course that if the shape of a distribution is symmetrical, then we can divide the distribution in two halves that are mirror images of one another:\n",
        "\n",
        "<img width=\"400\" src=\"https://drive.google.com/uc?export=view&id=1LoXkwVmlC_KarBDPXHE2st2fyMF0zMJ_\">\n",
        "\n",
        "\n",
        "The median divides the distribution in two equal halves. As a consequence, the median will always be at the center of a perfectly symmetrical distribution because only a line drawn at the center can divide the distribution in two equal halves.\n",
        "\n",
        "For a perfectly symmetrical distribution, the two equal halves will bear the same weight when computing the mean because the mean takes into account equally each value in the distribution. The mean is not pulled neither to the left, nor to the right, and stays instead in the center, at the same location as the median. **The mean and the median are always equal for any perfectly symmetrical distribution**.\n",
        "\n",
        "Although the mean and the median have a constant location for every symmetrical distribution (no matter the shape), the location of the mode can change. The mode is where the peak is, so for a normal distribution the mode will be at the center, right where the mean and the median are.\n",
        "\n",
        "<img width=\"400\" src=\"https://drive.google.com/uc?export=view&id=1MSgsaDT60_2mB9wlyva719AMlTBzHIXd\">\n",
        "\n",
        "\n",
        "It's possible to have a symmetrical distribution with more than one peak, which means that the mode won't be at the center:\n",
        "\n",
        "<img width=\"400\" src=\"https://drive.google.com/uc?export=view&id=1IK5Js2kzVSnQm29QHTUyZjXSNIs-N0DV\">\n",
        "\n",
        "A uniform distribution doesn't have any peaks, which means it doesn't have any mode:\n",
        "\n",
        "<img width=\"400\" src=\"https://drive.google.com/uc?export=view&id=1JhmtH9MOvBn02ZJSY3foWDyadwbEChJ_\">\n",
        "\n",
        "In practice, we almost never work with perfectly symmetrical distributions, but many distributions are approximately symmetrical nonetheless. This means that the patterns outlined above are still relevant for practical purposes.\n",
        "\n",
        "\n",
        "**Exercise**\n",
        "\n",
        "<img width=\"100\" src=\"https://drive.google.com/uc?export=view&id=1E8tR7B9YYUXsU_rddJAyq0FrM0MSelxZ\">\n",
        "\n",
        "- The distribution of the **Mo Sold** variable (which describes the month of a sale) is close to normal.\n",
        "  - Plot a kernel density plot for this distribution using **Series.plot.kde().**\n",
        "  - The lower boundary of the x-axis should be 1 and the upper one 12. You can use the **xlim** parameter of the **Series.plot.kde()** method.\n",
        "  - Plot three vertical lines:\n",
        "    - One for the **mode** — the color of the line should be **green** and its label should be **'Mode'**.\n",
        "    - One for the **median** — the color of the line should be **orange** and its label should be **'Median'**.\n",
        "    - One for the **mean** — the color of the line should be **black** and its label should be **'Mean'**.\n",
        "  - Display all the labels using a **legend** (you can activate the legend using **plt.legend()**.\n",
        "- You should observe the **mean**, the **median**, and the **mode** clustered together in the center of the distribution."
      ]
    },
    {
      "cell_type": "code",
      "metadata": {
        "id": "HHsO0kQCOWy_",
        "colab_type": "code",
        "outputId": "643fbc30-8681-4a1f-d30a-3c97a334323d",
        "colab": {
          "base_uri": "https://localhost:8080/",
          "height": 269
        }
      },
      "source": [
        "# put your code here\n",
        "fig, ax = plt.subplots()\n",
        "houses[\"Mo Sold\"].plot.kde(xlim=(1,12))\n",
        "ax.axvline(houses[\"Mo Sold\"].mode()[0], color=\"red\", label=\"Mode\")\n",
        "ax.axvline(houses[\"Mo Sold\"].median(), color=\"orange\", label=\"Median\")\n",
        "ax.axvline(houses[\"Mo Sold\"].mean(), color=\"black\", label=\"Mean\")\n",
        "plt.legend()\n",
        "plt.show()"
      ],
      "execution_count": 0,
      "outputs": [
        {
          "output_type": "display_data",
          "data": {
            "image/png": "[encoded data removed]",
            "text/plain": [
              "<Figure size 432x288 with 1 Axes>"
            ]
          },
          "metadata": {
            "tags": []
          }
        }
      ]
    },
    {
      "cell_type": "markdown",
      "metadata": {
        "id": "Z8u_usC2RH4t",
        "colab_type": "text"
      },
      "source": [
        "# 8 - Next Steps"
      ]
    },
    {
      "cell_type": "markdown",
      "metadata": {
        "id": "-T6Rgz_gRTko",
        "colab_type": "text"
      },
      "source": [
        "In this lesson, we learned that the **mode** is ideal for summarizing:\n",
        "\n",
        "- Ordinal data represented using words.\n",
        "- Nominal data.\n",
        "- Discrete data (when the average value needs to be communicated to a non-technical audience).\n",
        "\n",
        "We also saw that the position of the mean, median, and mode is generally predictable for skewed and symmetrical distributions.\n",
        "\n",
        "Throughout the last three lessons we learned how to measure the average value of a distribution. In the table below, you can see a summary of what we learned so far.\n",
        "\n",
        "<img width=\"600\" src=\"https://drive.google.com/uc?export=view&id=1gF03wvv0MoiquAJ_-vlEoJ6-xh7GItLt\">\n",
        "\n",
        "\n",
        "Next in this course, we'll build on what we already know and learn how to measure the **variability** in a distribution.\n"
      ]
    }
  ]
}