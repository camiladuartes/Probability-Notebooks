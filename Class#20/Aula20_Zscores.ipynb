{
  "nbformat": 4,
  "nbformat_minor": 0,
  "metadata": {
    "colab": {
      "name": "Aula20 - Zscores.ipynb",
      "version": "0.3.2",
      "provenance": [],
      "collapsed_sections": []
    },
    "kernelspec": {
      "name": "python3",
      "display_name": "Python 3"
    }
  },
  "cells": [
    {
      "cell_type": "code",
      "metadata": {
        "colab_type": "code",
        "id": "TWi6KJEzH-CR",
        "colab": {}
      },
      "source": [
        "'''Z-Score: consegue comparar variáveis completamente diferentes.\n",
        "         saber a distância em torno da média em unidades de desvio padrão.\n",
        "         distância de um ponto em torno da média / desvio padrão. ----> z=(x-μ)/σ\n",
        "      \n",
        "Distribuição padrão: média(μ) 0 e desvio padrão(σ) 1.(distribuição do Z-Score)\n",
        "  \n",
        "IQR'''"
      ],
      "execution_count": 0,
      "outputs": []
    },
    {
      "cell_type": "markdown",
      "metadata": {
        "id": "mVoWdu7k0URr",
        "colab_type": "text"
      },
      "source": [
        "# 1 - Individual Values"
      ]
    },
    {
      "cell_type": "markdown",
      "metadata": {
        "id": "Si4v1Bvb0whg",
        "colab_type": "text"
      },
      "source": [
        "Over the last four lessons, we focused on distributions as a whole and learned to summarize entire distributions and measure their variability. In this lesson, we'll switch the focus to the individual values in a distribution and learn a few statistical techniques that can help us answer practical questions.\n",
        "\n",
        "We'll continue working with our data set on house prices:\n",
        "\n",
        "| | Order | PID | MS SubClass | MS Zoning | Lot Frontage | Lot Area | Street | Alley | Pool QC | Yr Sold | Sale Type | Sale Condition | SalePrice |        \n",
        "|-------|-----|-------------|-----------|--------------|----------|--------|-------|---------|---------|-----------|----------------|-----------|--------|\n",
        "| 0     | 1   | 526301100   | 20        | RL           | 141.0    | 131770 | Pave  | 0       | 5       | 2010      | WD             | Normal    | 215000 |\n",
        "| 1     | 2   | 526350040   | 20        | RH           | 80.0     | 11622  | Pave  | 0       | 6       | 2010      | WD             | Normal    | 105000 |\n",
        "| 2     | 3   | 526351010   | 20        | RL           | 81.0     | 14267  | Pave  | 0       | 6       | 2010      | WD             | Normal    | 172000 |\n",
        "| 3     | 4   | 526353030   | 20        | RL           | 93.0     | 11160  | Pave  | 0       | 4       | 2010      | WD             | Normal    | 244000 |\n",
        "| 4     | 5   | 527105010   | 60        | RL           | 74.0     | 13830  | Pave  | 0       | 3       | 2010      | WD             | Normal    | 189900 |"
      ]
    },
    {
      "cell_type": "markdown",
      "metadata": {
        "id": "iI_xJoaL1YAv",
        "colab_type": "text"
      },
      "source": [
        "Let's sample randomly one sale price from the **SalePrice** column and see what can we say about the sampled value:\n",
        "\n"
      ]
    },
    {
      "cell_type": "code",
      "metadata": {
        "id": "TGOZk59q2Etf",
        "colab_type": "code",
        "outputId": "e97f618d-0a4e-4179-8ee4-2391d066f242",
        "colab": {
          "base_uri": "https://localhost:8080/",
          "height": 51
        }
      },
      "source": [
        "import pandas as pd\n",
        "houses = pd.read_csv('AmesHousing_1.csv')\n",
        "\n",
        "print(houses['SalePrice'].sample(1, random_state = 0))\n",
        "\n"
      ],
      "execution_count": 0,
      "outputs": [
        {
          "output_type": "stream",
          "text": [
            "2216    220000\n",
            "Name: SalePrice, dtype: int64\n"
          ],
          "name": "stdout"
        }
      ]
    },
    {
      "cell_type": "markdown",
      "metadata": {
        "id": "J3-oTGke2LXC",
        "colab_type": "text"
      },
      "source": [
        "We can see we got a price of US 220,000. Is a house costing US 220,000 cheap, expensive, or average-priced? To answer this question, we can start with finding the mean price of a house and then figure out whether US 220,000 is below or above the mean:"
      ]
    },
    {
      "cell_type": "code",
      "metadata": {
        "id": "OonCSHdM2sah",
        "colab_type": "code",
        "outputId": "671eebf0-1ca9-4802-d03c-4b9d49101063",
        "colab": {
          "base_uri": "https://localhost:8080/",
          "height": 34
        }
      },
      "source": [
        "print(houses['SalePrice'].mean())"
      ],
      "execution_count": 0,
      "outputs": [
        {
          "output_type": "stream",
          "text": [
            "180796.0600682594\n"
          ],
          "name": "stdout"
        }
      ]
    },
    {
      "cell_type": "markdown",
      "metadata": {
        "id": "hS-0uk1o27Ni",
        "colab_type": "text"
      },
      "source": [
        "The sampled house (US 220,000) is clearly more expensive than the average house (roughly US180,796), but is this price slightly above the average or extremely above the average? The answer depends on the standard deviation of the distribution of sale prices.\n",
        "\n",
        "To see why this is true, consider below two normally-distributed samples of sale prices (we made this simplifying assumption of normality for teaching purposes). Both samples have the same mean $\\bar{x} = 180k$, but the sample standard deviations $s$ are different (on the left, $s=40000$ , while on the right $s=10000$). For formatting purposes, we'll denote thousands with \"k\", so 180,000 will become 180k:\n",
        "\n",
        "<img width=\"550\" src=\"https://drive.google.com/uc?export=view&id=14-z_LWIWnUvRyQktOpzjJVUMIDgNHFR9\">\n",
        "\n",
        "\n",
        "For the sample a with greater standard deviation ($s=40000$), we can see that US 220,000 is fairly close to the mean, indicating that houses at that price are common and thus not very expensive (relative to the other houses on the market).\n",
        "\n",
        "For the other sample ($s=10000$), we see US 220,000 on the far right of the distribution, indicating that houses at that price are uncommon and thus very expensive (relative to the other houses on the market).\n",
        "\n",
        "Now let's try to figure out how far off from the mean a value of US 220,000 is in the distribution of the **SalePrice** variable.\n",
        "\n",
        "**Exercise**\n",
        "\n",
        "<img width=\"100\" src=\"https://drive.google.com/uc?export=view&id=1E8tR7B9YYUXsU_rddJAyq0FrM0MSelxZ\">\n",
        "\n",
        "\n",
        "- Generate a kernel density plot for the **SalePrice** variable to find out how far off  US 220,000 is from the mean.\n",
        "  - Generate the plot using **Series.plot.kde()**.\n",
        "    - The limits of the x-axis should be the minimum and the maximum value of the **SalePrice** variable. To set the limits you can use the **xlim** parameter of **Series.plot.kde()**.\n",
        "  - Plot a vertical line to indicate visually the location of the mean using **plt.axvline()**.\n",
        "      - The color of the line should be black, and its label should be 'Mean'. You can use the **color** and **label** parameters of **plt.axvline()**.\n",
        "  - Plot a vertical line to indicate visually the standard deviation distance above the mean — you'll have to generate a vertical line for the sum of the mean and standard deviation.\n",
        "    - Assume that the data is a population and compute the standard deviation without using Bessel's correction.\n",
        "    - The color of the line should be red and its label should be 'Standard deviation'.\n",
        "  - Plot a vertical line for the US 220,000 price.\n",
        "    - The color of the line should be orange and its label should be '220000'.\n",
        "  - Display all the labels using **plt.legend()**.\n",
        "- Examine the graph and figure out whether a price of US 220,000 is very expensive. If it's very expensive, assign True to variable named **very_expensive**, otherwise assign **False**."
      ]
    },
    {
      "cell_type": "code",
      "metadata": {
        "id": "6MlM2kTw3JX8",
        "colab_type": "code",
        "outputId": "1798800b-b846-4268-cd0d-29f893ba02fe",
        "colab": {
          "base_uri": "https://localhost:8080/",
          "height": 269
        }
      },
      "source": [
        "# put your code here\n",
        "import matplotlib.pyplot as plt\n",
        "\n",
        "houses[\"SalePrice\"].plot.kde()\n",
        "plt.xlim(houses[\"SalePrice\"].min(), houses[\"SalePrice\"].max())\n",
        "plt.axvline(houses[\"SalePrice\"].mean(), color = \"black\", label = \"Mean\")\n",
        "plt.axvline(houses[\"SalePrice\"].std(ddof = 0)+houses[\"SalePrice\"].mean(), color = \"red\", label = \"Standard deviation\")\n",
        "plt.axvline(220000, color = \"orange\", label = \"220000\")\n",
        "plt.legend()\n",
        "very_expensive = False"
      ],
      "execution_count": 0,
      "outputs": [
        {
          "output_type": "display_data",
          "data": {
            "image/png": "[encoded data removed]",
            "text/plain": [
              "<Figure size 432x288 with 1 Axes>"
            ]
          },
          "metadata": {
            "tags": []
          }
        }
      ]
    },
    {
      "cell_type": "markdown",
      "metadata": {
        "id": "uCxV4YU6-VG5",
        "colab_type": "text"
      },
      "source": [
        "# 2 -  Number of Standard Deviations"
      ]
    },
    {
      "cell_type": "markdown",
      "metadata": {
        "id": "ODjpwzITAfh2",
        "colab_type": "text"
      },
      "source": [
        "Previously, we determined whether US 220,000 is expensive or not by considering both the mean and the standard deviation of the distribution. We found an answer using a kernel density plot, but overall the process took more steps than it was ideal, and we also relied on a visual estimate which lacks high precision.\n",
        "\n",
        "We need to find a faster and more precise way to measure how far off a value is from the mean (taking into account at the same time the standard deviation of the distribution). Let's take another look at the two distributions we discussed in the previous section:\n",
        "\n",
        "<img width=\"550\" src=\"https://drive.google.com/uc?export=view&id=14-z_LWIWnUvRyQktOpzjJVUMIDgNHFR9\">\n",
        "\n",
        "For each distribution, the distance between US 220,000 and the mean US 180,000 is US 40,000. For the distribution on the left, this distance of US 40,000 is exactly equal to its standard deviation. With this in mind, we could say that US 220,000 is one standard deviation away from the mean — this is the same as saying US 220,000 is US 40,000 away from the mean (because \"one standard deviation\" is equivalent to US 40,000).\n",
        "\n",
        "For the distribution on the right, the standard deviation is US 10,000. The distance between US 220,000 and US 180,000 is still US 40,000, but in this case US 40,000 is four times greater than the standard deviation of US 10,000. We could thus say that US 220,000 is four standard deviations away from the mean — this is the same as saying that US 220,000 is US 40,000 away from the mean (because \"four standard deviations\" is equivalent to US 40,000, since one standard deviation is US 10,000, and $4\\times 10000 = 40000$ ).\n",
        "\n",
        "<img width=\"300\" src=\"https://drive.google.com/uc?export=view&id=1SntzEeL_a_Y0Dc6wJry7Fhzlvjz2ifRY\">\n",
        "\n",
        "\n",
        "So it looks like we can measure how far off a value is from the mean in terms of number of standard deviations. If a price of US 220,000 is one standard deviation away from the mean, then we can conclude that this value is relatively close to the mean, and it's not very expensive compared to the other prices in the distribution.\n",
        "\n",
        "If a price of US 220,000 is four standard deviations away from the mean, then we know that this value is very far away from the mean. This means that US 220,000 is very uncommon and very expensive compared to the other prices in the distribution.\n",
        "\n",
        "**Exercise**\n",
        "\n",
        "<img width=\"100\" src=\"https://drive.google.com/uc?export=view&id=1E8tR7B9YYUXsU_rddJAyq0FrM0MSelxZ\">\n",
        "\n",
        "- Find out the number of standard deviations away from the mean for a price of US 220,000 in the distribution of the **SalePrice** variable.\n",
        "  - Measure the distance between US 220,000 and the mean of the **SalePrice** column.\n",
        "  - Divide the distance by the standard deviation of the **SalePrice** column (assume the data we have is a population) to find the number of standard deviations away from the mean.\n",
        "    - Assign your result to a variable named **st_devs_away**.\n",
        "    - If you can't understand why we divide, think about this way: if we have a distance of 6 and a standard deviation of 2, then that is three standard deviations away because 6:2 = 3.\n",
        "  - Does the number of standard deviations match our visual estimate from the last exercise?\n",
        "\n"
      ]
    },
    {
      "cell_type": "code",
      "metadata": {
        "id": "Nz3tQHg4BJqt",
        "colab_type": "code",
        "outputId": "71ebf287-1f95-4a1a-ed4b-da5a941053ed",
        "colab": {
          "base_uri": "https://localhost:8080/",
          "height": 34
        }
      },
      "source": [
        "# put your code here\n",
        "distance = 220000 - houses[\"SalePrice\"].mean()\n",
        "st_devs_away = distance/houses[\"SalePrice\"].std()\n",
        "print(st_devs_away)"
      ],
      "execution_count": 0,
      "outputs": [
        {
          "output_type": "stream",
          "text": [
            "0.4907443126661111\n"
          ],
          "name": "stdout"
        }
      ]
    },
    {
      "cell_type": "markdown",
      "metadata": {
        "id": "yz5FtDEwW1gU",
        "colab_type": "text"
      },
      "source": [
        "# 3 - Z-Scores"
      ]
    },
    {
      "cell_type": "markdown",
      "metadata": {
        "id": "1ICh6CAQW9cF",
        "colab_type": "text"
      },
      "source": [
        "In the previous exercise, we managed to find the number of standard deviations away from the mean for a value of US 220,000 by:\n",
        "  - Finding the distance between the value and the mean (by subtracting the mean from that value).\n",
        "  - Dividing the distance by the standard deviation of the distribution.\n",
        "\n",
        "Let's try to describe this process algebraically: for any value $x$  in a population with mean  $\\mu$ and standard deviation $\\sigma$ , the number of standard deviations away from the mean is given by the formula below, where we denote the number of standard deviations away from the mean with z:\n",
        "\n",
        "$\n",
        "\\displaystyle z = \\frac{x - \\mu}{\\sigma}\n",
        "$\n",
        "\n",
        "The value representing the number of standard deviations away from the mean is commonly known as the **standard score**, or the **z-score**. We'll use the term **\"z-score\"** throughout our courses.\n",
        "\n",
        "Z-scores can also be defined fairly easy for samples. For any value $x$ in a sample with mean  $\\bar{x}$ and standard deviation $s$ (with Bessel's correction), the *z-score* $z$  is given by the formula:\n",
        "\n",
        "$\n",
        "\\displaystyle z = \\frac{x - \\bar{x}}{s}\n",
        "$\n",
        "\n",
        "The z-scores we've dealt with so far were all positive, but we can have negative z-scores as well. Let's consider again one of the samples from the last section (the one with a mean $\\bar{x}$ of  US 180,000, and a standard deviation of US 40,000). A price of US 100,000 will have a z-score of -2:\n",
        "\n",
        "\n",
        "$\n",
        "\\displaystyle z = \\frac{100000 - 180000}{40000} = -2\n",
        "$\n",
        "\n",
        "<img width=\"300\" src=\"https://drive.google.com/uc?export=view&id=1lYzBlkD3NIfsDZFQDJDrGJjOP2HcBcJt\">\n",
        "\n",
        "We can see that a z-score has two parts:\n",
        "\n",
        "- The sign, which indicates whether the value is above or below the mean.\n",
        "- The value, which indicates the number of standard deviations that a value is away from the mean.\n",
        "\n",
        "Generally, the sign of a z-score is written out even if the z-score is positive. If a value is two standard deviations away from the mean, we should write that the z-score is +2, not 2.\n",
        "\n",
        "**Exercise**\n",
        "\n",
        "<img width=\"100\" src=\"https://drive.google.com/uc?export=view&id=1E8tR7B9YYUXsU_rddJAyq0FrM0MSelxZ\">\n",
        "\n",
        "\n",
        "- Write a function that takes in a value, the array the value belongs to, and returns the z-score of that value. Inside the function's definition:\n",
        "  - Compute the mean of the array.\n",
        "  - Compute the standard deviation of the array. Make sure your function is flexible enough to compute z-scores for both samples and populations.\n",
        "    - You can use the std() function from numpy.\n",
        "  - Find out the distance between the value and the mean of the array.\n",
        "  - Compute the z-score by dividing the distance to the standard deviation of the array.\n",
        "  - Return the z-score.\n",
        "- Compute the z-score for **min_val, mean_val, max_val**, which are already defined in the code editor. Assume that the values come from a population.\n",
        "  - Assign the z-score for **min_val** to a variable named **min_z**.\n",
        "  - Assign the z-score for **mean_val** to a variable named **mean_z**.\n",
        "  - Assign the z-score for **max_val** to a variable named **max_z**.\n"
      ]
    },
    {
      "cell_type": "code",
      "metadata": {
        "id": "ybMV1-ozYRyt",
        "colab_type": "code",
        "outputId": "896e7ff7-d78d-4ec4-f118-2d2052b1e97d",
        "colab": {
          "base_uri": "https://localhost:8080/",
          "height": 68
        }
      },
      "source": [
        "min_val = houses['SalePrice'].min()\n",
        "mean_val = houses['SalePrice'].mean()\n",
        "max_val = houses['SalePrice'].max()\n",
        "\n",
        "# put your code here\n",
        "def zscore(value, array):\n",
        "  array_mean = array.mean()\n",
        "  array_st_dev = array.std()\n",
        "  distance = value - array_mean\n",
        "  z_score = distance/array_st_dev\n",
        "  return z_score\n",
        "\n",
        "min_z = zscore(min_val, houses['SalePrice'])\n",
        "mean_z = zscore(mean_val, houses['SalePrice'])\n",
        "max_z = zscore(max_val, houses['SalePrice'])\n",
        "print(min_z)\n",
        "print(mean_z)\n",
        "print(max_z)"
      ],
      "execution_count": 0,
      "outputs": [
        {
          "output_type": "stream",
          "text": [
            "-2.103066920309695\n",
            "0.0\n",
            "7.187729557860895\n"
          ],
          "name": "stdout"
        }
      ]
    },
    {
      "cell_type": "markdown",
      "metadata": {
        "id": "6olXH507cibe",
        "colab_type": "text"
      },
      "source": [
        "# 4 - Locating Values in Different Distributions"
      ]
    },
    {
      "cell_type": "markdown",
      "metadata": {
        "id": "ZNEAJbk3csyK",
        "colab_type": "text"
      },
      "source": [
        "Let's now consider an example that's suggestive for the kind of questions we can answer using z-scores.\n",
        "\n",
        "Let's say we're working as data analysts for a **real estate** company, and we want to **find the best neighborhood in Ames to invest** in (remember that our data set describes sale prices for houses in Ames, Iowa). Our company wants to buy a couple of houses that we can then rent and ideally sell back later at a higher price. We think that location is an important factor driving rental and sale prices, and **we want to target our investment based on location.**\n",
        "\n",
        "The company budgeted US 10,000,000 for this investment, and the plan is to buy 50 houses of  US 200,000 each. Depending on the market particularities of each neighborhood, a US 200,000 house can be considered cheap, average-priced, or expensive. We want to find a neighborhood where a price of US 200,000 goes as average because average-priced houses are the ones that are most rented and easiest to sell.\n",
        "\n",
        "Sale prices are lower in a bad neighborhood, and someone can get a high-quality house for US 200,000, but usually people avoid bad neighborhood nonetheless for a variety of reasons: distance from the workplace, lack of schools, pollution, noise, etc.\n",
        "\n",
        "High-quality neighborhoods will tend to be avoided as well because of the higher sale prices — with US 200,000, you may only be able to get a poor-quality house in a good location. So most people will aim for something in the middle — these people make up the market we intend to reach.\n",
        "\n",
        "We're asked by our real estate specialists to analyze historical data on five neighborhoods:\n",
        "\n",
        "- North Ames.\n",
        "- College Creek.\n",
        "- Old Town.\n",
        "- Edwards.\n",
        "- Somerset.\n",
        "\n",
        "**Our goal is to find out for which of these neighborhoods a 200,000 house is average-priced**. We can solve this task quickly by measuring the z-score for a US 200,000 value for each of the five distributions -  each of the five neighborhoods has its own distribution of sale prices with its own **mean** and **standard deviation**.\n",
        "\n",
        "We saw in the previous exercise that the mean of a distribution has a z-score of 0, so our recommendation should be the neighborhood with the z-score closest to 0 (we'll detail later in this mission why the mean of a distribution has a z-score of 0).\n",
        "\n",
        "Note that we can't simply find the mean sale price of each neighborhood and then just subtract US 200,000 from the mean to find the neighborhood with the lowest difference. This way we'd fail to take into account the variability of each distribution.\n"
      ]
    },
    {
      "cell_type": "markdown",
      "metadata": {
        "id": "cqiC0SJbw04b",
        "colab_type": "text"
      },
      "source": [
        "\n",
        "**Exercise**\n",
        "\n",
        "<img width=\"100\" src=\"https://drive.google.com/uc?export=view&id=1E8tR7B9YYUXsU_rddJAyq0FrM0MSelxZ\">\n",
        "\n",
        "\n",
        "- Find out the location for which US 200,000 has the z-score closest to 0. Code-wise, there are several ways to complete this task, and we encourage you to think of a way yourself. Below we describe one way to complete this task:\n",
        "  - Isolate the data for each of the five neighborhoods. The neigborhoods are described in the Neighborhood column. These are the abbreviations for our neighborhoods of interest:\n",
        "    - 'NAmes' for North Ames.\n",
        "    - 'CollgCr' for College Creek.\n",
        "    - 'OldTown' for Old Town.\n",
        "    - 'Edwards' for Edwards.\n",
        "    - 'Somerst' for Somerset.\n",
        "  - For example, to isolate the data for North Ames you can do houses[houses['Neighborhood'] == 'NAmes'] and save the data to a variable.\n",
        "  - Find the z-score of a US 200,000 price for each of the five data sets you isolated. Assume that each data set is a population.\n",
        "  - Examine the z-scores to find the best location to invest in. Assign your answer as a string to the variable best_investment. Choose between the following strings: 'North Ames', 'College Creek', 'Old Town', 'Edwards', and 'Somerset'."
      ]
    },
    {
      "cell_type": "code",
      "metadata": {
        "id": "KUSdo6dIvcjp",
        "colab_type": "code",
        "outputId": "7702377d-1ed7-4e6b-88ce-cb988d02c92e",
        "colab": {
          "base_uri": "https://localhost:8080/",
          "height": 102
        }
      },
      "source": [
        "def z_score(value, array, bessel = 0):\n",
        "    mean = sum(array) / len(array)\n",
        "    \n",
        "    from numpy import std\n",
        "    st_dev = std(array, ddof = bessel)\n",
        "    \n",
        "    distance = value - mean\n",
        "    z = distance / st_dev\n",
        "    \n",
        "    return z\n",
        "  \n",
        "# put your code here\n",
        "NAmes = houses[houses[\"Neighborhood\"] == \"NAmes\"]\n",
        "CollgCr = houses[houses[\"Neighborhood\"] == \"CollgCr\"]\n",
        "OldTown = houses[houses[\"Neighborhood\"] == \"OldTown\"]\n",
        "Edwards = houses[houses[\"Neighborhood\"] == \"Edwards\"]\n",
        "Somerst = houses[houses[\"Neighborhood\"] == \"Somerst\"]\n",
        "print(z_score(220000, NAmes[\"SalePrice\"]))\n",
        "print(z_score(220000, CollgCr[\"SalePrice\"]))\n",
        "print(z_score(220000, OldTown[\"SalePrice\"]))\n",
        "print(z_score(220000, Edwards[\"SalePrice\"]))\n",
        "print(z_score(220000, Somerst[\"SalePrice\"]))\n",
        "best_investment = \"Somerset\""
      ],
      "execution_count": 0,
      "outputs": [
        {
          "output_type": "stream",
          "text": [
            "2.351975107016838\n",
            "0.33643592854037785\n",
            "2.1704461921913354\n",
            "1.8610564651451333\n",
            "-0.16947327539358226\n"
          ],
          "name": "stdout"
        }
      ]
    },
    {
      "cell_type": "markdown",
      "metadata": {
        "id": "jwA_DwHWxsdQ",
        "colab_type": "text"
      },
      "source": [
        "# 5 - Transforming Distributions"
      ]
    },
    {
      "cell_type": "markdown",
      "metadata": {
        "id": "VE4n8xwRyvRu",
        "colab_type": "text"
      },
      "source": [
        "Z-scores are often used to transform entire distributions by converting all the values to z-scores. Consider, for instance, the distribution of the SalePrice column:\n"
      ]
    },
    {
      "cell_type": "code",
      "metadata": {
        "id": "vvYhxbVcy_0d",
        "colab_type": "code",
        "outputId": "c0703434-6bda-4f61-bd62-14be26704384",
        "colab": {
          "base_uri": "https://localhost:8080/",
          "height": 286
        }
      },
      "source": [
        "houses['SalePrice'].plot.kde(xlim = (houses['SalePrice'].min(),houses['SalePrice'].max()))"
      ],
      "execution_count": 0,
      "outputs": [
        {
          "output_type": "execute_result",
          "data": {
            "text/plain": [
              "<matplotlib.axes._subplots.AxesSubplot at 0x7fdf4a56c8d0>"
            ]
          },
          "metadata": {
            "tags": []
          },
          "execution_count": 8
        },
        {
          "output_type": "display_data",
          "data": {
            "image/png": "[encoded data removed]",
            "text/plain": [
              "<Figure size 432x288 with 1 Axes>"
            ]
          },
          "metadata": {
            "tags": []
          }
        }
      ]
    },
    {
      "cell_type": "markdown",
      "metadata": {
        "id": "E2qQ91VtzMHD",
        "colab_type": "text"
      },
      "source": [
        "We can transform the entire distribution by converting each value to a z-score. In the next code block, we will:\n",
        "\n",
        "- Convert each value to a z-score by using the **Series.apply()** method.\n",
        "- Store the z-scores in a separate column named **z_prices**.\n",
        "- Plot side by side the kernel density plot for the original values and the kernel density plot for the z-scores.\n"
      ]
    },
    {
      "cell_type": "code",
      "metadata": {
        "id": "y-vQRGCkzh4w",
        "colab_type": "code",
        "outputId": "ab244918-2adc-40e6-9efd-7a9324184c2d",
        "colab": {
          "base_uri": "https://localhost:8080/",
          "height": 369
        }
      },
      "source": [
        "import matplotlib.pyplot as plt\n",
        "\n",
        "mean = houses['SalePrice'].mean()\n",
        "st_dev = houses['SalePrice'].std(ddof = 0)\n",
        "\n",
        "houses['z_prices'] = houses['SalePrice'].apply(lambda x: ((x - mean) / st_dev))\n",
        "\n",
        "fig,ax = plt.subplots(nrows=1,ncols=2,figsize=(10,5))\n",
        "\n",
        "houses['z_prices'].plot.kde(xlim = (houses['z_prices'].min(),houses['z_prices'].max()),ax=ax[0])\n",
        "houses['SalePrice'].plot.kde(xlim = (houses['SalePrice'].min(),houses['SalePrice'].max()),ax=ax[1])\n",
        "                            \n",
        "plt.tight_layout() # otherwise the plots will overlay partially"
      ],
      "execution_count": 0,
      "outputs": [
        {
          "output_type": "display_data",
          "data": {
            "image/png": "[encoded data removed]",
            "text/plain": [
              "<Figure size 720x360 with 2 Axes>"
            ]
          },
          "metadata": {
            "tags": []
          }
        }
      ]
    },
    {
      "cell_type": "markdown",
      "metadata": {
        "id": "Vduolukr0ghS",
        "colab_type": "text"
      },
      "source": [
        "Notice that the shape of the initial distribution is preserved perfectly in the new distribution of z-scores. We'll dig more into why this happens in the next section. For now, let's find out what happens to the mean and the standard deviation when we convert all the values to z-scores."
      ]
    },
    {
      "cell_type": "markdown",
      "metadata": {
        "id": "fKD9-v4XGT8H",
        "colab_type": "text"
      },
      "source": [
        "**Exercise**\n",
        "\n",
        "<img width=\"100\" src=\"https://drive.google.com/uc?export=view&id=1E8tR7B9YYUXsU_rddJAyq0FrM0MSelxZ\">\n",
        "\n",
        "\n",
        "- We've already transformed the distribution of the **SalePrice** variable to distribution of z-scores and saved the new values to a column named **z_prices**.\n",
        "  - Compute the mean of the **z_prices** column and assign the result to a variable named **z_mean_price**.\n",
        "  - Compute the standard deviation of the **z_prices** column and assign the result to a variable named **z_stdev_price**. Assume that you're computing the standard deviation for a population.\n",
        "- Transform the distribution of the **Lot Area** variable into a distribution of z-scores.\n",
        "  - Compute the mean of the new distribution of z-scores and assign the result to a variable named **z_mean_area**.\n",
        "  - Compute the standard deviation of the new distribution of z-scores and assign the result to a variable named **z_stdev_area**. Assume that you're computing the standard deviation for a population.\n",
        "- Compare the values of **z_mean_price** and **z_mean_area**. What do you observe? How can you explain that?\n",
        "- Compare the values of **z_stdev_price** and **z_stdev_area**. What do you observe? How can you explain that?"
      ]
    },
    {
      "cell_type": "code",
      "metadata": {
        "id": "HDxBTbtyHp6w",
        "colab_type": "code",
        "outputId": "1510495f-7b25-4c27-c6db-a05e285d977f",
        "colab": {
          "base_uri": "https://localhost:8080/",
          "height": 51
        }
      },
      "source": [
        "mean = houses['SalePrice'].mean()\n",
        "st_dev = houses['SalePrice'].std(ddof = 0)\n",
        "houses['z_prices'] = houses['SalePrice'].apply(lambda x: ((x - mean) / st_dev))\n",
        "\n",
        "# put your code here\n",
        "z_mean_price = houses['z_prices'].mean()\n",
        "z_stdev_price = houses['z_prices'].std(ddof = 0)\n",
        "\n",
        "mean_la = houses[\"Lot Area\"].mean()\n",
        "st_dev_la = houses[\"Lot Area\"].std(ddof = 0)\n",
        "houses['z_areas'] = houses[\"Lot Area\"].apply(lambda x: ((x - mean_la) / st_dev_la))\n",
        "\n",
        "z_mean_area = houses['z_areas'].mean()\n",
        "z_stdev_area = houses['z_areas'].std(ddof = 0)\n",
        "\n",
        "print(\"z_mean_price: \", z_mean_price, \", z_mean_area: \", z_mean_area)\n",
        "print(\"z_stdev_price: \", z_stdev_price, \", z_stdev_area: \", z_stdev_area)"
      ],
      "execution_count": 0,
      "outputs": [
        {
          "output_type": "stream",
          "text": [
            "z_mean_price:  -1.1429992333726227e-16 , z_mean_area:  8.771898641662927e-18\n",
            "z_stdev_price:  1.0000000000000002 , z_stdev_area:  0.9999999999999997\n"
          ],
          "name": "stdout"
        }
      ]
    },
    {
      "cell_type": "markdown",
      "metadata": {
        "id": "1d3gmobHH61F",
        "colab_type": "text"
      },
      "source": [
        "# 6 - The Standard Distribution"
      ]
    },
    {
      "cell_type": "markdown",
      "metadata": {
        "id": "qZu4fGV3L3vC",
        "colab_type": "text"
      },
      "source": [
        "In the last exercise, the **mean** values were both extremely close to 0. For instance, we got a mean of -1.1429992333726227e-16 (notice the e-16 at the end) for the z-scores distribution of the **SalePrice** column. This number uses [scientific notation](https://en.wikipedia.org/wiki/Scientific_notation#E-notation) to abbreviate what in full would be -0.0000000000000001429992333726227. Also, both the standard deviations were also very close to 1: 1.0000000000000002 and 0.9999999999999997.\n",
        "\n",
        "In fact, for every distribution of z-scores, the mean is always 0 and the standard deviation is always 1. We got slightly different values in the previous exercise because of small rounding errors. Let's now figure out why the mean is always 0 and standard deviation is always 1.\n",
        "\n",
        "Consider the transformation of a normally-distributed population of sale prices with mean $\\mu$  and standard deviation $\\sigma$:\n",
        "\n",
        "<img width=\"350\" src=\"https://drive.google.com/uc?export=view&id=1Fhfa7zGAF8Kxxpxk7DPkWQescNM3zZ1v\">\n",
        "\n",
        "\n",
        "Notice that when we transform to z-scores, the initial values are practically relabeled and the relative location of each value in the distribution is perfectly preserved. This explains why the shape of the original distribution is preserved, and it also means that the location of the mean and the standard deviation is preserved as well.\n",
        "\n",
        "The mean is located at 180000 in the initial distribution. In the z-score distribution, the mean has the same location, but now there's a value of 0 at that location because the z-score of 180000 is 0.\n",
        "\n",
        "Notice that the value of the standard deviation (10000) is given by the difference between the value that is one standard deviation above the mean (190000) and the mean (180000): 190000-180000. After converting 190000 and 180000 to z-scores, the difference becomes 1-0=1, so the standard deviation of the z-score distribution is 1.\n",
        "\n",
        "We denote with  $\\mu_z$ the mean of a distribution of z-scores, and with $\\sigma_z$ the standard deviation of a distribution of z-scores. We can show mathematically that $\\mu_z = 0$  and  $\\sigma_z = 1$  for any distribution of z-scores.\n",
        "\n",
        "Because locations are preserved, $\\mu_z$ is equal to the z-score of the mean $\\mu$  in the original population. The z-score of $\\mu$ is 0 for any value of  because:\n",
        "\n",
        "$\n",
        "\\displaystyle \\mu_z = \\frac{\\mu - \\mu}{\\sigma} = \\frac{o}{\\sigma} = 0\n",
        "$\n",
        "\n",
        "\n",
        "$\\sigma_z$ is equal to the z-score of the first value that is one standard deviation above the mean (that would be 190000 in the example above). We can refer to the first value that is one standard deviation above the mean as $\\mu + \\sigma$, and we can see that the z-score of $\\mu + \\sigma$  is 1 for any value of $\\mu$ and $\\sigma$ :\n",
        "\n",
        "\n",
        "$\n",
        "\\displaystyle \\sigma_z = \\frac{(\\mu+\\sigma) - \\mu}{\\sigma} = \\frac{\\sigma}{\\sigma} =1\n",
        "$\n",
        "\n",
        "A distribution of z-scores is often called a **standard distribution** (remember that z-scores are also called **standard scores**). When we convert a distribution to z-scores, we'd say in statistical jargon that we **standardized** the distribution.\n",
        "\n",
        "**Exercise**\n",
        "\n",
        "<img width=\"100\" src=\"https://drive.google.com/uc?export=view&id=1E8tR7B9YYUXsU_rddJAyq0FrM0MSelxZ\">\n",
        "\n",
        "- Standardize the population of values stored in the **population** variable and compute its mean $\\mu_z$ and its standard deviation $\\sigma_z$ .\n",
        "  - Assign the value of $\\mu_z$  to a variable named **mean_z**.\n",
        "  - Assign the value of $\\sigma_z$ to a variable named **stdev_z**.\n",
        "  - This time we should get $\\mu_z = 0$ and $\\sigma_z = 1$  because there'll be no rounding errors.\n"
      ]
    },
    {
      "cell_type": "code",
      "metadata": {
        "id": "sgYUnlbWMar_",
        "colab_type": "code",
        "outputId": "2d6724d1-c51c-412a-9bc6-1e676ef06355",
        "colab": {
          "base_uri": "https://localhost:8080/",
          "height": 51
        }
      },
      "source": [
        "from numpy import std, mean\n",
        "population = [0,8,0,8]\n",
        "\n",
        "# put your code here\n",
        "\n",
        "def zscore(value, array):\n",
        "  array_mean = mean(array)\n",
        "  array_st_dev = std(array)\n",
        "  distance = value - array_mean\n",
        "  z_score = distance/array_st_dev\n",
        "  return z_score\n",
        "\n",
        "z_pop = []\n",
        "for i in population:\n",
        "  z_pop.append(zscore(i, population))\n",
        "  \n",
        "mean_z = mean(z_pop)\n",
        "stdev_z = std(z_pop)\n",
        "\n",
        "print(mean_z == 0)\n",
        "print(stdev_z == 1)"
      ],
      "execution_count": 0,
      "outputs": [
        {
          "output_type": "stream",
          "text": [
            "True\n",
            "True\n"
          ],
          "name": "stdout"
        }
      ]
    },
    {
      "cell_type": "markdown",
      "metadata": {
        "id": "b2CicgCKRsMa",
        "colab_type": "text"
      },
      "source": [
        "# 7 - Standardizing Samples"
      ]
    },
    {
      "cell_type": "markdown",
      "metadata": {
        "id": "zvqre2xBSBeU",
        "colab_type": "text"
      },
      "source": [
        "Before digging into some of the applications of standardizing distributions, let's discuss some important details around standardizing samples. In the previous exercise, we found that $\\mu_z = 0$ and $\\sigma_z = 1$ for the distribution [0,8,0,8], which we assumed to be a population.\n",
        "\n",
        "Let's instead treat it as a sample and proceed to standardize it. Because it's a sample, we'll use the formula for the sample standard deviation $s$  (the formula containing Bessel's correction):\n"
      ]
    },
    {
      "cell_type": "code",
      "metadata": {
        "id": "SC4pDDP-SnR0",
        "colab_type": "code",
        "outputId": "e5e13d64-ae34-44e0-9185-87ae12112122",
        "colab": {
          "base_uri": "https://localhost:8080/",
          "height": 34
        }
      },
      "source": [
        "from numpy import std, mean\n",
        "\n",
        "sample = [0,8,0,8]\n",
        "x_bar = mean(sample)\n",
        "s = std(sample, ddof = 1)\n",
        "\n",
        "standardized_sample = []\n",
        "for value in sample:\n",
        "    z = (value - x_bar) / s\n",
        "    standardized_sample.append(z)\n",
        "\n",
        "print(standardized_sample)"
      ],
      "execution_count": 0,
      "outputs": [
        {
          "output_type": "stream",
          "text": [
            "[-0.8660254037844387, 0.8660254037844387, -0.8660254037844387, 0.8660254037844387]\n"
          ],
          "name": "stdout"
        }
      ]
    },
    {
      "cell_type": "markdown",
      "metadata": {
        "id": "nlMNvthSSn1M",
        "colab_type": "text"
      },
      "source": [
        "Notice that the mean of **standardized_sample** is 0, just like we'd expect, but the standard deviation is not 1:"
      ]
    },
    {
      "cell_type": "code",
      "metadata": {
        "id": "pe0q8LIoS3Z6",
        "colab_type": "code",
        "outputId": "2b7f3673-96e6-4ff6-abdf-caf6e62a4f3e",
        "colab": {
          "base_uri": "https://localhost:8080/",
          "height": 34
        }
      },
      "source": [
        "mean(standardized_sample)"
      ],
      "execution_count": 0,
      "outputs": [
        {
          "output_type": "execute_result",
          "data": {
            "text/plain": [
              "0.0"
            ]
          },
          "metadata": {
            "tags": []
          },
          "execution_count": 13
        }
      ]
    },
    {
      "cell_type": "code",
      "metadata": {
        "id": "FOz4CXfCS60x",
        "colab_type": "code",
        "outputId": "77947622-584e-4d12-f0f1-6a0b1dac19cd",
        "colab": {
          "base_uri": "https://localhost:8080/",
          "height": 34
        }
      },
      "source": [
        "std(standardized_sample)"
      ],
      "execution_count": 0,
      "outputs": [
        {
          "output_type": "execute_result",
          "data": {
            "text/plain": [
              "0.8660254037844387"
            ]
          },
          "metadata": {
            "tags": []
          },
          "execution_count": 14
        }
      ]
    },
    {
      "cell_type": "markdown",
      "metadata": {
        "id": "gs9qy84-S9JM",
        "colab_type": "text"
      },
      "source": [
        "Above, we measured the standard deviation using the formula for the population standard deviation $\\sigma$ (the formula without Bessel's correction). But is it justified to use the formula for the population standard deviation?\n",
        "\n",
        "When we standardize a sample, the resulting distribution of z-scores is itself a sample. This means that we need to use the formula for the sample standard deviation $s$  when we compute the standard deviation. Let's see if that makes the standard deviation equal to 1, just like we'd expect.\n",
        "\n",
        "**Exercise**\n",
        "\n",
        "<img width=\"100\" src=\"https://drive.google.com/uc?export=view&id=1E8tR7B9YYUXsU_rddJAyq0FrM0MSelxZ\">\n",
        "\n",
        "\n",
        "- Compute the standard deviation of **standardized_sample** using the sample standard deviation formula, and assign the result to a variable named **stdev_sample**.\n",
        "- Inspect the result to see if the standard deviation equals 1."
      ]
    },
    {
      "cell_type": "code",
      "metadata": {
        "id": "Ym5j2F9DTSY3",
        "colab_type": "code",
        "outputId": "e69ce9ea-4779-4df9-9009-b9390e051d12",
        "colab": {
          "base_uri": "https://localhost:8080/",
          "height": 34
        }
      },
      "source": [
        "from numpy import std, mean\n",
        "sample = [0,8,0,8]\n",
        "\n",
        "x_bar = mean(sample)\n",
        "s = std(sample, ddof = 1)\n",
        "\n",
        "standardized_sample = []\n",
        "for value in sample:\n",
        "    z = (value - x_bar) / s\n",
        "    standardized_sample.append(z)\n",
        "    \n",
        "    \n",
        "# put your code here\n",
        "stdev_sample = std(standardized_sample, ddof = 0)\n",
        "print(stdev_sample)"
      ],
      "execution_count": 0,
      "outputs": [
        {
          "output_type": "stream",
          "text": [
            "0.8660254037844387\n"
          ],
          "name": "stdout"
        }
      ]
    },
    {
      "cell_type": "markdown",
      "metadata": {
        "id": "w_oPAFV-TxPH",
        "colab_type": "text"
      },
      "source": [
        "# 8 - Using Standardization for Comparisons"
      ]
    },
    {
      "cell_type": "markdown",
      "metadata": {
        "id": "maMcpgb6UD5N",
        "colab_type": "text"
      },
      "source": [
        "Standardizing distributions can prove very useful when we need to compare values coming from different systems of measurement. Let's say there are two companies in Ames which offer services in evaluating overall house quality. Inspectors from each company examine houses and rate them with an index score which describes the overall quality of the house.\n",
        "\n",
        "The inspection itself is quite expensive, and a house owner generally asks the service from only one company. The problem is that each company has its own system of measuring overall quality, which results in index scores that are impossible to compare. We've coded under the hood some index scores and saved them in the columns **index_1** and **index_2**:\n",
        "\n",
        "| |index_1 | index_2 | SalePrice |        \n",
        "|---------|---------|-----------|--------|\n",
        "| 0       | NaN     | -0.411111 | 215000 |\n",
        "| 1       | 38.05   | NaN       | 105000 |\n",
        "| 2       | NaN     | -0.888889 | 172000 |\n",
        "| 3       | 39.44   | NaN       | 244000 |\n",
        "| 4       | NaN     | -0.690000 | 189900 |\n",
        "\n",
        "\n",
        "Let's suppose for a moment that these houses are not yet sold, and a client needs our help to choose between the first and the second house (from the table above). We want to begin with comparing index scores, but the first house has an index of -0.41111, the second's index is 38.05000, and the two indices come from different measurement systems, which makes them impossible to compare.\n",
        "\n",
        "One thing the two systems have in common is that the index is directly proportional with the house quality — a lower index means lower quality, and a higher index means higher quality. To compare these indices coming from different measurement systems, we can:\n",
        "\n",
        "- Standardize each distribution of index values (transform each index to a z-score).\n",
        "Then compare the z-scores.\n",
        "- Average houses will have z-scores around 0 in both distributions, good-quality houses will have z-scores significantly greater than 0, and low-quality houses will have z-scores significantly lower than 0.\n",
        "\n",
        "For the sake of the example, **we're also under the strong assumption that both companies evaluate houses of all levels of quality**. If a company evaluates only low-quality houses, then the best of the low quality houses will have a z-score signficantly greater than 0, suggesting erroneously that they are high-quality.\n",
        "\n",
        "\n",
        "**Exercise**\n",
        "\n",
        "<img width=\"100\" src=\"https://drive.google.com/uc?export=view&id=1E8tR7B9YYUXsU_rddJAyq0FrM0MSelxZ\">\n",
        "\n",
        "\n",
        "- Standardize the distributions of the **index_1** and **index_2** variables. We've coded these columns under the hood, and they're already part of the **houses** data set.\n",
        "  - Assume that the values we have for both variables constitute populations.\n",
        "  - Don't forget that each distribution has its own mean and standard deviation.\n",
        "- Print the z-scores for the first two houses in the data set to find out which house has a better overall quality.\n",
        "  - Assign your answer as a string to a variable named better — if the first house is better, assign 'first', otherwise assign 'second'."
      ]
    },
    {
      "cell_type": "code",
      "metadata": {
        "id": "jGfW9x2yVZ4X",
        "colab_type": "code",
        "outputId": "83750b79-ecb1-42d6-ada9-664cee65e10b",
        "colab": {
          "base_uri": "https://localhost:8080/",
          "height": 51
        }
      },
      "source": [
        "# put your code here\n",
        "z_index_1 = []\n",
        "for i in houses[\"index_1\"]:\n",
        "  z_index_1.append(zscore(i, houses[\"index_1\"]))\n",
        "\n",
        "z_index_2 = []\n",
        "for i in houses[\"index_2\"]:\n",
        "  z_index_2.append(zscore(i, houses[\"index_2\"]))\n",
        "\n",
        "print(\"First 2 houses of z_index_1: \", z_index_1[0], z_index_1[1])\n",
        "print(\"First 2 houses of z_index_2: \", z_index_2[0], z_index_2[1])"
      ],
      "execution_count": 0,
      "outputs": [
        {
          "output_type": "stream",
          "text": [
            "First 2 houses of z_index_1:  nan -0.9359203179217239\n",
            "First 2 houses of z_index_2:  0.4297419689882205 nan\n"
          ],
          "name": "stdout"
        }
      ]
    },
    {
      "cell_type": "markdown",
      "metadata": {
        "id": "rCi6cPXzY7Ci",
        "colab_type": "text"
      },
      "source": [
        "# 9 - Converting Back from Z-scores"
      ]
    },
    {
      "cell_type": "markdown",
      "metadata": {
        "id": "zRg6n-rjpMtt",
        "colab_type": "text"
      },
      "source": [
        "Previously, we standardized the **index_1** and **index_2** distributions and managed to solve our comparison task. Z-scores may not be always straightforward to work with or communicate to non-technical audiences, but fortunately we can convert them to other values that are more intuitive.\n",
        "\n",
        "Remember that the formula for finding a z-score in a population is:\n",
        "\n",
        "$\n",
        "\\displaystyle z = \\frac{x - \\mu}{\\sigma}\n",
        "$\n",
        "\n",
        "With a little algebra we can show that $x = \\sigma z + \\mu$  (remember $x$ that  is the initial value).\n",
        "\n",
        "We can use the $x = \\sigma z + \\mu$ formula to convert z-scores to more intuitive values. We already have the values for $z$, but what about $\\mu$ and $\\sigma$? We are actually free to choose any values we want for $\\mu$ and $\\sigma$. We want some more intuitive values for our two standardized distributions of index values, so let's choose $\\mu = 50$  and $\\sigma = 10$.\n",
        "\n",
        "\n",
        "The first house has a z-score $z = 0.429742$, and applying $x = \\sigma z + \\mu$ for a mean $\\mu = 50$  and a standard deviation $\\sigma = 10$ , we get:\n",
        "\n",
        "$\n",
        "10 \\times 0.429742 + 50 = 54.29742\n",
        "$\n",
        "\n",
        "Each z-score in the distribution will follow the same procedure — it'll be multiplied by 10 and then we'll add 50 to the result of the product. This means that the location of each z-score will be preserved perfectly — it's all a matter of relabeling. To make this transformation, notice that we took several steps:\n",
        "\n",
        "\n",
        "- We standardized an initial distribution with a given  $\\mu$ and $\\sigma$ (we performed this step in the previous exercise when we standardized the distribution of **index_1** and **index_2**).\n",
        "- We converted the standardized distribution to values that together have a different mean $\\mu$ and standard deviation $\\sigma$ than they did initially.\n",
        "\n",
        "\n",
        "For any standardized distribution we can also convert the z-scores back to the original values. All we have to do is use the initial values for $\\mu$ and $\\sigma$  in the $x = \\sigma z + \\mu$ formula. However, it's more common in practice to transform the standardized distribution with convenient values for $\\mu$  and  $\\sigma$. One practical example include [transforming test scores for the SAT test](https://en.wikipedia.org/wiki/SAT#SAT-ACT_score_comparisons) using $\\mu = 500$ and $\\sigma = 100$ or [transforming IQ scores from different measurement systems](https://www.edubloxtutor.com/iq-test-scores/) using $\\mu=100$  and $\\sigma = 15$.\n",
        "\n",
        "Notice that above we discussed only about populations, but the same reasoning applies to samples.\n",
        "\n"
      ]
    },
    {
      "cell_type": "markdown",
      "metadata": {
        "id": "Q1D4Y9pEsEwt",
        "colab_type": "text"
      },
      "source": [
        "**Exercise**\n",
        "\n",
        "<img width=\"100\" src=\"https://drive.google.com/uc?export=view&id=1E8tR7B9YYUXsU_rddJAyq0FrM0MSelxZ\">\n",
        "\n",
        "- Merge the two columns of z-scores together into a new column named **z_merged**.\n",
        "\n",
        "| |z_1 | z_2       | z_merged  |           \n",
        "|-----|-----------|-----------|-----------|\n",
        "| 0   | NaN       | 0.429742  | 0.429742  |\n",
        "| 1   | -0.935920 | NaN       | -0.935920 |\n",
        "| 2   | NaN       | -0.114456 | -0.114456 |\n",
        "| 3   | 0.786063  | NaN       | 0.786063  |\n",
        "\n",
        "- Transform the standardized distribution of **z_merged** to a distribution with a $\\mu =50$ and $\\sigma=10$  using the formula $x = \\sigma z + \\mu$.\n",
        "- Compute the mean of the newly transformed distribution — the mean should be 50, but expect some minor rounding errors.\n",
        "  - Assign the result to a variable named **mean_transformed**.\n",
        "- Compute the standard deviation of the newly transformed distribution — the standard deviation should be 10, but expect some minor rounding errors.\n",
        "  - Assign the result to a variable named **stdev_transformed**."
      ]
    },
    {
      "cell_type": "code",
      "metadata": {
        "id": "KbAfoZY0xSy8",
        "colab_type": "code",
        "outputId": "37e27009-3023-4d40-e8d0-0a72d067f8cc",
        "colab": {
          "base_uri": "https://localhost:8080/",
          "height": 51
        }
      },
      "source": [
        "# put your code here\n",
        "z_merged = []\n",
        "z_merged = z_index_1 + z_index_2\n",
        "  \n",
        "z_merged_converted = []\n",
        "for i in z_merged:\n",
        "  z_merged_converted.append(i*10 + 50)\n",
        "  \n",
        "z_merged_converted = z_merged_converted[z_merged_converted != \"NaN\"]\n",
        "\n",
        "mean_transformed = mean(z_merged_converted)\n",
        "stdev_transformed = std(z_merged_converted)\n",
        "\n",
        "print(\"mean_transformed: \", mean_transformed)\n",
        "print(\"stdev_transformed: \", stdev_transformed)"
      ],
      "execution_count": 0,
      "outputs": [
        {
          "output_type": "stream",
          "text": [
            "mean_transformed:  40.64079682078276\n",
            "stdev_transformed:  0.0\n"
          ],
          "name": "stdout"
        }
      ]
    },
    {
      "cell_type": "markdown",
      "metadata": {
        "id": "KsD59RMgziHr",
        "colab_type": "text"
      },
      "source": [
        "# 10 - Next Steps"
      ]
    },
    {
      "cell_type": "markdown",
      "metadata": {
        "id": "pIAUjFqR0Cas",
        "colab_type": "text"
      },
      "source": [
        "In this lesson, we learned to use z-scores to describe the location of a value within a distribution. We found that z-scores are useful for comparing values coming from different distributions with different means and standard deviations.\n",
        "\n",
        "We also learned to standardize distributions and discussed a few situations where that might be useful. It's worth mentioning that standardization is also useful for some machine learning algorithms that we'll learn about in other courses in future. Also, z-scores in general are key elements in understanding confidence intervals and hypothesis testing."
      ]
    },
    {
      "cell_type": "markdown",
      "metadata": {
        "id": "alRKFWKPJfES",
        "colab_type": "text"
      },
      "source": [
        "# 11 - Extra exercises\n"
      ]
    },
    {
      "cell_type": "markdown",
      "metadata": {
        "id": "CqXJB_BXJ7XQ",
        "colab_type": "text"
      },
      "source": [
        "## 11.1 Normal distribution deviation"
      ]
    },
    {
      "cell_type": "markdown",
      "metadata": {
        "id": "L_uqelKWJ5Lc",
        "colab_type": "text"
      },
      "source": [
        "\n",
        "One cool thing about normal distributions is that for every single one, the same percentage of the data is within one standard deviation of the mean, the same percentage is within two standard deviations of the mean, and so on.\n",
        "\n",
        "About 68% of the data is within one standard deviation, roughly 95% is within two standard deviations, and about 99% is within three standard deviations.\n",
        "\n",
        "This helps us quickly understand where values fall within the data set, as well as how typical or unusual they are."
      ]
    },
    {
      "cell_type": "code",
      "metadata": {
        "id": "rEAQcKZeJfET",
        "colab_type": "code",
        "colab": {}
      },
      "source": [
        "# Housefly wing lengths in millimeters\n",
        "wing_lengths = [36, 37, 38, 38, 39, 39, 40, 40, 40, 40, 41, 41, 41, 41, 41, 41, 42, \n",
        "                42, 42, 42, 42, 42, 42, 43, 43, 43, 43, 43, 43, 43, 43, 44, 44, 44, \n",
        "                44, 44, 44, 44, 44, 44, 45, 45, 45, 45, 45, 45, 45, 45, 45, 45, 46,\n",
        "                46, 46, 46, 46, 46, 46, 46, 46, 46, 47, 47, 47, 47, 47, 47, 47, 47,\n",
        "                47, 48, 48, 48, 48, 48, 48, 48, 48, 49, 49, 49, 49, 49, 49, 49, 50, \n",
        "                50, 50, 50, 50, 50, 51, 51, 51, 51, 52, 52, 53, 53, 54, 55]\n",
        "\n",
        "# centrality variables\n",
        "mean = sum(wing_lengths) / len(wing_lengths)\n",
        "variances = [(i - mean) ** 2 for i in wing_lengths]\n",
        "variance = sum(variances)/ len(variances)\n",
        "standard_deviation = variance ** (1/2)"
      ],
      "execution_count": 0,
      "outputs": []
    },
    {
      "cell_type": "code",
      "metadata": {
        "id": "NLHARFxaJfEX",
        "colab_type": "code",
        "colab": {}
      },
      "source": [
        "# distance to mean in standard deviation unit\n",
        "standard_deviations = [(i - mean)/standard_deviation for i in wing_lengths]"
      ],
      "execution_count": 0,
      "outputs": []
    },
    {
      "cell_type": "code",
      "metadata": {
        "id": "IibsL-JMJfEa",
        "colab_type": "code",
        "colab": {}
      },
      "source": [
        "def within_percentage(deviations, count):\n",
        "    within = [i for i in deviations if -count <= i <= count]\n",
        "    count = len(within)\n",
        "    return count / len(deviations)"
      ],
      "execution_count": 0,
      "outputs": []
    },
    {
      "cell_type": "code",
      "metadata": {
        "id": "Saimar6JJfEd",
        "colab_type": "code",
        "outputId": "152e729b-8cbd-446b-9ce3-b54b1dd1d393",
        "colab": {
          "base_uri": "https://localhost:8080/",
          "height": 297
        }
      },
      "source": [
        "import seaborn as sns\n",
        "import matplotlib.pyplot as plt\n",
        "\n",
        "# create a subfigure (1 row and 2 columns)\n",
        "f, (ax1, ax2) = plt.subplots(1, 2, figsize=(6,4))\n",
        "\n",
        "# histogram of wing_lengths\n",
        "sns.kdeplot(wing_lengths, ax=ax1)\n",
        "\n",
        "# histogram of wing_lengths considering standard deviations\n",
        "sns.kdeplot(standard_deviations, ax=ax2)\n",
        "\n",
        "f.tight_layout()\n",
        "plt.show()"
      ],
      "execution_count": 0,
      "outputs": [
        {
          "output_type": "display_data",
          "data": {
            "image/png": "[encoded data removed]",
            "text/plain": [
              "<Figure size 432x288 with 2 Axes>"
            ]
          },
          "metadata": {
            "tags": []
          }
        }
      ]
    },
    {
      "cell_type": "code",
      "metadata": {
        "id": "LbgAaiFtJfEj",
        "colab_type": "code",
        "outputId": "b55a4245-41b5-42ab-d630-5e723fc61ce4",
        "colab": {
          "base_uri": "https://localhost:8080/",
          "height": 284
        }
      },
      "source": [
        "import seaborn as sns\n",
        "import numpy as np\n",
        "import matplotlib.pyplot as plt\n",
        "\n",
        "# configure size of figure\n",
        "sns.set(rc={'figure.figsize':(6,4)})\n",
        "\n",
        "# How many elements are in [-X std unit, X std unit] of mean\n",
        "distance = 0.6745\n",
        "percentage = within_percentage(standard_deviations,distance)\n",
        "\n",
        "# histogram of wing_lengths using standard_deviations\n",
        "ax = sns.kdeplot(standard_deviations)\n",
        "\n",
        "# get x & y points of histogram\n",
        "x_points, y_points = ax.get_lines()[0].get_data()\n",
        "\n",
        "# interval in standard deviations  \n",
        "filter_ = np.logical_and(x_points >= -distance,x_points <= distance)\n",
        "\n",
        "plt.fill_between(x_points[filter_], y_points[filter_],color='g',alpha=.5)\n",
        "plt.title(\"This area correspond to \" + str(percentage) + \" of all data\")\n",
        "plt.show()"
      ],
      "execution_count": 0,
      "outputs": [
        {
          "output_type": "display_data",
          "data": {
            "image/png": "[encoded data removed]",
            "text/plain": [
              "<Figure size 432x288 with 1 Axes>"
            ]
          },
          "metadata": {
            "tags": []
          }
        }
      ]
    },
    {
      "cell_type": "markdown",
      "metadata": {
        "id": "2zhFU8YcJfEn",
        "colab_type": "text"
      },
      "source": [
        "<br>\n",
        "<div class=\"alert alert-info\">\n",
        "<b>Exercise Start.</b>\n",
        "</div>\n",
        "\n",
        "**Description**:\n",
        "\n",
        "1. For each point in <span style=\"background-color: #F9EBEA; color:##C0392B\">wing_lengths</span>, calculate the distance from the mean in number of standard deviations.\n",
        "2. Calculate the proportion of the data that's within one standard deviation of the mean. Assign the result to <span style=\"background-color: #F9EBEA; color:##C0392B\">within_one_percentage</span>.\n",
        "3. Calculate the proportion of the data that's within two standard deviations of the mean. Assign the result to <span style=\"background-color: #F9EBEA; color:##C0392B\">within_two_percentage</span>.\n",
        "4. Calculate the proportion of the data that's within three standard deviations of the mean. Assign the result to <span style=\"background-color: #F9EBEA; color:##C0392B\">within_three_percentage</span>."
      ]
    },
    {
      "cell_type": "markdown",
      "metadata": {
        "id": "Nt7kMd8sJfEo",
        "colab_type": "text"
      },
      "source": [
        "## 11.2 Z-Table"
      ]
    },
    {
      "cell_type": "code",
      "metadata": {
        "scrolled": false,
        "id": "C-jgBcZzJfEp",
        "colab_type": "code",
        "outputId": "2be18eb5-be50-4834-cd09-a5d91dcfd8ef",
        "colab": {
          "base_uri": "https://localhost:8080/",
          "height": 291
        }
      },
      "source": [
        "import numpy as np\n",
        "import scipy.stats as stats\n",
        "import matplotlib.pyplot as plt\n",
        "\n",
        "## points under study\n",
        "xi = 240\n",
        "mean_facebook = 190\n",
        "std_facebook = 36\n",
        "axis_x = range(0,300)\n",
        "\n",
        "## return the cumulative value from Z-Table\n",
        "cdf = stats.norm.cdf(xi,mean_facebook, std_facebook)\n",
        "\n",
        "## -2std, -std, std, 2std \n",
        "minus2std = mean_facebook - 2*std_facebook\n",
        "minusstd = mean_facebook - std_facebook\n",
        "plus1std = mean_facebook + std_facebook\n",
        "plus2std = mean_facebook + 2*std_facebook\n",
        "\n",
        "## mark points in the plot\n",
        "markers_points = [minus2std, minusstd, mean_facebook, plus1std, plus2std]\n",
        "\n",
        "## find the probability distribution function\n",
        "pdf = stats.norm.pdf(axis_x,mean_facebook,std_facebook)\n",
        "\n",
        "\n",
        "## - line, b -blue, D - diamond\n",
        "plt.plot(axis_x, pdf, '-bD',markevery=markers_points)\n",
        "plt.annotate('$\\mu$',xy=(mean_facebook+4,pdf[mean_facebook]))\n",
        "plt.annotate('$-2\\sigma$',xy=(minus2std-14,pdf[minus2std]))\n",
        "plt.annotate('$-\\sigma$',xy=(minusstd-10,pdf[minusstd]))\n",
        "plt.annotate('$\\sigma$',xy=(plus1std+4,pdf[plus1std]))\n",
        "plt.annotate('$2\\sigma$',xy=(plus2std+4,pdf[plus2std]))\n",
        "\n",
        "## The shaded area is cdf at xi, in other words, cdf[240] = 0.9175667301260455\n",
        "plt.fill_between(axis_x[0:xi], pdf[0:xi],color='g',alpha=.5)\n",
        "\n",
        "plt.show()\n",
        "\n",
        "cdf\n"
      ],
      "execution_count": 0,
      "outputs": [
        {
          "output_type": "display_data",
          "data": {
            "image/png": "[encoded data removed]",
            "text/plain": [
              "<Figure size 432x288 with 1 Axes>"
            ]
          },
          "metadata": {
            "tags": []
          }
        },
        {
          "output_type": "execute_result",
          "data": {
            "text/plain": [
              "0.9175667301260455"
            ]
          },
          "metadata": {
            "tags": []
          },
          "execution_count": 23
        }
      ]
    }
  ]
}