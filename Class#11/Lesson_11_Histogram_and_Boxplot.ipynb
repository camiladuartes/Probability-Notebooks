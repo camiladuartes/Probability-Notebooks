{
  "nbformat": 4,
  "nbformat_minor": 0,
  "metadata": {
    "colab": {
      "name": "Lesson 11 - Histogram and Boxplot.ipynb",
      "version": "0.3.2",
      "provenance": [],
      "collapsed_sections": []
    },
    "kernelspec": {
      "display_name": "Python 3",
      "language": "python",
      "name": "python3"
    }
  },
  "cells": [
    {
      "cell_type": "markdown",
      "metadata": {
        "id": "-8zmP5ry1pzo",
        "colab_type": "text"
      },
      "source": [
        "# 1 - Introduction\n"
      ]
    },
    {
      "cell_type": "markdown",
      "metadata": {
        "id": "SU8iFVPt2e16",
        "colab_type": "text"
      },
      "source": [
        "\n",
        "In the last lesson, we learned how to create bar plots to compare the average user rating a movie received from four movie review sites. We also learned how to create scatter plots to explore how ratings on one site compare with ratings on another site. We ended the mission with the observations that user ratings from Metacritic and Rotten Tomatoes spanned a larger range (1.0 to 5.0) while those from Fandango and IMDB spanned a smaller range (2.5 to 5 and 2 to 5 respectively).\n",
        "\n",
        "In this lesson, we'll learn how to visualize the distributions of user ratings using **histograms** and **box plots**. We'll continue working with the same dataset from the last lesson. Recall that you can download the dataset **fandango_scores.csv** from the [FiveThirtEight Github repo](https://github.com/fivethirtyeight/data/tree/master/fandango). We've read the dataset into pandas, selected the columns we're going to work with, and assigned the new Dataframe to **norm_reviews**."
      ]
    },
    {
      "cell_type": "code",
      "metadata": {
        "id": "l_vCVPY01pzo",
        "colab_type": "code",
        "outputId": "076c363f-96a7-408f-c47b-4900bf6513d6",
        "colab": {
          "base_uri": "https://localhost:8080/",
          "height": 198
        }
      },
      "source": [
        "import pandas as pd\n",
        "import matplotlib.pyplot as plt\n",
        "\n",
        "reviews = pd.read_csv('fandango_scores.csv')\n",
        "cols = ['FILM', 'RT_user_norm', 'Metacritic_user_nom', 'IMDB_norm', 'Fandango_Ratingvalue']\n",
        "norm_reviews = reviews[cols]\n",
        "norm_reviews.head()"
      ],
      "execution_count": 0,
      "outputs": [
        {
          "output_type": "execute_result",
          "data": {
            "text/html": [
              "<div>\n",
              "<style scoped>\n",
              "    .dataframe tbody tr th:only-of-type {\n",
              "        vertical-align: middle;\n",
              "    }\n",
              "\n",
              "    .dataframe tbody tr th {\n",
              "        vertical-align: top;\n",
              "    }\n",
              "\n",
              "    .dataframe thead th {\n",
              "        text-align: right;\n",
              "    }\n",
              "</style>\n",
              "<table border=\"1\" class=\"dataframe\">\n",
              "  <thead>\n",
              "    <tr style=\"text-align: right;\">\n",
              "      <th></th>\n",
              "      <th>FILM</th>\n",
              "      <th>RT_user_norm</th>\n",
              "      <th>Metacritic_user_nom</th>\n",
              "      <th>IMDB_norm</th>\n",
              "      <th>Fandango_Ratingvalue</th>\n",
              "    </tr>\n",
              "  </thead>\n",
              "  <tbody>\n",
              "    <tr>\n",
              "      <th>0</th>\n",
              "      <td>Avengers: Age of Ultron (2015)</td>\n",
              "      <td>4.3</td>\n",
              "      <td>3.55</td>\n",
              "      <td>3.90</td>\n",
              "      <td>4.5</td>\n",
              "    </tr>\n",
              "    <tr>\n",
              "      <th>1</th>\n",
              "      <td>Cinderella (2015)</td>\n",
              "      <td>4.0</td>\n",
              "      <td>3.75</td>\n",
              "      <td>3.55</td>\n",
              "      <td>4.5</td>\n",
              "    </tr>\n",
              "    <tr>\n",
              "      <th>2</th>\n",
              "      <td>Ant-Man (2015)</td>\n",
              "      <td>4.5</td>\n",
              "      <td>4.05</td>\n",
              "      <td>3.90</td>\n",
              "      <td>4.5</td>\n",
              "    </tr>\n",
              "    <tr>\n",
              "      <th>3</th>\n",
              "      <td>Do You Believe? (2015)</td>\n",
              "      <td>4.2</td>\n",
              "      <td>2.35</td>\n",
              "      <td>2.70</td>\n",
              "      <td>4.5</td>\n",
              "    </tr>\n",
              "    <tr>\n",
              "      <th>4</th>\n",
              "      <td>Hot Tub Time Machine 2 (2015)</td>\n",
              "      <td>1.4</td>\n",
              "      <td>1.70</td>\n",
              "      <td>2.55</td>\n",
              "      <td>3.0</td>\n",
              "    </tr>\n",
              "  </tbody>\n",
              "</table>\n",
              "</div>"
            ],
            "text/plain": [
              "                             FILM  RT_user_norm  Metacritic_user_nom  \\\n",
              "0  Avengers: Age of Ultron (2015)           4.3                 3.55   \n",
              "1               Cinderella (2015)           4.0                 3.75   \n",
              "2                  Ant-Man (2015)           4.5                 4.05   \n",
              "3          Do You Believe? (2015)           4.2                 2.35   \n",
              "4   Hot Tub Time Machine 2 (2015)           1.4                 1.70   \n",
              "\n",
              "   IMDB_norm  Fandango_Ratingvalue  \n",
              "0       3.90                   4.5  \n",
              "1       3.55                   4.5  \n",
              "2       3.90                   4.5  \n",
              "3       2.70                   4.5  \n",
              "4       2.55                   3.0  "
            ]
          },
          "metadata": {
            "tags": []
          },
          "execution_count": 2
        }
      ]
    },
    {
      "cell_type": "markdown",
      "metadata": {
        "id": "GRCM4dEk1pzv",
        "colab_type": "text"
      },
      "source": [
        "# 2 - Frequency distribution\n"
      ]
    },
    {
      "cell_type": "markdown",
      "metadata": {
        "id": "dP6RCKsZ29w9",
        "colab_type": "text"
      },
      "source": [
        "\n",
        "Let's first compare the **frequency distributions** of user ratings from Fandango with those from IMDB using tables. A column's [frequency distribution](https://en.wikipedia.org/wiki/Frequency_distribution) consists of the unique values in that column along with the count for each of those values (or their frequency). We can use [Series.value_counts()](http://pandas.pydata.org/pandas-docs/stable/generated/pandas.Series.value_counts.html) to return the frequency distribution as Series object:\n",
        "\n",
        "```python\n",
        "freq_counts = norm_reviews['Fandango_Ratingvalue'].value_counts()\n",
        "```\n",
        "\n",
        "The resulting Series object will be sorted by frequency in descending order:\n",
        "\n",
        "<img width=\"200\" alt=\"creating a repo\" src=\"https://drive.google.com/uc?export=view&id=0BxhVm1REqwr0eDJOdG9qMWJ0MUE\">\n",
        "\n",
        "\n",
        "While this ordering is helpful when we're looking to quickly find the most common values in a given column, it's not helpful when trying to understand the range that the values in the column span. We can use [Series.sort_index()](http://pandas.pydata.org/pandas-docs/stable/generated/pandas.Series.sort_index.html) to sort the frequency distribution in ascending order by the values in the column (which make up the index for the Series object):\n",
        "\n",
        "```python\n",
        "freq_counts = norm_reviews['Fandango_Ratingvalue'].value_counts()\n",
        "sorted_freq_counts = freq_counts.sort_index()\n",
        "```\n",
        "\n",
        "Here's what both frequency distributions look like side-by-side:\n",
        "\n",
        "<img width=\"400\" alt=\"creating a repo\" src=\"https://drive.google.com/uc?export=view&id=0BxhVm1REqwr0QWRWN21mM0FzeVU\">\n",
        "\n",
        "\n",
        "**Exercise**\n",
        "\n",
        "<img width=\"100\" src=\"https://drive.google.com/uc?export=view&id=1E8tR7B9YYUXsU_rddJAyq0FrM0MSelxZ\">\n",
        "\n",
        "\n",
        "\n",
        "**Description**:\n",
        "\n",
        "1. Use the **value_counts()** method to return the frequency counts for the **Fandango_Ratingvalue** column. Sort the resulting Series object by the index and assign to **fandango_distribution**.\n",
        "2. Use the **value_counts()** method to return frequency counts the **IMDB_norm** column. Sort the resulting Series object by the index and assign to **imdb_distribution**.\n",
        "3. Use the **print()** function to display fandango_distribution and **imdb_distribution**."
      ]
    },
    {
      "cell_type": "code",
      "metadata": {
        "id": "sqC0vw_14N4g",
        "colab_type": "code",
        "colab": {}
      },
      "source": [
        "# put your code here\n",
        "fandango_distribution = norm_reviews['Fandango_Ratingvalue'].value_counts().sort_index()\n",
        "imdb_distribution = norm_reviews['IMDB_norm'].value_counts().sort_index()"
      ],
      "execution_count": 0,
      "outputs": []
    },
    {
      "cell_type": "markdown",
      "metadata": {
        "id": "gJB1G7xU1pzv",
        "colab_type": "text"
      },
      "source": [
        "# 3 - Binning\n"
      ]
    },
    {
      "cell_type": "markdown",
      "metadata": {
        "id": "-BDn_pI94ej3",
        "colab_type": "text"
      },
      "source": [
        "\n",
        "Because there are only a few unique values, we can quickly scan the frequency counts and confirm that the **Fandango_Ratingvalue** column ranges from 2.7 to 4.8 while the **IMDB_norm** column ranges from 2 to 4.3. While we can quickly determine the minimum and maximum values, we struggle to answer the following questions about a column:\n",
        "\n",
        "- What percent of the ratings are contained in the 2.0 to 4.0 range?\n",
        "    - How does this compare with other sites?\n",
        "- Which values represent the top 25% of the ratings? The bottom 25%?\n",
        "    - How does this compare with other sites?\n",
        "    \n",
        "Comparing frequency distributions is also challenging because the **Fandango_Ratingvalue** column contains 21 unique values while **IMDB_norm** contains 41 unique values. We need a way to compare frequencies across a shared set of values. Because all ratings have been normalized to a range of 0 to 5, we can start by dividing the range of possible values into a series of fixed length intervals, called **bins**. We can then sum the frequencies for the values that fall into each bin. Here's a diagram that makes binning easier to understand:\n",
        "\n",
        "<img width=\"600\" alt=\"creating a repo\" src=\"https://drive.google.com/uc?export=view&id=0BxhVm1REqwr0eGRDTDR1VExkdkU\">\n",
        "\n",
        "\n",
        "The distributions for both of these columns are now easier to compare because of the shared x-axis (the bins). We can now plot the bins along with the frequency sums as a bar plot. This type of plot is called a [histogram](https://en.wikipedia.org/wiki/Histogram). Let's dive right into creating a histogram in matplotlib.\n"
      ]
    },
    {
      "cell_type": "markdown",
      "metadata": {
        "id": "qGT3mHwU1pzw",
        "colab_type": "text"
      },
      "source": [
        "# 4 - Histogram in matplotlib\n"
      ]
    },
    {
      "cell_type": "markdown",
      "metadata": {
        "id": "M0mbtHc4532N",
        "colab_type": "text"
      },
      "source": [
        "\n",
        "We can generate a histogram using [Axes.hist()](http://matplotlib.org/api/axes_api.html#matplotlib.axes.Axes.hist). This method has only 1 required parameter, an iterable object containing the values we want a histogram for. By default, matplotlib will:\n",
        "\n",
        "- calculate the minimum and maximum value from the sequence of values we passed in\n",
        "- create 10 bins of equal length that span the range from the minimum to the maximum value\n",
        "- group unique values into the bins\n",
        "- sum up the associated unique values\n",
        "- generate a bar for the frequency sum for each bin\n",
        "\n",
        "The default behavior of **Axes.hist()** is problematic for the use case of comparing distributions for multiple columns using the same binning strategy. This is because the binning strategy for each column would depend on the minimum and maximum values, instead of a shared binning strategy. We can use the range parameter to specify the **range** we want matplotlib to use as a tuple:\n",
        "\n",
        "```python\n",
        "ax.hist(norm_reviews['Fandango_Ratingvalue'], range=(0, 5))\n",
        "```\n",
        "\n",
        "While histograms use bars whose lengths are scaled to the values they're representing, they differ from bar plots in a few ways. Histograms help us visualize continuous values using bins while bar plots help us visualize discrete values. The locations of the bars on the x-axis matter in a histogram but they don't in a simple bar plot. Lastly, bar plots also have gaps between the bars, to emphasize that the values are discrete.\n",
        "\n",
        "\n",
        "\n",
        "**Exercise**\n",
        "\n",
        "<img width=\"100\" src=\"https://drive.google.com/uc?export=view&id=1E8tR7B9YYUXsU_rddJAyq0FrM0MSelxZ\">\n",
        "\n",
        "\n",
        "\n",
        "**Description**:\n",
        "\n",
        "1. Create a single subplot and assign the returned Figure object to **fig** and the returned Axes object to **ax**.\n",
        "2. Generate a histogram from the values in the **Fandango_Ratingvalue** column using a range of **0** to **5**.\n",
        "3. Use **plt.show()** to display the plot."
      ]
    },
    {
      "cell_type": "code",
      "metadata": {
        "id": "6gLvYr185-AX",
        "colab_type": "code",
        "outputId": "e1f5a066-ba48-4101-952c-48bf75f005fa",
        "colab": {
          "base_uri": "https://localhost:8080/",
          "height": 324
        }
      },
      "source": [
        "# put your code here\n",
        "fig, ax = plt.subplots()\n",
        "ax.hist(norm_reviews['Fandango_Ratingvalue'], range=(0, 5))"
      ],
      "execution_count": 0,
      "outputs": [
        {
          "output_type": "execute_result",
          "data": {
            "text/plain": [
              "(array([ 0.,  0.,  0.,  0.,  0.,  9., 25., 43., 53., 16.]),\n",
              " array([0. , 0.5, 1. , 1.5, 2. , 2.5, 3. , 3.5, 4. , 4.5, 5. ]),\n",
              " <a list of 10 Patch objects>)"
            ]
          },
          "metadata": {
            "tags": []
          },
          "execution_count": 4
        },
        {
          "output_type": "display_data",
          "data": {
            "image/png": "[encoded data removed]",
            "text/plain": [
              "<Figure size 432x288 with 1 Axes>"
            ]
          },
          "metadata": {
            "tags": []
          }
        }
      ]
    },
    {
      "cell_type": "markdown",
      "metadata": {
        "id": "PshfMRol1pzw",
        "colab_type": "text"
      },
      "source": [
        "# 5 - Comparing histograms\n"
      ]
    },
    {
      "cell_type": "markdown",
      "metadata": {
        "id": "q0fLbvZP6BEd",
        "colab_type": "text"
      },
      "source": [
        "\n",
        "If you recall, one of the questions we were looking to answer was:\n",
        "\n",
        "- What percent of the ratings are contained in the 2.0 to 4.0 range?\n",
        "\n",
        "We can visually examine the proportional area that the bars in the 2.0 to 4.0 range take up and determine that more than 50% of the movies on Fandango fall in this range. We can increase the number of bins from 10 to 20 for improved resolution of the distribution. The length of each bin will be 0.25 (5 / 20) instead of 0.5 (5 / 10). The **bins** parameter for **Axes.hist()** is the 2nd positional parameter, but can also be specified as a named parameter:\n",
        "\n",
        "```python\n",
        "# Either of these will work.\n",
        "ax.hist(norm_reviews['Fandango_Ratingvalue'], 20, range=(0, 5))\n",
        "ax.hist(norm_reviews['Fandango_Ratingvalue'], bins=20, range=(0, 5))\n",
        "```\n",
        "\n",
        "Let's now generate histograms using 20 bins for all four columns. To ensure that the scales for the y-axis are the same for all histograms, let's set them manually using **Axes.set_ylim()**.\n",
        "\n",
        "\n",
        "**Exercise**\n",
        "\n",
        "<img width=\"100\" src=\"https://drive.google.com/uc?export=view&id=1E8tR7B9YYUXsU_rddJAyq0FrM0MSelxZ\">\n",
        "\n",
        "\n",
        "**Description**:\n",
        "\n",
        "1. For the subplot associated with **ax1**:\n",
        "    - Generate a histogram of the values in the **Fandango_Ratingvalue** column using **20 bins** and a range of **0** to **5**.\n",
        "    - Set the title to **Distribution of Fandango Ratings**.\n",
        "2. For the subplot associated with **ax2**:\n",
        "    - Generate a histogram of the values in the **RT_user_norm** column using **20 bins** and a range of **0** to **5**.\n",
        "    - Set the title to **Distribution of Rotten Tomatoes Ratings**.\n",
        "3. For the subplot associated with **ax3**:\n",
        "    - Generate a histogram of the values in the **Metacritic_user_nom** column using **20 bins** and a range of **0** to **5**.\n",
        "    - Set the title to **Distribution of Metacritic Ratings**.\n",
        "4. For the subplot associated with **ax4**:\n",
        "    - Generate a histogram of the values in the **IMDB_norm** column using **20 bins** and a range of **0** to **5**.\n",
        "    - Set the title to **Distribution of IMDB Ratings**.\n",
        "5. For all subplots:\n",
        "    - Set the y-axis range to **0** to **50** using **Axes.set_ylim()**.\n",
        "    - Set the y-axis label to **Frequency** using **Axes.set_ylabel()**.\n",
        "    - Use **plt.show()** to display the plots."
      ]
    },
    {
      "cell_type": "code",
      "metadata": {
        "id": "Qs_7g8Zf6a4b",
        "colab_type": "code",
        "outputId": "86412abb-7b12-4f72-eaef-6833c51960a1",
        "colab": {
          "base_uri": "https://localhost:8080/",
          "height": 336
        }
      },
      "source": [
        "# put your code here\n",
        "fig, ax = plt.subplots(nrows = 1, ncols = 4, figsize=(15, 5))\n",
        "\n",
        "ax[0].hist(norm_reviews['Fandango_Ratingvalue'], bins=20, range=(0, 5))\n",
        "ax[0].set_title(\"Distribution of Fandango Ratings\")\n",
        "\n",
        "ax[1].hist(norm_reviews['RT_user_norm'], bins=20, range=(0, 5))\n",
        "ax[1].set_title(\"Distribution of Rotten Tomatoes Ratings\")\n",
        "\n",
        "ax[2].hist(norm_reviews['Metacritic_user_nom'], bins=20, range=(0, 5))\n",
        "ax[2].set_title(\"Distribution of Metacritic Ratings\")\n",
        "\n",
        "ax[3].hist(norm_reviews['IMDB_norm'], bins=20, range=(0, 5))\n",
        "ax[3].set_title(\"Distribution of IMDB Ratings\")\n",
        "\n",
        "ax[0].set_ylim(0, 50)\n",
        "ax[1].set_ylim(0, 50)\n",
        "ax[2].set_ylim(0, 50)\n",
        "ax[3].set_ylim(0, 50)\n",
        "plt.show()"
      ],
      "execution_count": 0,
      "outputs": [
        {
          "output_type": "display_data",
          "data": {
            "image/png": "[encoded data removed]",
            "text/plain": [
              "<Figure size 1080x360 with 4 Axes>"
            ]
          },
          "metadata": {
            "tags": []
          }
        }
      ]
    },
    {
      "cell_type": "markdown",
      "metadata": {
        "id": "GnQdIocu1pzx",
        "colab_type": "text"
      },
      "source": [
        "# 6 - Quartiles\n"
      ]
    },
    {
      "cell_type": "markdown",
      "metadata": {
        "id": "EPN0S8JoC3aD",
        "colab_type": "text"
      },
      "source": [
        "\n",
        "From the histograms, we can make the following observations:\n",
        "\n",
        "- Around 50% of user ratings from Fandango fall in the 2 to 4 score range\n",
        "- Around 50% of user ratings from Rotten Tomatoes fall in the 2 to 4 score range\n",
        "- Around 75% of the user ratings from Metacritic fall in the 2 to 4 score range\n",
        "- Around 90% of the user ratings from IMDB fall in the 2 to 4 score range\n",
        "\n",
        "While histograms allow us to visually estimate the percentage of ratings that fall into a range of bins, they don't allow us to easily understand how the top 25% or the bottom 25% of the ratings differ across the sites. The bottom 25% of values and top 25% of values both represent [quartiles](https://en.wikipedia.org/wiki/Quartile). The four quartiles divide the range of values into four regions where each region contains 1/4th of the total values.\n",
        "\n",
        "While these regions may sound similar to bins, they differ in how values are grouped into each region. Each bin covers an equal proportion of the values in the range. On the other hand, each quantile covers an equal number of values (1/4th of the total values). To visualize quartiles, we need to use a box plot, also referred to as a [box-and-whisker plot](https://en.wikipedia.org/wiki/Box_plot)."
      ]
    },
    {
      "cell_type": "markdown",
      "metadata": {
        "id": "vP9ayO_91pzy",
        "colab_type": "text"
      },
      "source": [
        "# 7 - Box plot\n"
      ]
    },
    {
      "cell_type": "code",
      "metadata": {
        "id": "oOfmFe2vi7wg",
        "colab_type": "code",
        "colab": {}
      },
      "source": [
        "'''\n",
        ">>> Primeiro quartil: 25% (1/4) dos alunos tiraram entre 1 e 2.5.\n",
        ">>> Segundo quartil: mediana. 50% da turma tirou nota maior que 3.0 e 50% menor que 3.\n",
        ">>> Terceiro quartil: 75% dos alunos tiraram entre 1 e 3.5; 25% dos alunos tiraram entre 3.5 e 4.5\n",
        ">>> IQR(\"Inter quartil rate\"): Se multiplicar por 1.5 são os pontos fora da curva\n",
        "e devem ser eliminados da base de dados.\n",
        "        Distância inter quartil grande(iqr grande): dados espalhados.\n",
        "'''"
      ],
      "execution_count": 0,
      "outputs": []
    },
    {
      "cell_type": "markdown",
      "metadata": {
        "id": "bqwngH_T7SVe",
        "colab_type": "text"
      },
      "source": [
        "\n",
        "A box plot consists of **box-and-whisker** diagrams, which represents the different quartiles in a visual way. Here's a box plot of the values in the **RT_user_norm** column:\n",
        "\n",
        "<img width=\"400\" alt=\"creating a repo\" src=\"https://drive.google.com/uc?export=view&id=0BxhVm1REqwr0R1loNlM0cjI5ZU0\">\n",
        "\n",
        "The two regions contained within the box in the middle make up the **interquartile range**, or **IQR**. The [IQR](https://en.wikipedia.org/wiki/Interquartile_range) is used to measure dispersion of the values. The ratio of the length of the box to the whiskers around the box helps us understand how values in the distribution are spread out.\n",
        "\n",
        "We can generate a boxplot using [Axes.boxplot()](http://matplotlib.org/api/axes_api.html#matplotlib.axes.Axes.boxplot).\n",
        "\n",
        "```python\n",
        "ax.boxplot(norm_reviews['RT_user_norm'])\n",
        "```\n",
        "\n",
        "Matplotlib will sort the values, calculate the quartiles that divide the values into four equal regions, and generate the box and whisker diagram.\n",
        "\n",
        "\n",
        "**Exercise**\n",
        "\n",
        "<img width=\"100\" src=\"https://drive.google.com/uc?export=view&id=1E8tR7B9YYUXsU_rddJAyq0FrM0MSelxZ\">\n",
        "\n",
        "**Description**:\n",
        "\n",
        "1. Create a single subplot and assign the returned Figure object to **fig** and the returned Axes object to **ax**.\n",
        "2. Generate a box plot from the values in the **RT_user_norm** column.\n",
        "    - Set the y-axis limit to range from **0** to **5**.\n",
        "    - Set the x-axis tick label to **Rotten Tomatoes**.\n",
        "3. Use **plt.show()** to display the plot."
      ]
    },
    {
      "cell_type": "code",
      "metadata": {
        "id": "t5OuU7Co7ceX",
        "colab_type": "code",
        "outputId": "fb83886c-4bd2-4c85-93b3-48d12cb34146",
        "colab": {
          "base_uri": "https://localhost:8080/",
          "height": 284
        }
      },
      "source": [
        "# put your code here\n",
        "fig, ax = plt.subplots()\n",
        "ax.boxplot(norm_reviews['RT_user_norm'])\n",
        "ax.set_ylim(0, 5)\n",
        "plt.xlabel('Rotten Tomatoes')\n",
        "plt.show()"
      ],
      "execution_count": 0,
      "outputs": [
        {
          "output_type": "display_data",
          "data": {
            "image/png": "[encoded data removed]",
            "text/plain": [
              "<Figure size 432x288 with 1 Axes>"
            ]
          },
          "metadata": {
            "tags": []
          }
        }
      ]
    },
    {
      "cell_type": "markdown",
      "metadata": {
        "id": "2D5g7cwr1pzz",
        "colab_type": "text"
      },
      "source": [
        "# 8 -  Multiple box plots\n"
      ]
    },
    {
      "cell_type": "markdown",
      "metadata": {
        "id": "Dqa7pC71C6gV",
        "colab_type": "text"
      },
      "source": [
        "\n",
        "From the box plot we generated using Rotten Tomatoes ratings, we can conclude that:\n",
        "- the bottom 25% of user ratings range from around 1 to 2.5\n",
        "- the top 25% of of user ratings range from around 4 to 4.6\n",
        "\n",
        "To compare the lower and upper ranges with those for the other columns, we need to generate multiple box-and-whisker diagrams in the same box plot. When selecting multiple columns to pass in to **Axes.boxplot()**, we need to use the **values** accessor to return a multi-dimensional numpy array:\n",
        "\n",
        "```ptyhon\n",
        "num_cols = ['RT_user_norm', 'Metacritic_user_nom', 'IMDB_norm', 'Fandango_Ratingvalue', 'Fandango_Stars']\n",
        "ax.boxplot(norm_reviews[num_cols].values)\n",
        "```\n",
        "\n",
        "**Exercise**\n",
        "\n",
        "<img width=\"100\" src=\"https://drive.google.com/uc?export=view&id=1E8tR7B9YYUXsU_rddJAyq0FrM0MSelxZ\">\n",
        "\n",
        "\n",
        "**Description**:\n",
        "\n",
        "1. Create a single subplot and assign the returned Figure object to **fig** and the returned Axes object to **ax**.\n",
        "2. Generate a box plot containing a box-and-whisker diagram for each column in **num_cols**.\n",
        "3. Set the x-axis tick labels to the column names in **num_cols** and rotate the ticks by **90 degrees**.\n",
        "4. Set the y-axis limit to range from **0** to **5**.\n",
        "5. Use **plt.show()** to display the plot."
      ]
    },
    {
      "cell_type": "code",
      "metadata": {
        "id": "BiJookL_7ivR",
        "colab_type": "code",
        "outputId": "64793516-0648-4b24-9bf8-2527e6dfea89",
        "colab": {
          "base_uri": "https://localhost:8080/",
          "height": 375
        }
      },
      "source": [
        "# put your code here\n",
        "fig, ax = plt.subplots()\n",
        "num_cols = ['RT_user_norm', 'Metacritic_user_nom', 'IMDB_norm', 'Fandango_Ratingvalue', 'Fandango_Stars']\n",
        "ax.boxplot(reviews[num_cols].values)\n",
        "ax.set_xticklabels(num_cols, rotation=90)\n",
        "ax.set_ylim(0, 5)\n",
        "plt.show()\n",
        "# norm_reviews.head()"
      ],
      "execution_count": 0,
      "outputs": [
        {
          "output_type": "display_data",
          "data": {
            "image/png": "[encoded data removed]",
            "text/plain": [
              "<Figure size 432x288 with 1 Axes>"
            ]
          },
          "metadata": {
            "tags": []
          }
        }
      ]
    },
    {
      "cell_type": "markdown",
      "metadata": {
        "id": "fvPVGsQ_1pz0",
        "colab_type": "text"
      },
      "source": [
        "# 9 - Conclusion\n",
        "\n",
        "From the boxplot, we can reach the following conclusions:\n",
        "\n",
        "- user ratings from Rotten Tomatoes and Metacritic span a larger range of values\n",
        "- user ratings from IMDB and Fandango are both skewed in the positive direction and span a more constrained range of values"
      ]
    }
  ]
}